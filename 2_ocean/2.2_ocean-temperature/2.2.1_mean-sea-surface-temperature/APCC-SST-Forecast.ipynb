{
 "cells": [
  {
   "cell_type": "code",
   "execution_count": 1,
   "id": "925b4ebc",
   "metadata": {
    "scrolled": true
   },
   "outputs": [
    {
     "name": "stdout",
     "output_type": "stream",
     "text": [
      "Intel MKL WARNING: Support of Intel(R) Streaming SIMD Extensions 4.2 (Intel(R) SSE4.2) enabled only processors has been deprecated. Intel oneAPI Math Kernel Library 2025.0 will require Intel(R) Advanced Vector Extensions (Intel(R) AVX) instructions.\n",
      "Intel MKL WARNING: Support of Intel(R) Streaming SIMD Extensions 4.2 (Intel(R) SSE4.2) enabled only processors has been deprecated. Intel oneAPI Math Kernel Library 2025.0 will require Intel(R) Advanced Vector Extensions (Intel(R) AVX) instructions.\n"
     ]
    }
   ],
   "source": [
    "import os\n",
    "import xarray as xr\n",
    "import geopandas as gpd\n",
    "from shapely.geometry import Point\n",
    "import pandas as pd\n",
    "MMEFORECAST = \"./MME-HRES/FORECAST/6-MON/\""
   ]
  },
  {
   "cell_type": "code",
   "execution_count": 2,
   "id": "d8de4699",
   "metadata": {},
   "outputs": [],
   "source": [
    "month_order = {\n",
    "    'JAN': 1, 'FEB': 2, 'MAR': 3, 'APR': 4, 'MAY': 5, 'JUN': 6,\n",
    "    'JUL': 7, 'AUG': 8, 'SEP': 9, 'OCT': 10, 'NOV': 11, 'DEC': 12\n",
    "}\n",
    "\n",
    "# Function to extract the date components from MME filename\n",
    "def extract_date(filename):\n",
    "    parts = filename.split('-')\n",
    "#     print(parts)\n",
    "    month = parts[-3]\n",
    "#     print(int(parts[-2]), month_order[month])\n",
    "    return int(parts[-2]), month_order[month]"
   ]
  },
  {
   "cell_type": "code",
   "execution_count": 3,
   "id": "b63ad0e8",
   "metadata": {},
   "outputs": [],
   "source": [
    "def palau_eez(df):\n",
    "    df_eez = gpd.read_file('./palauEEZ.geojson')\n",
    "    eez = df_eez['geometry'].values[0]\n",
    "    in_palau = []\n",
    "    longlat = df[['lon','lat']].values.tolist()\n",
    "    for x in longlat:\n",
    "        point = Point(x[0],x[1])\n",
    "        if eez.contains(point) or point.within(eez):\n",
    "            in_palau.append((x[0],x[1]))\n",
    "    return df[df[['lon', 'lat']].apply(tuple, axis=1).isin(in_palau)]"
   ]
  },
  {
   "cell_type": "code",
   "execution_count": 4,
   "id": "6a9c6e60",
   "metadata": {},
   "outputs": [],
   "source": [
    "def filter_box(df):\n",
    "    if \"lat\" in df:\n",
    "        filtered = df[(df[\"lat\"]> 1.6214-0.25)&\n",
    "                                    (df[\"lat\"]< 11.5587+0.1)&(df[\"lon\"]<136.9541+0.1)&\n",
    "                                    (df[\"lon\"]>129.5088-0.1)]\n",
    "    else:\n",
    "        filtered = df[(df[\"latitude\"]> 1.6214-0.25)&\n",
    "                                    (df[\"latitude\"]< 11.5587+0.1)&(df[\"longitude\"]<136.9541+0.1)&\n",
    "                                    (df[\"longitude\"]>129.5088-0.1)]\n",
    "    return filtered"
   ]
  },
  {
   "cell_type": "code",
   "execution_count": 5,
   "id": "e5f0823f",
   "metadata": {},
   "outputs": [],
   "source": [
    "def assign_sst(row):\n",
    "    below = [\"#1400d3\",\"#2864ff\",\"#54affe\",\"#75d2fe\",\"#bdfffe\",\"#ffffff\"]\n",
    "    normal = [\"#ffffff\",\"#d2d2d2\",\"#a0a0a0\",\"#828282\",\"#646464\",\"#464646\"]\n",
    "    above = [\"#ffffff\", \"#ffeeb6\",\"#ffd18d\",\"#ff8e74\",\"#ff2b00\",\"#d6142e\"]\n",
    "    if row['level'] == 1.0:\n",
    "        if row['sst'] > 80:\n",
    "            return below[0]\n",
    "        elif row['sst'] > 70:\n",
    "            return below[1]\n",
    "        elif row['sst'] > 60:\n",
    "            return below[2]\n",
    "        elif row['sst'] > 50:\n",
    "            return below[3]\n",
    "        elif row['sst'] > 40:\n",
    "            return below[4] \n",
    "        else:\n",
    "            return below[5]\n",
    "    elif row['level'] == 2.0:\n",
    "        \n",
    "        if row['sst'] > 80:\n",
    "            return normal[5]\n",
    "        elif row['sst'] > 70:\n",
    "            return normal[4]\n",
    "        elif row['sst'] > 60:\n",
    "            return normal[3]\n",
    "        elif row['sst'] > 50:\n",
    "            return normal[2]\n",
    "        elif row['sst'] > 40:\n",
    "            return normal[1] \n",
    "        else:\n",
    "            return normal[0]\n",
    "        \n",
    "    \n",
    "    elif row['level'] == 3.0:\n",
    "        if row['sst'] > 80:\n",
    "            return above[5]\n",
    "        elif row['sst'] > 70:\n",
    "            return above[4]\n",
    "        elif row['sst'] > 60:\n",
    "            return above[3]\n",
    "        elif row['sst'] > 50:\n",
    "            return above[2]\n",
    "        elif row['sst'] > 40:\n",
    "            return above[1] \n",
    "        else:\n",
    "            return above[0]"
   ]
  },
  {
   "cell_type": "code",
   "execution_count": 6,
   "id": "e1205324",
   "metadata": {},
   "outputs": [],
   "source": [
    "def assign_prec(row):\n",
    "    below = [\"#2f1201\",\"#662b01\",\"#9a6030\",\"#ce9b7c\",\"#e0c0ab\",\"#ffffff\"]\n",
    "    normal = [\"#ffffff\",\"#d2d2d2\",\"#a0a0a0\",\"#828282\",\"#646464\",\"#464646\"]\n",
    "    above = [\"#ffffff\", \"#b3fafe\",\"#66f0fe\",\"#2fe4ff\",\"#00aacd\",\"#007b9a\"]\n",
    "    if row['level'] == 1.0:\n",
    "        if row['prec'] > 80:\n",
    "            return below[0]\n",
    "        elif row['prec'] > 70:\n",
    "            return below[1]\n",
    "        elif row['prec'] > 60:\n",
    "            return below[2]\n",
    "        elif row['prec'] > 50:\n",
    "            return below[3]\n",
    "        elif row['prec'] > 40:\n",
    "            return below[4] \n",
    "        else:\n",
    "            return below[5]\n",
    "    elif row['level'] == 2.0:\n",
    "        \n",
    "        if row['prec'] > 80:\n",
    "            return normal[5]\n",
    "        elif row['prec'] > 70:\n",
    "            return normal[4]\n",
    "        elif row['prec'] > 60:\n",
    "            return normal[3]\n",
    "        elif row['prec'] > 50:\n",
    "            return normal[2]\n",
    "        elif row['prec'] > 40:\n",
    "            return normal[1] \n",
    "        else:\n",
    "            return normal[0]\n",
    "        \n",
    "    \n",
    "    elif row['level'] == 3.0:\n",
    "        if row['prec'] > 80:\n",
    "            return above[5]\n",
    "        elif row['prec'] > 70:\n",
    "            return above[4]\n",
    "        elif row['prec'] > 60:\n",
    "            return above[3]\n",
    "        elif row['prec'] > 50:\n",
    "            return above[2]\n",
    "        elif row['prec'] > 40:\n",
    "            return above[1] \n",
    "        else:\n",
    "            return above[0]\n",
    "    else:\n",
    "        return None"
   ]
  },
  {
   "cell_type": "code",
   "execution_count": 7,
   "id": "9b4c377c",
   "metadata": {},
   "outputs": [],
   "source": [
    "current_prec = [x for x in os.listdir(MMEFORECAST) if 'prec' in x and 'GAUS' in x]\n",
    "current_sst = [x for x in os.listdir(MMEFORECAST) if 'sst' in x and 'GAUS' in x]"
   ]
  },
  {
   "cell_type": "code",
   "execution_count": 8,
   "id": "35c4f425",
   "metadata": {},
   "outputs": [],
   "source": [
    "# Sort filenames based on date components\n",
    "sorted_sst = sorted(current_sst, key=extract_date)\n",
    "\n",
    "# Get the newest file\n",
    "newest_sst = sorted_sst[-1]\n",
    "\n",
    "# Sort filenames based on date components\n",
    "sorted_prec = sorted(current_prec, key=extract_date)\n",
    "\n",
    "# Get the newest file\n",
    "newest_prec = sorted_prec[-1]"
   ]
  },
  {
   "cell_type": "code",
   "execution_count": 9,
   "id": "5c9cc00e",
   "metadata": {},
   "outputs": [],
   "source": [
    "newest_xr_prec = xr.open_dataset(MMEFORECAST + newest_prec)\n",
    "newest_xr_sst = xr.open_dataset(MMEFORECAST + newest_sst)"
   ]
  },
  {
   "cell_type": "code",
   "execution_count": 10,
   "id": "3b1e55b4",
   "metadata": {},
   "outputs": [],
   "source": [
    "sst_df = newest_xr_sst.to_dataframe()\n",
    "sst_df.reset_index(inplace = True)\n",
    "sst_df = filter_box(sst_df)\n",
    "sst_df = sst_df.rename(columns={'lat': 'latitude', 'lon': 'longitude'})\n",
    "\n",
    "prec_df = newest_xr_prec.to_dataframe()\n",
    "prec_df.reset_index(inplace = True)\n",
    "prec_df = filter_box(prec_df)\n",
    "prec_df = prec_df.rename(columns={'lat': 'latitude', 'lon': 'longitude'})"
   ]
  },
  {
   "cell_type": "code",
   "execution_count": 11,
   "id": "ad177ea1",
   "metadata": {},
   "outputs": [
    {
     "data": {
      "text/html": [
       "<div>\n",
       "<style scoped>\n",
       "    .dataframe tbody tr th:only-of-type {\n",
       "        vertical-align: middle;\n",
       "    }\n",
       "\n",
       "    .dataframe tbody tr th {\n",
       "        vertical-align: top;\n",
       "    }\n",
       "\n",
       "    .dataframe thead th {\n",
       "        text-align: right;\n",
       "    }\n",
       "</style>\n",
       "<table border=\"1\" class=\"dataframe\">\n",
       "  <thead>\n",
       "    <tr style=\"text-align: right;\">\n",
       "      <th></th>\n",
       "      <th>time</th>\n",
       "      <th>level</th>\n",
       "      <th>latitude</th>\n",
       "      <th>longitude</th>\n",
       "      <th>sst</th>\n",
       "    </tr>\n",
       "  </thead>\n",
       "  <tbody>\n",
       "    <tr>\n",
       "      <th>32889</th>\n",
       "      <td>2024-03-01</td>\n",
       "      <td>1.0</td>\n",
       "      <td>1.5</td>\n",
       "      <td>129.5</td>\n",
       "      <td>78.327492</td>\n",
       "    </tr>\n",
       "    <tr>\n",
       "      <th>32890</th>\n",
       "      <td>2024-03-01</td>\n",
       "      <td>1.0</td>\n",
       "      <td>1.5</td>\n",
       "      <td>130.5</td>\n",
       "      <td>82.758385</td>\n",
       "    </tr>\n",
       "    <tr>\n",
       "      <th>32891</th>\n",
       "      <td>2024-03-01</td>\n",
       "      <td>1.0</td>\n",
       "      <td>1.5</td>\n",
       "      <td>131.5</td>\n",
       "      <td>86.438408</td>\n",
       "    </tr>\n",
       "    <tr>\n",
       "      <th>32892</th>\n",
       "      <td>2024-03-01</td>\n",
       "      <td>1.0</td>\n",
       "      <td>1.5</td>\n",
       "      <td>132.5</td>\n",
       "      <td>86.200485</td>\n",
       "    </tr>\n",
       "    <tr>\n",
       "      <th>32893</th>\n",
       "      <td>2024-03-01</td>\n",
       "      <td>1.0</td>\n",
       "      <td>1.5</td>\n",
       "      <td>133.5</td>\n",
       "      <td>85.401131</td>\n",
       "    </tr>\n",
       "    <tr>\n",
       "      <th>...</th>\n",
       "      <td>...</td>\n",
       "      <td>...</td>\n",
       "      <td>...</td>\n",
       "      <td>...</td>\n",
       "      <td>...</td>\n",
       "    </tr>\n",
       "    <tr>\n",
       "      <th>1526892</th>\n",
       "      <td>2024-08-01</td>\n",
       "      <td>4.0</td>\n",
       "      <td>11.5</td>\n",
       "      <td>132.5</td>\n",
       "      <td>190.887711</td>\n",
       "    </tr>\n",
       "    <tr>\n",
       "      <th>1526893</th>\n",
       "      <td>2024-08-01</td>\n",
       "      <td>4.0</td>\n",
       "      <td>11.5</td>\n",
       "      <td>133.5</td>\n",
       "      <td>190.962128</td>\n",
       "    </tr>\n",
       "    <tr>\n",
       "      <th>1526894</th>\n",
       "      <td>2024-08-01</td>\n",
       "      <td>4.0</td>\n",
       "      <td>11.5</td>\n",
       "      <td>134.5</td>\n",
       "      <td>190.991486</td>\n",
       "    </tr>\n",
       "    <tr>\n",
       "      <th>1526895</th>\n",
       "      <td>2024-08-01</td>\n",
       "      <td>4.0</td>\n",
       "      <td>11.5</td>\n",
       "      <td>135.5</td>\n",
       "      <td>190.996185</td>\n",
       "    </tr>\n",
       "    <tr>\n",
       "      <th>1526896</th>\n",
       "      <td>2024-08-01</td>\n",
       "      <td>4.0</td>\n",
       "      <td>11.5</td>\n",
       "      <td>136.5</td>\n",
       "      <td>190.783875</td>\n",
       "    </tr>\n",
       "  </tbody>\n",
       "</table>\n",
       "<p>2112 rows × 5 columns</p>\n",
       "</div>"
      ],
      "text/plain": [
       "              time  level  latitude  longitude         sst\n",
       "32889   2024-03-01    1.0       1.5      129.5   78.327492\n",
       "32890   2024-03-01    1.0       1.5      130.5   82.758385\n",
       "32891   2024-03-01    1.0       1.5      131.5   86.438408\n",
       "32892   2024-03-01    1.0       1.5      132.5   86.200485\n",
       "32893   2024-03-01    1.0       1.5      133.5   85.401131\n",
       "...            ...    ...       ...        ...         ...\n",
       "1526892 2024-08-01    4.0      11.5      132.5  190.887711\n",
       "1526893 2024-08-01    4.0      11.5      133.5  190.962128\n",
       "1526894 2024-08-01    4.0      11.5      134.5  190.991486\n",
       "1526895 2024-08-01    4.0      11.5      135.5  190.996185\n",
       "1526896 2024-08-01    4.0      11.5      136.5  190.783875\n",
       "\n",
       "[2112 rows x 5 columns]"
      ]
     },
     "execution_count": 11,
     "metadata": {},
     "output_type": "execute_result"
    }
   ],
   "source": [
    "sst_df"
   ]
  },
  {
   "cell_type": "code",
   "execution_count": 12,
   "id": "5e4e7019",
   "metadata": {},
   "outputs": [
    {
     "data": {
      "text/html": [
       "<div>\n",
       "<style scoped>\n",
       "    .dataframe tbody tr th:only-of-type {\n",
       "        vertical-align: middle;\n",
       "    }\n",
       "\n",
       "    .dataframe tbody tr th {\n",
       "        vertical-align: top;\n",
       "    }\n",
       "\n",
       "    .dataframe thead th {\n",
       "        text-align: right;\n",
       "    }\n",
       "</style>\n",
       "<table border=\"1\" class=\"dataframe\">\n",
       "  <thead>\n",
       "    <tr style=\"text-align: right;\">\n",
       "      <th></th>\n",
       "      <th>time</th>\n",
       "      <th>level</th>\n",
       "      <th>latitude</th>\n",
       "      <th>longitude</th>\n",
       "      <th>prec</th>\n",
       "    </tr>\n",
       "  </thead>\n",
       "  <tbody>\n",
       "    <tr>\n",
       "      <th>32889</th>\n",
       "      <td>2024-03-01</td>\n",
       "      <td>1.0</td>\n",
       "      <td>1.5</td>\n",
       "      <td>129.5</td>\n",
       "      <td>44.504322</td>\n",
       "    </tr>\n",
       "    <tr>\n",
       "      <th>32890</th>\n",
       "      <td>2024-03-01</td>\n",
       "      <td>1.0</td>\n",
       "      <td>1.5</td>\n",
       "      <td>130.5</td>\n",
       "      <td>44.511749</td>\n",
       "    </tr>\n",
       "    <tr>\n",
       "      <th>32891</th>\n",
       "      <td>2024-03-01</td>\n",
       "      <td>1.0</td>\n",
       "      <td>1.5</td>\n",
       "      <td>131.5</td>\n",
       "      <td>45.827446</td>\n",
       "    </tr>\n",
       "    <tr>\n",
       "      <th>32892</th>\n",
       "      <td>2024-03-01</td>\n",
       "      <td>1.0</td>\n",
       "      <td>1.5</td>\n",
       "      <td>132.5</td>\n",
       "      <td>45.870190</td>\n",
       "    </tr>\n",
       "    <tr>\n",
       "      <th>32893</th>\n",
       "      <td>2024-03-01</td>\n",
       "      <td>1.0</td>\n",
       "      <td>1.5</td>\n",
       "      <td>133.5</td>\n",
       "      <td>48.437233</td>\n",
       "    </tr>\n",
       "    <tr>\n",
       "      <th>...</th>\n",
       "      <td>...</td>\n",
       "      <td>...</td>\n",
       "      <td>...</td>\n",
       "      <td>...</td>\n",
       "      <td>...</td>\n",
       "    </tr>\n",
       "    <tr>\n",
       "      <th>1526892</th>\n",
       "      <td>2024-08-01</td>\n",
       "      <td>4.0</td>\n",
       "      <td>11.5</td>\n",
       "      <td>132.5</td>\n",
       "      <td>-51.815342</td>\n",
       "    </tr>\n",
       "    <tr>\n",
       "      <th>1526893</th>\n",
       "      <td>2024-08-01</td>\n",
       "      <td>4.0</td>\n",
       "      <td>11.5</td>\n",
       "      <td>133.5</td>\n",
       "      <td>-52.566231</td>\n",
       "    </tr>\n",
       "    <tr>\n",
       "      <th>1526894</th>\n",
       "      <td>2024-08-01</td>\n",
       "      <td>4.0</td>\n",
       "      <td>11.5</td>\n",
       "      <td>134.5</td>\n",
       "      <td>-52.454903</td>\n",
       "    </tr>\n",
       "    <tr>\n",
       "      <th>1526895</th>\n",
       "      <td>2024-08-01</td>\n",
       "      <td>4.0</td>\n",
       "      <td>11.5</td>\n",
       "      <td>135.5</td>\n",
       "      <td>-52.330219</td>\n",
       "    </tr>\n",
       "    <tr>\n",
       "      <th>1526896</th>\n",
       "      <td>2024-08-01</td>\n",
       "      <td>4.0</td>\n",
       "      <td>11.5</td>\n",
       "      <td>136.5</td>\n",
       "      <td>-51.783989</td>\n",
       "    </tr>\n",
       "  </tbody>\n",
       "</table>\n",
       "<p>2112 rows × 5 columns</p>\n",
       "</div>"
      ],
      "text/plain": [
       "              time  level  latitude  longitude       prec\n",
       "32889   2024-03-01    1.0       1.5      129.5  44.504322\n",
       "32890   2024-03-01    1.0       1.5      130.5  44.511749\n",
       "32891   2024-03-01    1.0       1.5      131.5  45.827446\n",
       "32892   2024-03-01    1.0       1.5      132.5  45.870190\n",
       "32893   2024-03-01    1.0       1.5      133.5  48.437233\n",
       "...            ...    ...       ...        ...        ...\n",
       "1526892 2024-08-01    4.0      11.5      132.5 -51.815342\n",
       "1526893 2024-08-01    4.0      11.5      133.5 -52.566231\n",
       "1526894 2024-08-01    4.0      11.5      134.5 -52.454903\n",
       "1526895 2024-08-01    4.0      11.5      135.5 -52.330219\n",
       "1526896 2024-08-01    4.0      11.5      136.5 -51.783989\n",
       "\n",
       "[2112 rows x 5 columns]"
      ]
     },
     "execution_count": 12,
     "metadata": {},
     "output_type": "execute_result"
    }
   ],
   "source": [
    "prec_df"
   ]
  },
  {
   "cell_type": "code",
   "execution_count": 13,
   "id": "a2ca8f05",
   "metadata": {},
   "outputs": [],
   "source": [
    "from pandas import Timestamp"
   ]
  },
  {
   "cell_type": "code",
   "execution_count": 14,
   "id": "5372d443",
   "metadata": {},
   "outputs": [],
   "source": [
    "from sklearn.neighbors import NearestNeighbors\n",
    "from geopandas import GeoDataFrame\n",
    "from geovoronoi.plotting import subplot_for_map, plot_voronoi_polys_with_points_in_area\n",
    "from geovoronoi import voronoi_regions_from_coords, points_to_coords\n",
    "from shapely.ops import cascaded_union\n",
    "from matplotlib.cm import ScalarMappable\n",
    "import matplotlib as mpl\n",
    "import numpy as np\n",
    "import matplotlib.pyplot as plt\n",
    "import json"
   ]
  },
  {
   "cell_type": "code",
   "execution_count": 15,
   "id": "9c2d82d5",
   "metadata": {},
   "outputs": [],
   "source": [
    "from shapely import geometry\n",
    "p1 = geometry.Point(129.5088 -0.1,1.6214-0.25)\n",
    "p2 = geometry.Point(136.9541 + 0.1, 1.6214-0.25)\n",
    "p3 = geometry.Point(136.9541+0.1,11.5587+0.1)\n",
    "p4 = geometry.Point(129.5088-0.1,11.5587+0.1)\n",
    "\n",
    "pointList = [p1, p2, p3, p4, p1]\n",
    "poly = geometry.Polygon([[p.x, p.y] for p in pointList])\n",
    "\n",
    "sdf = pd.DataFrame(\n",
    "    {\n",
    "        \"Country\": [\"Palau\"],\n",
    "        \"geometry\": [poly\n",
    "        ],\n",
    "    }\n",
    ")\n",
    "gdf = gpd.GeoDataFrame(sdf, geometry=\"geometry\")\n",
    "# gdf.to_file('palau_rectangle_with_margins.json', driver='GeoJSON')"
   ]
  },
  {
   "cell_type": "code",
   "execution_count": 16,
   "id": "978a68e1",
   "metadata": {},
   "outputs": [
    {
     "name": "stderr",
     "output_type": "stream",
     "text": [
      "/var/folders/d6/w300s4cx3qj10pqdcy5859bc0000gn/T/ipykernel_37129/3925461924.py:3: FutureWarning: Currently, index_parts defaults to True, but in the future, it will default to False to be consistent with Pandas. Use `index_parts=True` to keep the current behavior and True/False to silence the warning.\n",
      "  boundary = boundary.explode()\n",
      "/var/folders/d6/w300s4cx3qj10pqdcy5859bc0000gn/T/ipykernel_37129/3925461924.py:5: ShapelyDeprecationWarning: The 'cascaded_union()' function is deprecated. Use 'unary_union()' instead.\n",
      "  boundary_shape = cascaded_union(boundary.geometry)\n"
     ]
    }
   ],
   "source": [
    "# boundary = gpd.read_file('palauEEZ.geojson')\n",
    "boundary = gdf\n",
    "boundary = boundary.explode()\n",
    "boundary = boundary.set_crs(crs=\"EPSG:3395\", allow_override=True)\n",
    "boundary_shape = cascaded_union(boundary.geometry)\n",
    "\n",
    "df_eez = gpd.read_file('palauEEZ.geojson')\n",
    "eez = df_eez['geometry'].values[0]\n",
    "\n",
    "def getSSTJSON(df, time = Timestamp('2024-03-01 00:00:00')):\n",
    "    df_slice = df[df['time'] == time]\n",
    "    \n",
    "    max_index = df_slice[df_slice['level']!=4.0].groupby(['latitude', 'longitude', 'time'])['sst'].idxmax()\n",
    "    df_slice = df.loc[max_index]\n",
    "\n",
    "\n",
    "    coordinates = df_slice[['latitude','longitude','sst']]\n",
    "    coordinates = coordinates.drop_duplicates()\n",
    "\n",
    "    df_slice = df_slice.sort_values(by=['longitude','latitude'], ascending=[False,True])\n",
    "    df_slice['new_col'] = list(zip(df_slice.latitude, df_slice.longitude))#         coordinates = coordinates.drop_duplicates()\n",
    "    coordinates = []\n",
    "\n",
    "    for c in df_slice['new_col']:\n",
    "        coordinates.append([c[0],c[1]])\n",
    "    points = []\n",
    "    for x in coordinates:\n",
    "        points.append(Point(x[1],x[0]))\n",
    "        \n",
    "    points_gdf = GeoDataFrame(crs=\"EPSG:3395\", geometry=points)\n",
    "    gdf_proj = points_gdf.to_crs(boundary.crs)\n",
    "\n",
    "    coords = points_to_coords(gdf_proj.geometry)\n",
    "    poly_shapes, pts = voronoi_regions_from_coords(coords, boundary_shape)\n",
    "    voronoi_poly = GeoDataFrame(crs=\"EPSG:3395\", geometry=list(poly_shapes.values()))\n",
    "    \n",
    "    longitude = []\n",
    "    latitude = []\n",
    "    for pt in pts:\n",
    "        longitude.append(coords[pt][0])\n",
    "        latitude.append(coords[pt][1])\n",
    "    voronoi_poly[\"longitude\"] = longitude\n",
    "    voronoi_poly[\"latitude\"] = latitude\n",
    "\n",
    "    \n",
    "    df_slice = df_slice.drop(['new_col'], axis=1)\n",
    "    \n",
    "\n",
    "    df_slice['geometry'] = voronoi_poly.sort_values(by=['longitude','latitude'], ascending=[False,True])['geometry'].tolist()\n",
    "    df_slice = df_slice.reset_index()\n",
    "    df_slice = df_slice.drop('index',axis=1)\n",
    "    \n",
    "    json_gdf = GeoDataFrame(df_slice,crs=\"EPSG:3395\")\n",
    "    \n",
    "    palau_land = gpd.read_file('palau.geojson')\n",
    "    palau_land = palau_land.drop(['type','id','tags','meta'],axis = 1)\n",
    "    palau_land = palau_land[palau_land.geometry.type != 'LineString']\n",
    "    trimmed = gpd.overlay(json_gdf,palau_land, how='difference')\n",
    "    \n",
    "    palau_eez = gpd.read_file('palauEEZ.geojson')\n",
    "    trimmed = gpd.overlay(trimmed,palau_eez, how = \"intersection\")\n",
    "\n",
    "    trimmed['fill'] = trimmed.apply(assign_sst, axis=1)\n",
    "    \n",
    "    \n",
    "    \n",
    "    \n",
    "    \n",
    "    \n",
    "    \n",
    "    \n",
    "    \n",
    "    \n",
    "    #Plotting voronoi\n",
    "    fig, ax = plt.subplots(figsize=(12, 10))\n",
    "    boundary.plot(ax=ax, color=\"gray\")\n",
    "    trimmed.plot(ax=ax, color=trimmed[\"fill\"])\n",
    "    points_gdf.plot(ax=ax, markersize=1, color=\"black\")\n",
    "    ax.axis(\"off\")\n",
    "    plt.axis('equal')\n",
    "    plt.show()\n",
    "    \n",
    "    return trimmed.drop(columns=['time'])\n",
    "\n",
    "\n",
    "def getPrecJSON(df, time = Timestamp('2024-03-01 00:00:00')):\n",
    "    df_slice = df[df['time'] == time]\n",
    "    \n",
    "    max_index = df_slice[df_slice['level']!=4.0].groupby(['latitude', 'longitude', 'time'])['prec'].idxmax()\n",
    "    df_slice = df.loc[max_index]\n",
    "\n",
    "\n",
    "    coordinates = df_slice[['latitude','longitude','prec']]\n",
    "    coordinates = coordinates.drop_duplicates()\n",
    "\n",
    "    df_slice = df_slice.sort_values(by=['longitude','latitude'], ascending=[False,True])\n",
    "    df_slice['new_col'] = list(zip(df_slice.latitude, df_slice.longitude))#         coordinates = coordinates.drop_duplicates()\n",
    "    coordinates = []\n",
    "\n",
    "    for c in df_slice['new_col']:\n",
    "        coordinates.append([c[0],c[1]])\n",
    "    points = []\n",
    "    for x in coordinates:\n",
    "        points.append(Point(x[1],x[0]))\n",
    "        \n",
    "    points_gdf = GeoDataFrame(crs=\"EPSG:3395\", geometry=points)\n",
    "    gdf_proj = points_gdf.to_crs(boundary.crs)\n",
    "\n",
    "    coords = points_to_coords(gdf_proj.geometry)\n",
    "    poly_shapes, pts = voronoi_regions_from_coords(coords, boundary_shape)\n",
    "    voronoi_poly = GeoDataFrame(crs=\"EPSG:3395\", geometry=list(poly_shapes.values()))\n",
    "    \n",
    "    longitude = []\n",
    "    latitude = []\n",
    "    for pt in pts:\n",
    "        longitude.append(coords[pt][0])\n",
    "        latitude.append(coords[pt][1])\n",
    "    voronoi_poly[\"longitude\"] = longitude\n",
    "    voronoi_poly[\"latitude\"] = latitude\n",
    "\n",
    "    \n",
    "    df_slice = df_slice.drop(['new_col'], axis=1)\n",
    "    \n",
    "\n",
    "    df_slice['geometry'] = voronoi_poly.sort_values(by=['longitude','latitude'], ascending=[False,True])['geometry'].tolist()\n",
    "    df_slice = df_slice.reset_index()\n",
    "    df_slice = df_slice.drop('index',axis=1)\n",
    "    \n",
    "    json_gdf = GeoDataFrame(df_slice,crs=\"EPSG:3395\")\n",
    "    \n",
    "    palau_land = gpd.read_file('palau.geojson')\n",
    "    palau_land = palau_land.drop(['type','id','tags','meta'],axis = 1)\n",
    "    palau_land = palau_land[palau_land.geometry.type != 'LineString']\n",
    "    trimmed = gpd.overlay(json_gdf,palau_land, how='difference')\n",
    "    \n",
    "    palau_eez = gpd.read_file('palauEEZ.geojson')\n",
    "    trimmed = gpd.overlay(trimmed,palau_eez, how = \"intersection\")\n",
    "\n",
    "    trimmed['fill'] = trimmed.apply(assign_prec, axis=1)\n",
    "    \n",
    "    \n",
    "    \n",
    "    \n",
    "    \n",
    "    \n",
    "    \n",
    "    \n",
    "    \n",
    "    \n",
    "    #Plotting voronoi\n",
    "    fig, ax = plt.subplots(figsize=(12, 10))\n",
    "    boundary.plot(ax=ax, color=\"gray\")\n",
    "    trimmed.plot(ax=ax, color=trimmed[\"fill\"])\n",
    "    points_gdf.plot(ax=ax, markersize=1, color=\"black\")\n",
    "    ax.axis(\"off\")\n",
    "    plt.axis('equal')\n",
    "    plt.show()\n",
    "    \n",
    "    return trimmed.drop(columns=['time'])"
   ]
  },
  {
   "cell_type": "code",
   "execution_count": 17,
   "id": "4222c9d6",
   "metadata": {},
   "outputs": [
    {
     "data": {
      "text/plain": [
       "10"
      ]
     },
     "execution_count": 17,
     "metadata": {},
     "output_type": "execute_result"
    }
   ],
   "source": [
    "len(\"2024-03-01\")"
   ]
  },
  {
   "cell_type": "code",
   "execution_count": 18,
   "id": "6a978ee8",
   "metadata": {},
   "outputs": [
    {
     "name": "stderr",
     "output_type": "stream",
     "text": [
      "/var/folders/d6/w300s4cx3qj10pqdcy5859bc0000gn/T/ipykernel_37129/3925461924.py:58: UserWarning: CRS mismatch between the CRS of left geometries and the CRS of right geometries.\n",
      "Use `to_crs()` to reproject one of the input geometries to match the CRS of the other.\n",
      "\n",
      "Left CRS: EPSG:3395\n",
      "Right CRS: EPSG:4326\n",
      "\n",
      "  trimmed = gpd.overlay(json_gdf,palau_land, how='difference')\n",
      "/var/folders/d6/w300s4cx3qj10pqdcy5859bc0000gn/T/ipykernel_37129/3925461924.py:61: UserWarning: CRS mismatch between the CRS of left geometries and the CRS of right geometries.\n",
      "Use `to_crs()` to reproject one of the input geometries to match the CRS of the other.\n",
      "\n",
      "Left CRS: EPSG:3395\n",
      "Right CRS: EPSG:4326\n",
      "\n",
      "  trimmed = gpd.overlay(trimmed,palau_eez, how = \"intersection\")\n"
     ]
    },
    {
     "data": {
      "image/png": "[encoded data removed]",
      "text/plain": [
       "<Figure size 1200x1000 with 1 Axes>"
      ]
     },
     "metadata": {},
     "output_type": "display_data"
    },
    {
     "name": "stdout",
     "output_type": "stream",
     "text": [
      "./MME-HRES/FORECAST/6-MON/SST/SST_GAUS_2024-03-01.json\n"
     ]
    },
    {
     "name": "stderr",
     "output_type": "stream",
     "text": [
      "/var/folders/d6/w300s4cx3qj10pqdcy5859bc0000gn/T/ipykernel_37129/3925461924.py:58: UserWarning: CRS mismatch between the CRS of left geometries and the CRS of right geometries.\n",
      "Use `to_crs()` to reproject one of the input geometries to match the CRS of the other.\n",
      "\n",
      "Left CRS: EPSG:3395\n",
      "Right CRS: EPSG:4326\n",
      "\n",
      "  trimmed = gpd.overlay(json_gdf,palau_land, how='difference')\n",
      "/var/folders/d6/w300s4cx3qj10pqdcy5859bc0000gn/T/ipykernel_37129/3925461924.py:61: UserWarning: CRS mismatch between the CRS of left geometries and the CRS of right geometries.\n",
      "Use `to_crs()` to reproject one of the input geometries to match the CRS of the other.\n",
      "\n",
      "Left CRS: EPSG:3395\n",
      "Right CRS: EPSG:4326\n",
      "\n",
      "  trimmed = gpd.overlay(trimmed,palau_eez, how = \"intersection\")\n"
     ]
    },
    {
     "data": {
      "image/png": "[encoded data removed]",
      "text/plain": [
       "<Figure size 1200x1000 with 1 Axes>"
      ]
     },
     "metadata": {},
     "output_type": "display_data"
    },
    {
     "name": "stdout",
     "output_type": "stream",
     "text": [
      "./MME-HRES/FORECAST/6-MON/SST/SST_GAUS_2024-04-01.json\n"
     ]
    },
    {
     "name": "stderr",
     "output_type": "stream",
     "text": [
      "/var/folders/d6/w300s4cx3qj10pqdcy5859bc0000gn/T/ipykernel_37129/3925461924.py:58: UserWarning: CRS mismatch between the CRS of left geometries and the CRS of right geometries.\n",
      "Use `to_crs()` to reproject one of the input geometries to match the CRS of the other.\n",
      "\n",
      "Left CRS: EPSG:3395\n",
      "Right CRS: EPSG:4326\n",
      "\n",
      "  trimmed = gpd.overlay(json_gdf,palau_land, how='difference')\n",
      "/var/folders/d6/w300s4cx3qj10pqdcy5859bc0000gn/T/ipykernel_37129/3925461924.py:61: UserWarning: CRS mismatch between the CRS of left geometries and the CRS of right geometries.\n",
      "Use `to_crs()` to reproject one of the input geometries to match the CRS of the other.\n",
      "\n",
      "Left CRS: EPSG:3395\n",
      "Right CRS: EPSG:4326\n",
      "\n",
      "  trimmed = gpd.overlay(trimmed,palau_eez, how = \"intersection\")\n"
     ]
    },
    {
     "data": {
      "image/png": "[encoded data removed]",
      "text/plain": [
       "<Figure size 1200x1000 with 1 Axes>"
      ]
     },
     "metadata": {},
     "output_type": "display_data"
    },
    {
     "name": "stdout",
     "output_type": "stream",
     "text": [
      "./MME-HRES/FORECAST/6-MON/SST/SST_GAUS_2024-05-01.json\n"
     ]
    },
    {
     "name": "stderr",
     "output_type": "stream",
     "text": [
      "/var/folders/d6/w300s4cx3qj10pqdcy5859bc0000gn/T/ipykernel_37129/3925461924.py:58: UserWarning: CRS mismatch between the CRS of left geometries and the CRS of right geometries.\n",
      "Use `to_crs()` to reproject one of the input geometries to match the CRS of the other.\n",
      "\n",
      "Left CRS: EPSG:3395\n",
      "Right CRS: EPSG:4326\n",
      "\n",
      "  trimmed = gpd.overlay(json_gdf,palau_land, how='difference')\n",
      "/var/folders/d6/w300s4cx3qj10pqdcy5859bc0000gn/T/ipykernel_37129/3925461924.py:61: UserWarning: CRS mismatch between the CRS of left geometries and the CRS of right geometries.\n",
      "Use `to_crs()` to reproject one of the input geometries to match the CRS of the other.\n",
      "\n",
      "Left CRS: EPSG:3395\n",
      "Right CRS: EPSG:4326\n",
      "\n",
      "  trimmed = gpd.overlay(trimmed,palau_eez, how = \"intersection\")\n"
     ]
    },
    {
     "data": {
      "image/png": "[encoded data removed]",
      "text/plain": [
       "<Figure size 1200x1000 with 1 Axes>"
      ]
     },
     "metadata": {},
     "output_type": "display_data"
    },
    {
     "name": "stdout",
     "output_type": "stream",
     "text": [
      "./MME-HRES/FORECAST/6-MON/SST/SST_GAUS_2024-06-01.json\n"
     ]
    },
    {
     "name": "stderr",
     "output_type": "stream",
     "text": [
      "/var/folders/d6/w300s4cx3qj10pqdcy5859bc0000gn/T/ipykernel_37129/3925461924.py:58: UserWarning: CRS mismatch between the CRS of left geometries and the CRS of right geometries.\n",
      "Use `to_crs()` to reproject one of the input geometries to match the CRS of the other.\n",
      "\n",
      "Left CRS: EPSG:3395\n",
      "Right CRS: EPSG:4326\n",
      "\n",
      "  trimmed = gpd.overlay(json_gdf,palau_land, how='difference')\n",
      "/var/folders/d6/w300s4cx3qj10pqdcy5859bc0000gn/T/ipykernel_37129/3925461924.py:61: UserWarning: CRS mismatch between the CRS of left geometries and the CRS of right geometries.\n",
      "Use `to_crs()` to reproject one of the input geometries to match the CRS of the other.\n",
      "\n",
      "Left CRS: EPSG:3395\n",
      "Right CRS: EPSG:4326\n",
      "\n",
      "  trimmed = gpd.overlay(trimmed,palau_eez, how = \"intersection\")\n"
     ]
    },
    {
     "data": {
      "image/png": "[encoded data removed]",
      "text/plain": [
       "<Figure size 1200x1000 with 1 Axes>"
      ]
     },
     "metadata": {},
     "output_type": "display_data"
    },
    {
     "name": "stdout",
     "output_type": "stream",
     "text": [
      "./MME-HRES/FORECAST/6-MON/SST/SST_GAUS_2024-07-01.json\n"
     ]
    },
    {
     "name": "stderr",
     "output_type": "stream",
     "text": [
      "/var/folders/d6/w300s4cx3qj10pqdcy5859bc0000gn/T/ipykernel_37129/3925461924.py:58: UserWarning: CRS mismatch between the CRS of left geometries and the CRS of right geometries.\n",
      "Use `to_crs()` to reproject one of the input geometries to match the CRS of the other.\n",
      "\n",
      "Left CRS: EPSG:3395\n",
      "Right CRS: EPSG:4326\n",
      "\n",
      "  trimmed = gpd.overlay(json_gdf,palau_land, how='difference')\n",
      "/var/folders/d6/w300s4cx3qj10pqdcy5859bc0000gn/T/ipykernel_37129/3925461924.py:61: UserWarning: CRS mismatch between the CRS of left geometries and the CRS of right geometries.\n",
      "Use `to_crs()` to reproject one of the input geometries to match the CRS of the other.\n",
      "\n",
      "Left CRS: EPSG:3395\n",
      "Right CRS: EPSG:4326\n",
      "\n",
      "  trimmed = gpd.overlay(trimmed,palau_eez, how = \"intersection\")\n"
     ]
    },
    {
     "data": {
      "image/png": "[encoded data removed]",
      "text/plain": [
       "<Figure size 1200x1000 with 1 Axes>"
      ]
     },
     "metadata": {},
     "output_type": "display_data"
    },
    {
     "name": "stdout",
     "output_type": "stream",
     "text": [
      "./MME-HRES/FORECAST/6-MON/SST/SST_GAUS_2024-08-01.json\n"
     ]
    },
    {
     "name": "stderr",
     "output_type": "stream",
     "text": [
      "/var/folders/d6/w300s4cx3qj10pqdcy5859bc0000gn/T/ipykernel_37129/3925461924.py:134: UserWarning: CRS mismatch between the CRS of left geometries and the CRS of right geometries.\n",
      "Use `to_crs()` to reproject one of the input geometries to match the CRS of the other.\n",
      "\n",
      "Left CRS: EPSG:3395\n",
      "Right CRS: EPSG:4326\n",
      "\n",
      "  trimmed = gpd.overlay(json_gdf,palau_land, how='difference')\n",
      "/var/folders/d6/w300s4cx3qj10pqdcy5859bc0000gn/T/ipykernel_37129/3925461924.py:137: UserWarning: CRS mismatch between the CRS of left geometries and the CRS of right geometries.\n",
      "Use `to_crs()` to reproject one of the input geometries to match the CRS of the other.\n",
      "\n",
      "Left CRS: EPSG:3395\n",
      "Right CRS: EPSG:4326\n",
      "\n",
      "  trimmed = gpd.overlay(trimmed,palau_eez, how = \"intersection\")\n"
     ]
    },
    {
     "data": {
      "image/png": "[encoded data removed]",
      "text/plain": [
       "<Figure size 1200x1000 with 1 Axes>"
      ]
     },
     "metadata": {},
     "output_type": "display_data"
    },
    {
     "name": "stdout",
     "output_type": "stream",
     "text": [
      "./MME-HRES/FORECAST/6-MON/PREC/PREC_GAUS_2024-03-01.json\n"
     ]
    },
    {
     "name": "stderr",
     "output_type": "stream",
     "text": [
      "/var/folders/d6/w300s4cx3qj10pqdcy5859bc0000gn/T/ipykernel_37129/3925461924.py:134: UserWarning: CRS mismatch between the CRS of left geometries and the CRS of right geometries.\n",
      "Use `to_crs()` to reproject one of the input geometries to match the CRS of the other.\n",
      "\n",
      "Left CRS: EPSG:3395\n",
      "Right CRS: EPSG:4326\n",
      "\n",
      "  trimmed = gpd.overlay(json_gdf,palau_land, how='difference')\n",
      "/var/folders/d6/w300s4cx3qj10pqdcy5859bc0000gn/T/ipykernel_37129/3925461924.py:137: UserWarning: CRS mismatch between the CRS of left geometries and the CRS of right geometries.\n",
      "Use `to_crs()` to reproject one of the input geometries to match the CRS of the other.\n",
      "\n",
      "Left CRS: EPSG:3395\n",
      "Right CRS: EPSG:4326\n",
      "\n",
      "  trimmed = gpd.overlay(trimmed,palau_eez, how = \"intersection\")\n"
     ]
    },
    {
     "data": {
      "image/png": "[encoded data removed]",
      "text/plain": [
       "<Figure size 1200x1000 with 1 Axes>"
      ]
     },
     "metadata": {},
     "output_type": "display_data"
    },
    {
     "name": "stdout",
     "output_type": "stream",
     "text": [
      "./MME-HRES/FORECAST/6-MON/PREC/PREC_GAUS_2024-04-01.json\n"
     ]
    },
    {
     "name": "stderr",
     "output_type": "stream",
     "text": [
      "/var/folders/d6/w300s4cx3qj10pqdcy5859bc0000gn/T/ipykernel_37129/3925461924.py:134: UserWarning: CRS mismatch between the CRS of left geometries and the CRS of right geometries.\n",
      "Use `to_crs()` to reproject one of the input geometries to match the CRS of the other.\n",
      "\n",
      "Left CRS: EPSG:3395\n",
      "Right CRS: EPSG:4326\n",
      "\n",
      "  trimmed = gpd.overlay(json_gdf,palau_land, how='difference')\n",
      "/var/folders/d6/w300s4cx3qj10pqdcy5859bc0000gn/T/ipykernel_37129/3925461924.py:137: UserWarning: CRS mismatch between the CRS of left geometries and the CRS of right geometries.\n",
      "Use `to_crs()` to reproject one of the input geometries to match the CRS of the other.\n",
      "\n",
      "Left CRS: EPSG:3395\n",
      "Right CRS: EPSG:4326\n",
      "\n",
      "  trimmed = gpd.overlay(trimmed,palau_eez, how = \"intersection\")\n"
     ]
    },
    {
     "data": {
      "image/png": "[encoded data removed]",
      "text/plain": [
       "<Figure size 1200x1000 with 1 Axes>"
      ]
     },
     "metadata": {},
     "output_type": "display_data"
    },
    {
     "name": "stdout",
     "output_type": "stream",
     "text": [
      "./MME-HRES/FORECAST/6-MON/PREC/PREC_GAUS_2024-05-01.json\n"
     ]
    },
    {
     "name": "stderr",
     "output_type": "stream",
     "text": [
      "/var/folders/d6/w300s4cx3qj10pqdcy5859bc0000gn/T/ipykernel_37129/3925461924.py:134: UserWarning: CRS mismatch between the CRS of left geometries and the CRS of right geometries.\n",
      "Use `to_crs()` to reproject one of the input geometries to match the CRS of the other.\n",
      "\n",
      "Left CRS: EPSG:3395\n",
      "Right CRS: EPSG:4326\n",
      "\n",
      "  trimmed = gpd.overlay(json_gdf,palau_land, how='difference')\n",
      "/var/folders/d6/w300s4cx3qj10pqdcy5859bc0000gn/T/ipykernel_37129/3925461924.py:137: UserWarning: CRS mismatch between the CRS of left geometries and the CRS of right geometries.\n",
      "Use `to_crs()` to reproject one of the input geometries to match the CRS of the other.\n",
      "\n",
      "Left CRS: EPSG:3395\n",
      "Right CRS: EPSG:4326\n",
      "\n",
      "  trimmed = gpd.overlay(trimmed,palau_eez, how = \"intersection\")\n"
     ]
    },
    {
     "data": {
      "image/png": "[encoded data removed]",
      "text/plain": [
       "<Figure size 1200x1000 with 1 Axes>"
      ]
     },
     "metadata": {},
     "output_type": "display_data"
    },
    {
     "name": "stdout",
     "output_type": "stream",
     "text": [
      "./MME-HRES/FORECAST/6-MON/PREC/PREC_GAUS_2024-06-01.json\n"
     ]
    },
    {
     "ename": "KeyboardInterrupt",
     "evalue": "",
     "output_type": "error",
     "traceback": [
      "\u001b[0;31m---------------------------------------------------------------------------\u001b[0m",
      "\u001b[0;31mKeyboardInterrupt\u001b[0m                         Traceback (most recent call last)",
      "Cell \u001b[0;32mIn[18], line 17\u001b[0m\n\u001b[1;32m     14\u001b[0m         \u001b[38;5;28mprint\u001b[39m(geojson_dir)\n\u001b[1;32m     16\u001b[0m \u001b[38;5;28;01mfor\u001b[39;00m x \u001b[38;5;129;01min\u001b[39;00m prec_df[\u001b[38;5;124m'\u001b[39m\u001b[38;5;124mtime\u001b[39m\u001b[38;5;124m'\u001b[39m]\u001b[38;5;241m.\u001b[39munique():\n\u001b[0;32m---> 17\u001b[0m     currgeo \u001b[38;5;241m=\u001b[39m \u001b[43mgetPrecJSON\u001b[49m\u001b[43m(\u001b[49m\u001b[43mdf\u001b[49m\u001b[43m \u001b[49m\u001b[38;5;241;43m=\u001b[39;49m\u001b[43m \u001b[49m\u001b[43mprec_df\u001b[49m\u001b[43m,\u001b[49m\u001b[43m \u001b[49m\u001b[43mtime\u001b[49m\u001b[43m \u001b[49m\u001b[38;5;241;43m=\u001b[39;49m\u001b[43m \u001b[49m\u001b[43mx\u001b[49m\u001b[43m)\u001b[49m\u001b[38;5;241m.\u001b[39mto_json()\n\u001b[1;32m     18\u001b[0m     json_object \u001b[38;5;241m=\u001b[39m json\u001b[38;5;241m.\u001b[39mdumps(currgeo, indent\u001b[38;5;241m=\u001b[39m\u001b[38;5;241m4\u001b[39m)\n\u001b[1;32m     19\u001b[0m     geojson_folder \u001b[38;5;241m=\u001b[39m \u001b[38;5;124m'\u001b[39m\u001b[38;5;124m./MME-HRES/FORECAST/6-MON/PREC/\u001b[39m\u001b[38;5;124m'\u001b[39m\n",
      "Cell \u001b[0;32mIn[16], line 110\u001b[0m, in \u001b[0;36mgetPrecJSON\u001b[0;34m(df, time)\u001b[0m\n\u001b[1;32m    107\u001b[0m gdf_proj \u001b[38;5;241m=\u001b[39m points_gdf\u001b[38;5;241m.\u001b[39mto_crs(boundary\u001b[38;5;241m.\u001b[39mcrs)\n\u001b[1;32m    109\u001b[0m coords \u001b[38;5;241m=\u001b[39m points_to_coords(gdf_proj\u001b[38;5;241m.\u001b[39mgeometry)\n\u001b[0;32m--> 110\u001b[0m poly_shapes, pts \u001b[38;5;241m=\u001b[39m \u001b[43mvoronoi_regions_from_coords\u001b[49m\u001b[43m(\u001b[49m\u001b[43mcoords\u001b[49m\u001b[43m,\u001b[49m\u001b[43m \u001b[49m\u001b[43mboundary_shape\u001b[49m\u001b[43m)\u001b[49m\n\u001b[1;32m    111\u001b[0m voronoi_poly \u001b[38;5;241m=\u001b[39m GeoDataFrame(crs\u001b[38;5;241m=\u001b[39m\u001b[38;5;124m\"\u001b[39m\u001b[38;5;124mEPSG:3395\u001b[39m\u001b[38;5;124m\"\u001b[39m, geometry\u001b[38;5;241m=\u001b[39m\u001b[38;5;28mlist\u001b[39m(poly_shapes\u001b[38;5;241m.\u001b[39mvalues()))\n\u001b[1;32m    113\u001b[0m longitude \u001b[38;5;241m=\u001b[39m []\n",
      "File \u001b[0;32m/opt/anaconda3/envs/cmip6/lib/python3.9/site-packages/geovoronoi/_voronoi.py:206\u001b[0m, in \u001b[0;36mvoronoi_regions_from_coords\u001b[0;34m(coords, geo_shape, per_geom, return_unassigned_points, results_per_geom, **kwargs)\u001b[0m\n\u001b[1;32m    204\u001b[0m \u001b[38;5;66;03m# generate Voronoi region polygons and region -> points mapping\u001b[39;00m\n\u001b[1;32m    205\u001b[0m logger\u001b[38;5;241m.\u001b[39minfo(\u001b[38;5;124m'\u001b[39m\u001b[38;5;124mgenerating Voronoi region polygons\u001b[39m\u001b[38;5;124m'\u001b[39m)\n\u001b[0;32m--> 206\u001b[0m geom_polys, geom_pts \u001b[38;5;241m=\u001b[39m \u001b[43mregion_polygons_from_voronoi\u001b[49m\u001b[43m(\u001b[49m\u001b[43mvor\u001b[49m\u001b[43m,\u001b[49m\u001b[43m \u001b[49m\u001b[43mgeom\u001b[49m\u001b[43m,\u001b[49m\u001b[43m \u001b[49m\u001b[43mreturn_point_assignments\u001b[49m\u001b[38;5;241;43m=\u001b[39;49m\u001b[38;5;28;43;01mTrue\u001b[39;49;00m\u001b[43m,\u001b[49m\u001b[43m \u001b[49m\u001b[38;5;241;43m*\u001b[39;49m\u001b[38;5;241;43m*\u001b[39;49m\u001b[43mkwargs\u001b[49m\u001b[43m)\u001b[49m\n\u001b[1;32m    208\u001b[0m \u001b[38;5;66;03m# point indices in `geom_pts` refer to `coords[pts_in_geom]` -> map them back to original point indices\u001b[39;00m\n\u001b[1;32m    209\u001b[0m pts_in_geom_arr \u001b[38;5;241m=\u001b[39m np\u001b[38;5;241m.\u001b[39masarray(pts_in_geom)\n",
      "File \u001b[0;32m/opt/anaconda3/envs/cmip6/lib/python3.9/site-packages/geovoronoi/_voronoi.py:362\u001b[0m, in \u001b[0;36mregion_polygons_from_voronoi\u001b[0;34m(vor, geom, return_point_assignments, bounds_buf_factor, diff_topo_error_buf_factor)\u001b[0m\n\u001b[1;32m    359\u001b[0m isects \u001b[38;5;241m=\u001b[39m []\n\u001b[1;32m    360\u001b[0m \u001b[38;5;28;01mfor\u001b[39;00m i_ext_coord \u001b[38;5;129;01min\u001b[39;00m \u001b[38;5;28mrange\u001b[39m(\u001b[38;5;28mlen\u001b[39m(geom_bb\u001b[38;5;241m.\u001b[39mexterior\u001b[38;5;241m.\u001b[39mcoords) \u001b[38;5;241m-\u001b[39m \u001b[38;5;241m1\u001b[39m):\n\u001b[1;32m    361\u001b[0m     isect \u001b[38;5;241m=\u001b[39m line_segment_intersection(midpoint, direction,\n\u001b[0;32m--> 362\u001b[0m                                       np\u001b[38;5;241m.\u001b[39marray(\u001b[43mgeom_bb\u001b[49m\u001b[38;5;241;43m.\u001b[39;49m\u001b[43mexterior\u001b[49m\u001b[38;5;241;43m.\u001b[39;49m\u001b[43mcoords\u001b[49m\u001b[43m[\u001b[49m\u001b[43mi_ext_coord\u001b[49m\u001b[43m]\u001b[49m),\n\u001b[1;32m    363\u001b[0m                                       np\u001b[38;5;241m.\u001b[39marray(geom_bb\u001b[38;5;241m.\u001b[39mexterior\u001b[38;5;241m.\u001b[39mcoords[i_ext_coord\u001b[38;5;241m+\u001b[39m\u001b[38;5;241m1\u001b[39m]))\n\u001b[1;32m    364\u001b[0m     \u001b[38;5;28;01mif\u001b[39;00m isect \u001b[38;5;129;01mis\u001b[39;00m \u001b[38;5;129;01mnot\u001b[39;00m \u001b[38;5;28;01mNone\u001b[39;00m:\n\u001b[1;32m    365\u001b[0m         isects\u001b[38;5;241m.\u001b[39mappend(isect)\n",
      "File \u001b[0;32m/opt/anaconda3/envs/cmip6/lib/python3.9/site-packages/shapely/coords.py:31\u001b[0m, in \u001b[0;36mCoordinateSequence.__getitem__\u001b[0;34m(self, key)\u001b[0m\n\u001b[1;32m     30\u001b[0m \u001b[38;5;28;01mdef\u001b[39;00m \u001b[38;5;21m__getitem__\u001b[39m(\u001b[38;5;28mself\u001b[39m, key):\n\u001b[0;32m---> 31\u001b[0m     m \u001b[38;5;241m=\u001b[39m \u001b[38;5;28;43mself\u001b[39;49m\u001b[38;5;241;43m.\u001b[39;49m\u001b[38;5;21;43m__len__\u001b[39;49m\u001b[43m(\u001b[49m\u001b[43m)\u001b[49m\n\u001b[1;32m     32\u001b[0m     \u001b[38;5;28;01mif\u001b[39;00m \u001b[38;5;28misinstance\u001b[39m(key, \u001b[38;5;28mint\u001b[39m):\n\u001b[1;32m     33\u001b[0m         \u001b[38;5;28;01mif\u001b[39;00m key \u001b[38;5;241m+\u001b[39m m \u001b[38;5;241m<\u001b[39m \u001b[38;5;241m0\u001b[39m \u001b[38;5;129;01mor\u001b[39;00m key \u001b[38;5;241m>\u001b[39m\u001b[38;5;241m=\u001b[39m m:\n",
      "File \u001b[0;32m/opt/anaconda3/envs/cmip6/lib/python3.9/site-packages/shapely/coords.py:24\u001b[0m, in \u001b[0;36mCoordinateSequence.__len__\u001b[0;34m(self)\u001b[0m\n\u001b[1;32m     23\u001b[0m \u001b[38;5;28;01mdef\u001b[39;00m \u001b[38;5;21m__len__\u001b[39m(\u001b[38;5;28mself\u001b[39m):\n\u001b[0;32m---> 24\u001b[0m     \u001b[38;5;28;01mreturn\u001b[39;00m \u001b[38;5;28;43mself\u001b[39;49m\u001b[38;5;241;43m.\u001b[39;49m\u001b[43m_coords\u001b[49m\u001b[38;5;241;43m.\u001b[39;49m\u001b[43mshape\u001b[49m\u001b[43m[\u001b[49m\u001b[38;5;241;43m0\u001b[39;49m\u001b[43m]\u001b[49m\n",
      "\u001b[0;31mKeyboardInterrupt\u001b[0m: "
     ]
    }
   ],
   "source": [
    "if not os.path.exists(\"./MME-HRES/FORECAST/6-MON/SST\"):\n",
    "    os.makedirs(\"./MME-HRES/FORECAST/6-MON/SST\")\n",
    "if not os.path.exists(\"./MME-HRES/FORECAST/6-MON/PREC\"):\n",
    "    os.makedirs(\"./MME-HRES/FORECAST/6-MON/PREC\")\n",
    "    \n",
    "    \n",
    "for x in sst_df['time'].unique():\n",
    "    currgeo = getSSTJSON(df = sst_df, time = x).to_json()\n",
    "    json_object = json.dumps(currgeo, indent=4)\n",
    "    geojson_folder = './MME-HRES/FORECAST/6-MON/SST/'\n",
    "    geojson_dir = geojson_folder + \"SST_GAUS_\" + str(x)[:10] +\".json\"\n",
    "    with open(geojson_dir, \"w\") as outfile:\n",
    "        outfile.write(json_object)\n",
    "        print(geojson_dir)\n",
    "\n",
    "for x in prec_df['time'].unique():\n",
    "    currgeo = getPrecJSON(df = prec_df, time = x).to_json()\n",
    "    json_object = json.dumps(currgeo, indent=4)\n",
    "    geojson_folder = './MME-HRES/FORECAST/6-MON/PREC/'\n",
    "    geojson_dir = geojson_folder + \"PREC_GAUS_\" + str(x)[:10] +\".json\"\n",
    "    with open(geojson_dir, \"w\") as outfile:\n",
    "        outfile.write(json_object)\n",
    "        print(geojson_dir)\n",
    "    "
   ]
  },
  {
   "cell_type": "code",
   "execution_count": 19,
   "id": "b5833655",
   "metadata": {},
   "outputs": [
    {
     "name": "stderr",
     "output_type": "stream",
     "text": [
      "/var/folders/d6/w300s4cx3qj10pqdcy5859bc0000gn/T/ipykernel_37129/3925461924.py:58: UserWarning: CRS mismatch between the CRS of left geometries and the CRS of right geometries.\n",
      "Use `to_crs()` to reproject one of the input geometries to match the CRS of the other.\n",
      "\n",
      "Left CRS: EPSG:3395\n",
      "Right CRS: EPSG:4326\n",
      "\n",
      "  trimmed = gpd.overlay(json_gdf,palau_land, how='difference')\n",
      "/var/folders/d6/w300s4cx3qj10pqdcy5859bc0000gn/T/ipykernel_37129/3925461924.py:61: UserWarning: CRS mismatch between the CRS of left geometries and the CRS of right geometries.\n",
      "Use `to_crs()` to reproject one of the input geometries to match the CRS of the other.\n",
      "\n",
      "Left CRS: EPSG:3395\n",
      "Right CRS: EPSG:4326\n",
      "\n",
      "  trimmed = gpd.overlay(trimmed,palau_eez, how = \"intersection\")\n"
     ]
    },
    {
     "data": {
      "image/png": "[encoded data removed]",
      "text/plain": [
       "<Figure size 1200x1000 with 1 Axes>"
      ]
     },
     "metadata": {},
     "output_type": "display_data"
    }
   ],
   "source": [
    "test = getSSTJSON(df = sst_df, time = x)"
   ]
  },
  {
   "cell_type": "code",
   "execution_count": 20,
   "id": "5ac7d649",
   "metadata": {},
   "outputs": [],
   "source": [
    "eez = gpd.read_file('./palauEEZ.geojson')"
   ]
  },
  {
   "cell_type": "code",
   "execution_count": null,
   "id": "4959d4a2",
   "metadata": {},
   "outputs": [],
   "source": []
  },
  {
   "cell_type": "code",
   "execution_count": 21,
   "id": "5670a045",
   "metadata": {},
   "outputs": [
    {
     "name": "stderr",
     "output_type": "stream",
     "text": [
      "/var/folders/d6/w300s4cx3qj10pqdcy5859bc0000gn/T/ipykernel_37129/503562402.py:3: FutureWarning: Currently, index_parts defaults to True, but in the future, it will default to False to be consistent with Pandas. Use `index_parts=True` to keep the current behavior and True/False to silence the warning.\n",
      "  boundary = boundary.explode()\n",
      "/var/folders/d6/w300s4cx3qj10pqdcy5859bc0000gn/T/ipykernel_37129/503562402.py:5: ShapelyDeprecationWarning: The 'cascaded_union()' function is deprecated. Use 'unary_union()' instead.\n",
      "  boundary_shape = cascaded_union(boundary.geometry)\n"
     ]
    }
   ],
   "source": [
    "# boundary = gpd.read_file('palauEEZ.geojson')\n",
    "boundary = gdf\n",
    "boundary = boundary.explode()\n",
    "boundary = boundary.set_crs(crs=\"EPSG:3395\", allow_override=True)\n",
    "boundary_shape = cascaded_union(boundary.geometry)\n",
    "\n",
    "df_eez = gpd.read_file('palauEEZ.geojson')\n",
    "eez = df_eez['geometry'].values[0]\n",
    "\n",
    "def getSSTJSON(df, time = Timestamp('2024-03-01 00:00:00')):\n",
    "    df_slice = df[df['time'] == time]\n",
    "    \n",
    "    max_index = df_slice[df_slice['level']!=4.0].groupby(['latitude', 'longitude', 'time'])['sst'].idxmax()\n",
    "    df_slice = df.loc[max_index]\n",
    "\n",
    "\n",
    "    coordinates = df_slice[['latitude','longitude','sst']]\n",
    "    coordinates = coordinates.drop_duplicates()\n",
    "\n",
    "    df_slice = df_slice.sort_values(by=['longitude','latitude'], ascending=[False,True])\n",
    "    df_slice['new_col'] = list(zip(df_slice.latitude, df_slice.longitude))#         coordinates = coordinates.drop_duplicates()\n",
    "    coordinates = []\n",
    "\n",
    "    for c in df_slice['new_col']:\n",
    "        coordinates.append([c[0],c[1]])\n",
    "    points = []\n",
    "    for x in coordinates:\n",
    "        points.append(Point(x[1],x[0]))\n",
    "        \n",
    "    points_gdf = GeoDataFrame(crs=\"EPSG:3395\", geometry=points)\n",
    "    gdf_proj = points_gdf.to_crs(boundary.crs)\n",
    "\n",
    "    coords = points_to_coords(gdf_proj.geometry)\n",
    "    poly_shapes, pts = voronoi_regions_from_coords(coords, boundary_shape)\n",
    "#     vdf = pd.DataFrame(pts)\n",
    "    vdf = pd.DataFrame.from_dict(pts, orient='index', columns = ['pts'])\n",
    "#     print(vdf)\n",
    "    voronoi_poly = GeoDataFrame(vdf, crs=\"EPSG:3395\", geometry=list(poly_shapes.values()))\n",
    "#     print(coords)\n",
    "#     longitude = []\n",
    "#     latitude = []\n",
    "#     for pt in pts:\n",
    "#         longitude.append(coords[pt][0])\n",
    "#         latitude.append(coords[pt][1])\n",
    "\n",
    "\n",
    "#     voronoi_poly[\"longitude\"] = longitude\n",
    "#     voronoi_poly[\"latitude\"] = latitude\n",
    "    \n",
    "    voronoi_poly[\"longitude\"] = voronoi_poly.apply(lambda row: coords[row['pts']][0], axis=1)\n",
    "    voronoi_poly[\"latitude\"] = voronoi_poly.apply(lambda row: coords[row['pts']][1], axis=1)\n",
    "#     return voronoi_poly, pts\n",
    "    df_slice = df_slice.drop(['new_col'], axis=1)\n",
    "    #not needed line\n",
    "    df_slice = df_slice. sort_values(by=['longitude','latitude'], ascending=[False,True])\n",
    "#     return voronoi_poly, df_slice\n",
    "    \n",
    "    df_slice['geometry'] = voronoi_poly.sort_values(by=['longitude','latitude'], ascending=[False,True])['geometry'].tolist()\n",
    "    df_slice = df_slice.reset_index()\n",
    "    df_slice = df_slice.drop('index',axis=1)\n",
    "    \n",
    "    json_gdf = GeoDataFrame(df_slice,crs=\"EPSG:3395\")\n",
    "    \n",
    "    palau_land = gpd.read_file('palau.geojson')\n",
    "    palau_land = palau_land.drop(['type','id','tags','meta'],axis = 1)\n",
    "    palau_land = palau_land[palau_land.geometry.type != 'LineString']\n",
    "    trimmed = gpd.overlay(json_gdf,palau_land, how='difference')\n",
    "    \n",
    "    palau_eez = gpd.read_file('palauEEZ.geojson')\n",
    "    trimmed = gpd.overlay(trimmed,palau_eez, how = \"intersection\")\n",
    "\n",
    "    trimmed['fill'] = trimmed.apply(assign_sst, axis=1)\n",
    "    \n",
    "    \n",
    "    \n",
    "    \n",
    "    \n",
    "    \n",
    "    \n",
    "    \n",
    "    \n",
    "    \n",
    "    #Plotting voronoi\n",
    "    fig, ax = plt.subplots(figsize=(12, 10))\n",
    "    boundary.plot(ax=ax, color=\"gray\")\n",
    "    trimmed.plot(ax=ax, color=trimmed[\"fill\"])\n",
    "    points_gdf.plot(ax=ax, markersize=1, color=\"black\")\n",
    "    ax.axis(\"off\")\n",
    "    plt.axis('equal')\n",
    "    plt.show()\n",
    "    \n",
    "    return trimmed.drop(columns=['time'])"
   ]
  },
  {
   "cell_type": "code",
   "execution_count": 24,
   "id": "aa0bd6f9",
   "metadata": {},
   "outputs": [
    {
     "name": "stderr",
     "output_type": "stream",
     "text": [
      "/var/folders/d6/w300s4cx3qj10pqdcy5859bc0000gn/T/ipykernel_37129/1727699727.py:3: FutureWarning: Currently, index_parts defaults to True, but in the future, it will default to False to be consistent with Pandas. Use `index_parts=True` to keep the current behavior and True/False to silence the warning.\n",
      "  boundary = boundary.explode()\n",
      "/var/folders/d6/w300s4cx3qj10pqdcy5859bc0000gn/T/ipykernel_37129/1727699727.py:5: ShapelyDeprecationWarning: The 'cascaded_union()' function is deprecated. Use 'unary_union()' instead.\n",
      "  boundary_shape = cascaded_union(boundary.geometry)\n"
     ]
    }
   ],
   "source": [
    "# boundary = gpd.read_file('palauEEZ.geojson')\n",
    "boundary = gdf\n",
    "boundary = boundary.explode()\n",
    "boundary = boundary.set_crs(crs=\"EPSG:3395\", allow_override=True)\n",
    "boundary_shape = cascaded_union(boundary.geometry)\n",
    "\n",
    "df_eez = gpd.read_file('palauEEZ.geojson')\n",
    "eez = df_eez['geometry'].values[0]\n",
    "\n",
    "def getAllSSTJSON(df, time = Timestamp('2024-03-01 00:00:00')):\n",
    "    df_slice = df[df['time'] == time]\n",
    "    max_index = df_slice[df_slice['level']!=4.0].groupby(['latitude', 'longitude', 'time'])['sst'].idxmax()\n",
    "    df_slice = df.loc[max_index]\n",
    "\n",
    "\n",
    "    coordinates = df_slice[['latitude','longitude','sst']]\n",
    "    coordinates = coordinates.drop_duplicates()\n",
    "\n",
    "    df_slice = df_slice.sort_values(by=['longitude','latitude'], ascending=[False,True])\n",
    "    df_slice['new_col'] = list(zip(df_slice.latitude, df_slice.longitude))#         coordinates = coordinates.drop_duplicates()\n",
    "    coordinates = []\n",
    "\n",
    "    for c in df_slice['new_col']:\n",
    "        coordinates.append([c[0],c[1]])\n",
    "    points = []\n",
    "    for x in coordinates:\n",
    "        points.append(Point(x[1],x[0]))\n",
    "        \n",
    "    points_gdf = GeoDataFrame(crs=\"EPSG:3395\", geometry=points)\n",
    "    gdf_proj = points_gdf.to_crs(boundary.crs)\n",
    "\n",
    "    coords = points_to_coords(gdf_proj.geometry)\n",
    "    poly_shapes, pts = voronoi_regions_from_coords(coords, boundary_shape)\n",
    "    \n",
    "\n",
    "    vdf = pd.DataFrame.from_dict(pts, orient='index', columns = ['pts'])\n",
    "    voronoi_poly = GeoDataFrame(vdf, crs=\"EPSG:3395\", geometry=list(poly_shapes.values()))\n",
    "\n",
    "    \n",
    "    voronoi_poly[\"longitude\"] = voronoi_poly.apply(lambda row: coords[row['pts']][0], axis=1)\n",
    "    voronoi_poly[\"latitude\"] = voronoi_poly.apply(lambda row: coords[row['pts']][1], axis=1)\n",
    "    df_slice = df_slice.drop(['new_col'], axis=1)\n",
    "    #not needed line\n",
    "    df_slice = df_slice. sort_values(by=['longitude','latitude'], ascending=[False,True])    \n",
    "    df_slice['geometry'] = voronoi_poly.sort_values(by=['longitude','latitude'], ascending=[False,True])['geometry'].tolist()\n",
    "    df_slice = df_slice.reset_index()\n",
    "    df_slice = df_slice.drop('index',axis=1)\n",
    "    \n",
    "    json_gdf = GeoDataFrame(df_slice,crs=\"EPSG:3395\")\n",
    "    palau_land = gpd.read_file('palau.geojson')\n",
    "    palau_land = palau_land.drop(['type','id','tags','meta'],axis = 1)\n",
    "    palau_land = palau_land[palau_land.geometry.type != 'LineString']\n",
    "    trimmed = gpd.overlay(json_gdf,palau_land, how='difference')\n",
    "    \n",
    "    palau_eez = gpd.read_file('palauEEZ.geojson')\n",
    "    trimmed = gpd.overlay(json_gdf,palau_eez, how = \"intersection\")\n",
    "\n",
    "#     trimmed['fill'] = trimmed.apply(assign_sst, axis=1)\n",
    "    \n",
    "#     trimmed['coords'] = trimmed['latitude'] + trimmed['longitude']\n",
    "    trimmed['point'] = trimmed.apply(lambda row: Point(row['longitude'], row['latitude']), axis=1)\n",
    "    \n",
    "    laea_polygons = trimmed['geometry'].to_crs(f'+proj=laea +lat_0={eez.centroid.coords[0][1]} +lon_0={eez.centroid.coords[0][0]} +x_0=0 +y_0=0 +a=6371000 +b=6371000 +units=m +no_defs')\n",
    "    trimmed['area'] = laea_polygons.area\n",
    "    trimmed['parea'] = trimmed['area']/trimmed['area'].sum()\n",
    "    \n",
    "    \n",
    "    df['point'] = df.apply(lambda row: Point(row['longitude'], row['latitude']), axis=1)\n",
    "    \n",
    "    df = df[df['point'].isin(trimmed['point'].unique())]\n",
    "    \n",
    "    \n",
    "    df_filtered = pd.merge(df, trimmed[['geometry', 'point','area','parea']], on='point', how='left')\n",
    "    \n",
    "    df_filtered['fill'] = df_filtered.apply(assign_sst, axis=1)\n",
    "    \n",
    "\n",
    "    \n",
    "    \n",
    "    \n",
    "    \n",
    "    \n",
    "    \n",
    "    \n",
    "    return df_filtered"
   ]
  },
  {
   "cell_type": "code",
   "execution_count": 25,
   "id": "fde363ab",
   "metadata": {
    "scrolled": true
   },
   "outputs": [
    {
     "name": "stderr",
     "output_type": "stream",
     "text": [
      "/var/folders/d6/w300s4cx3qj10pqdcy5859bc0000gn/T/ipykernel_37129/1727699727.py:53: UserWarning: CRS mismatch between the CRS of left geometries and the CRS of right geometries.\n",
      "Use `to_crs()` to reproject one of the input geometries to match the CRS of the other.\n",
      "\n",
      "Left CRS: EPSG:3395\n",
      "Right CRS: EPSG:4326\n",
      "\n",
      "  trimmed = gpd.overlay(json_gdf,palau_land, how='difference')\n",
      "/var/folders/d6/w300s4cx3qj10pqdcy5859bc0000gn/T/ipykernel_37129/1727699727.py:56: UserWarning: CRS mismatch between the CRS of left geometries and the CRS of right geometries.\n",
      "Use `to_crs()` to reproject one of the input geometries to match the CRS of the other.\n",
      "\n",
      "Left CRS: EPSG:3395\n",
      "Right CRS: EPSG:4326\n",
      "\n",
      "  trimmed = gpd.overlay(json_gdf,palau_eez, how = \"intersection\")\n"
     ]
    }
   ],
   "source": [
    "xtest = getAllSSTJSON(df = sst_df)"
   ]
  },
  {
   "cell_type": "code",
   "execution_count": 26,
   "id": "e4edaee9",
   "metadata": {},
   "outputs": [
    {
     "data": {
      "text/html": [
       "<div>\n",
       "<style scoped>\n",
       "    .dataframe tbody tr th:only-of-type {\n",
       "        vertical-align: middle;\n",
       "    }\n",
       "\n",
       "    .dataframe tbody tr th {\n",
       "        vertical-align: top;\n",
       "    }\n",
       "\n",
       "    .dataframe thead th {\n",
       "        text-align: right;\n",
       "    }\n",
       "</style>\n",
       "<table border=\"1\" class=\"dataframe\">\n",
       "  <thead>\n",
       "    <tr style=\"text-align: right;\">\n",
       "      <th></th>\n",
       "      <th>time</th>\n",
       "      <th>level</th>\n",
       "      <th>latitude</th>\n",
       "      <th>longitude</th>\n",
       "      <th>sst</th>\n",
       "      <th>point</th>\n",
       "      <th>geometry</th>\n",
       "      <th>area</th>\n",
       "      <th>parea</th>\n",
       "      <th>fill</th>\n",
       "    </tr>\n",
       "  </thead>\n",
       "  <tbody>\n",
       "    <tr>\n",
       "      <th>0</th>\n",
       "      <td>2024-03-01</td>\n",
       "      <td>1.0</td>\n",
       "      <td>1.5</td>\n",
       "      <td>130.5</td>\n",
       "      <td>82.758385</td>\n",
       "      <td>POINT (130.5 1.5)</td>\n",
       "      <td>POLYGON ((130.168 2.000, 130.588 2.000, 130.29...</td>\n",
       "      <td>0.005506</td>\n",
       "      <td>0.000109</td>\n",
       "      <td>#1400d3</td>\n",
       "    </tr>\n",
       "    <tr>\n",
       "      <th>1</th>\n",
       "      <td>2024-03-01</td>\n",
       "      <td>1.0</td>\n",
       "      <td>1.5</td>\n",
       "      <td>131.5</td>\n",
       "      <td>86.438408</td>\n",
       "      <td>POINT (131.5 1.5)</td>\n",
       "      <td>POLYGON ((131.299 2.000, 132.000 2.000, 132.00...</td>\n",
       "      <td>0.069911</td>\n",
       "      <td>0.001382</td>\n",
       "      <td>#1400d3</td>\n",
       "    </tr>\n",
       "    <tr>\n",
       "      <th>2</th>\n",
       "      <td>2024-03-01</td>\n",
       "      <td>1.0</td>\n",
       "      <td>1.5</td>\n",
       "      <td>132.5</td>\n",
       "      <td>86.200485</td>\n",
       "      <td>POINT (132.5 1.5)</td>\n",
       "      <td>POLYGON ((132.000 1.801, 132.000 2.000, 133.00...</td>\n",
       "      <td>0.288648</td>\n",
       "      <td>0.005708</td>\n",
       "      <td>#1400d3</td>\n",
       "    </tr>\n",
       "    <tr>\n",
       "      <th>3</th>\n",
       "      <td>2024-03-01</td>\n",
       "      <td>1.0</td>\n",
       "      <td>1.5</td>\n",
       "      <td>133.5</td>\n",
       "      <td>85.401131</td>\n",
       "      <td>POINT (133.5 1.5)</td>\n",
       "      <td>POLYGON ((133.000 1.866, 133.000 2.000, 133.12...</td>\n",
       "      <td>0.008653</td>\n",
       "      <td>0.000171</td>\n",
       "      <td>#1400d3</td>\n",
       "    </tr>\n",
       "    <tr>\n",
       "      <th>4</th>\n",
       "      <td>2024-03-01</td>\n",
       "      <td>1.0</td>\n",
       "      <td>2.5</td>\n",
       "      <td>129.5</td>\n",
       "      <td>69.689308</td>\n",
       "      <td>POINT (129.5 2.5)</td>\n",
       "      <td>POLYGON ((129.842 3.000, 130.000 3.000, 130.00...</td>\n",
       "      <td>0.052841</td>\n",
       "      <td>0.001045</td>\n",
       "      <td>#54affe</td>\n",
       "    </tr>\n",
       "    <tr>\n",
       "      <th>...</th>\n",
       "      <td>...</td>\n",
       "      <td>...</td>\n",
       "      <td>...</td>\n",
       "      <td>...</td>\n",
       "      <td>...</td>\n",
       "      <td>...</td>\n",
       "      <td>...</td>\n",
       "      <td>...</td>\n",
       "      <td>...</td>\n",
       "      <td>...</td>\n",
       "    </tr>\n",
       "    <tr>\n",
       "      <th>1651</th>\n",
       "      <td>2024-08-01</td>\n",
       "      <td>4.0</td>\n",
       "      <td>10.5</td>\n",
       "      <td>135.5</td>\n",
       "      <td>191.145584</td>\n",
       "      <td>POINT (135.5 10.5)</td>\n",
       "      <td>POLYGON ((135.814 10.000, 135.000 10.000, 135....</td>\n",
       "      <td>0.698069</td>\n",
       "      <td>0.013804</td>\n",
       "      <td>None</td>\n",
       "    </tr>\n",
       "    <tr>\n",
       "      <th>1652</th>\n",
       "      <td>2024-08-01</td>\n",
       "      <td>4.0</td>\n",
       "      <td>11.5</td>\n",
       "      <td>132.5</td>\n",
       "      <td>190.887711</td>\n",
       "      <td>POINT (132.5 11.5)</td>\n",
       "      <td>POLYGON ((133.000 11.151, 133.000 11.000, 132....</td>\n",
       "      <td>0.019863</td>\n",
       "      <td>0.000393</td>\n",
       "      <td>None</td>\n",
       "    </tr>\n",
       "    <tr>\n",
       "      <th>1653</th>\n",
       "      <td>2024-08-01</td>\n",
       "      <td>4.0</td>\n",
       "      <td>11.5</td>\n",
       "      <td>133.5</td>\n",
       "      <td>190.962128</td>\n",
       "      <td>POINT (133.5 11.5)</td>\n",
       "      <td>POLYGON ((133.000 11.000, 133.000 11.151, 133....</td>\n",
       "      <td>0.357457</td>\n",
       "      <td>0.007068</td>\n",
       "      <td>None</td>\n",
       "    </tr>\n",
       "    <tr>\n",
       "      <th>1654</th>\n",
       "      <td>2024-08-01</td>\n",
       "      <td>4.0</td>\n",
       "      <td>11.5</td>\n",
       "      <td>134.5</td>\n",
       "      <td>190.991486</td>\n",
       "      <td>POINT (134.5 11.5)</td>\n",
       "      <td>POLYGON ((134.000 11.000, 134.000 11.502, 134....</td>\n",
       "      <td>0.547061</td>\n",
       "      <td>0.010818</td>\n",
       "      <td>None</td>\n",
       "    </tr>\n",
       "    <tr>\n",
       "      <th>1655</th>\n",
       "      <td>2024-08-01</td>\n",
       "      <td>4.0</td>\n",
       "      <td>11.5</td>\n",
       "      <td>135.5</td>\n",
       "      <td>190.996185</td>\n",
       "      <td>POINT (135.5 11.5)</td>\n",
       "      <td>POLYGON ((135.000 11.000, 135.000 11.538, 135....</td>\n",
       "      <td>0.211274</td>\n",
       "      <td>0.004178</td>\n",
       "      <td>None</td>\n",
       "    </tr>\n",
       "  </tbody>\n",
       "</table>\n",
       "<p>1656 rows × 10 columns</p>\n",
       "</div>"
      ],
      "text/plain": [
       "           time  level  latitude  longitude         sst               point  \\\n",
       "0    2024-03-01    1.0       1.5      130.5   82.758385   POINT (130.5 1.5)   \n",
       "1    2024-03-01    1.0       1.5      131.5   86.438408   POINT (131.5 1.5)   \n",
       "2    2024-03-01    1.0       1.5      132.5   86.200485   POINT (132.5 1.5)   \n",
       "3    2024-03-01    1.0       1.5      133.5   85.401131   POINT (133.5 1.5)   \n",
       "4    2024-03-01    1.0       2.5      129.5   69.689308   POINT (129.5 2.5)   \n",
       "...         ...    ...       ...        ...         ...                 ...   \n",
       "1651 2024-08-01    4.0      10.5      135.5  191.145584  POINT (135.5 10.5)   \n",
       "1652 2024-08-01    4.0      11.5      132.5  190.887711  POINT (132.5 11.5)   \n",
       "1653 2024-08-01    4.0      11.5      133.5  190.962128  POINT (133.5 11.5)   \n",
       "1654 2024-08-01    4.0      11.5      134.5  190.991486  POINT (134.5 11.5)   \n",
       "1655 2024-08-01    4.0      11.5      135.5  190.996185  POINT (135.5 11.5)   \n",
       "\n",
       "                                               geometry      area     parea  \\\n",
       "0     POLYGON ((130.168 2.000, 130.588 2.000, 130.29...  0.005506  0.000109   \n",
       "1     POLYGON ((131.299 2.000, 132.000 2.000, 132.00...  0.069911  0.001382   \n",
       "2     POLYGON ((132.000 1.801, 132.000 2.000, 133.00...  0.288648  0.005708   \n",
       "3     POLYGON ((133.000 1.866, 133.000 2.000, 133.12...  0.008653  0.000171   \n",
       "4     POLYGON ((129.842 3.000, 130.000 3.000, 130.00...  0.052841  0.001045   \n",
       "...                                                 ...       ...       ...   \n",
       "1651  POLYGON ((135.814 10.000, 135.000 10.000, 135....  0.698069  0.013804   \n",
       "1652  POLYGON ((133.000 11.151, 133.000 11.000, 132....  0.019863  0.000393   \n",
       "1653  POLYGON ((133.000 11.000, 133.000 11.151, 133....  0.357457  0.007068   \n",
       "1654  POLYGON ((134.000 11.000, 134.000 11.502, 134....  0.547061  0.010818   \n",
       "1655  POLYGON ((135.000 11.000, 135.000 11.538, 135....  0.211274  0.004178   \n",
       "\n",
       "         fill  \n",
       "0     #1400d3  \n",
       "1     #1400d3  \n",
       "2     #1400d3  \n",
       "3     #1400d3  \n",
       "4     #54affe  \n",
       "...       ...  \n",
       "1651     None  \n",
       "1652     None  \n",
       "1653     None  \n",
       "1654     None  \n",
       "1655     None  \n",
       "\n",
       "[1656 rows x 10 columns]"
      ]
     },
     "execution_count": 26,
     "metadata": {},
     "output_type": "execute_result"
    }
   ],
   "source": [
    "xtest"
   ]
  },
  {
   "cell_type": "code",
   "execution_count": 27,
   "id": "b6a31fe6",
   "metadata": {},
   "outputs": [],
   "source": [
    "xtest['psst'] = xtest['parea']*xtest['sst']"
   ]
  },
  {
   "cell_type": "code",
   "execution_count": 28,
   "id": "f7bc4bc0",
   "metadata": {},
   "outputs": [
    {
     "data": {
      "text/html": [
       "<div>\n",
       "<style scoped>\n",
       "    .dataframe tbody tr th:only-of-type {\n",
       "        vertical-align: middle;\n",
       "    }\n",
       "\n",
       "    .dataframe tbody tr th {\n",
       "        vertical-align: top;\n",
       "    }\n",
       "\n",
       "    .dataframe thead th {\n",
       "        text-align: right;\n",
       "    }\n",
       "</style>\n",
       "<table border=\"1\" class=\"dataframe\">\n",
       "  <thead>\n",
       "    <tr style=\"text-align: right;\">\n",
       "      <th></th>\n",
       "      <th>time</th>\n",
       "      <th>level</th>\n",
       "      <th>latitude</th>\n",
       "      <th>longitude</th>\n",
       "      <th>sst</th>\n",
       "      <th>point</th>\n",
       "      <th>geometry</th>\n",
       "      <th>area</th>\n",
       "      <th>parea</th>\n",
       "      <th>fill</th>\n",
       "      <th>psst</th>\n",
       "    </tr>\n",
       "  </thead>\n",
       "  <tbody>\n",
       "    <tr>\n",
       "      <th>0</th>\n",
       "      <td>2024-03-01</td>\n",
       "      <td>1.0</td>\n",
       "      <td>1.5</td>\n",
       "      <td>130.5</td>\n",
       "      <td>82.758385</td>\n",
       "      <td>POINT (130.5 1.5)</td>\n",
       "      <td>POLYGON ((130.168 2.000, 130.588 2.000, 130.29...</td>\n",
       "      <td>0.005506</td>\n",
       "      <td>0.000109</td>\n",
       "      <td>#1400d3</td>\n",
       "      <td>0.009010</td>\n",
       "    </tr>\n",
       "    <tr>\n",
       "      <th>1</th>\n",
       "      <td>2024-03-01</td>\n",
       "      <td>1.0</td>\n",
       "      <td>1.5</td>\n",
       "      <td>131.5</td>\n",
       "      <td>86.438408</td>\n",
       "      <td>POINT (131.5 1.5)</td>\n",
       "      <td>POLYGON ((131.299 2.000, 132.000 2.000, 132.00...</td>\n",
       "      <td>0.069911</td>\n",
       "      <td>0.001382</td>\n",
       "      <td>#1400d3</td>\n",
       "      <td>0.119494</td>\n",
       "    </tr>\n",
       "    <tr>\n",
       "      <th>2</th>\n",
       "      <td>2024-03-01</td>\n",
       "      <td>1.0</td>\n",
       "      <td>1.5</td>\n",
       "      <td>132.5</td>\n",
       "      <td>86.200485</td>\n",
       "      <td>POINT (132.5 1.5)</td>\n",
       "      <td>POLYGON ((132.000 1.801, 132.000 2.000, 133.00...</td>\n",
       "      <td>0.288648</td>\n",
       "      <td>0.005708</td>\n",
       "      <td>#1400d3</td>\n",
       "      <td>0.492007</td>\n",
       "    </tr>\n",
       "    <tr>\n",
       "      <th>3</th>\n",
       "      <td>2024-03-01</td>\n",
       "      <td>1.0</td>\n",
       "      <td>1.5</td>\n",
       "      <td>133.5</td>\n",
       "      <td>85.401131</td>\n",
       "      <td>POINT (133.5 1.5)</td>\n",
       "      <td>POLYGON ((133.000 1.866, 133.000 2.000, 133.12...</td>\n",
       "      <td>0.008653</td>\n",
       "      <td>0.000171</td>\n",
       "      <td>#1400d3</td>\n",
       "      <td>0.014612</td>\n",
       "    </tr>\n",
       "    <tr>\n",
       "      <th>4</th>\n",
       "      <td>2024-03-01</td>\n",
       "      <td>1.0</td>\n",
       "      <td>2.5</td>\n",
       "      <td>129.5</td>\n",
       "      <td>69.689308</td>\n",
       "      <td>POINT (129.5 2.5)</td>\n",
       "      <td>POLYGON ((129.842 3.000, 130.000 3.000, 130.00...</td>\n",
       "      <td>0.052841</td>\n",
       "      <td>0.001045</td>\n",
       "      <td>#54affe</td>\n",
       "      <td>0.072816</td>\n",
       "    </tr>\n",
       "    <tr>\n",
       "      <th>...</th>\n",
       "      <td>...</td>\n",
       "      <td>...</td>\n",
       "      <td>...</td>\n",
       "      <td>...</td>\n",
       "      <td>...</td>\n",
       "      <td>...</td>\n",
       "      <td>...</td>\n",
       "      <td>...</td>\n",
       "      <td>...</td>\n",
       "      <td>...</td>\n",
       "      <td>...</td>\n",
       "    </tr>\n",
       "    <tr>\n",
       "      <th>1651</th>\n",
       "      <td>2024-08-01</td>\n",
       "      <td>4.0</td>\n",
       "      <td>10.5</td>\n",
       "      <td>135.5</td>\n",
       "      <td>191.145584</td>\n",
       "      <td>POINT (135.5 10.5)</td>\n",
       "      <td>POLYGON ((135.814 10.000, 135.000 10.000, 135....</td>\n",
       "      <td>0.698069</td>\n",
       "      <td>0.013804</td>\n",
       "      <td>None</td>\n",
       "      <td>2.638496</td>\n",
       "    </tr>\n",
       "    <tr>\n",
       "      <th>1652</th>\n",
       "      <td>2024-08-01</td>\n",
       "      <td>4.0</td>\n",
       "      <td>11.5</td>\n",
       "      <td>132.5</td>\n",
       "      <td>190.887711</td>\n",
       "      <td>POINT (132.5 11.5)</td>\n",
       "      <td>POLYGON ((133.000 11.151, 133.000 11.000, 132....</td>\n",
       "      <td>0.019863</td>\n",
       "      <td>0.000393</td>\n",
       "      <td>None</td>\n",
       "      <td>0.074976</td>\n",
       "    </tr>\n",
       "    <tr>\n",
       "      <th>1653</th>\n",
       "      <td>2024-08-01</td>\n",
       "      <td>4.0</td>\n",
       "      <td>11.5</td>\n",
       "      <td>133.5</td>\n",
       "      <td>190.962128</td>\n",
       "      <td>POINT (133.5 11.5)</td>\n",
       "      <td>POLYGON ((133.000 11.000, 133.000 11.151, 133....</td>\n",
       "      <td>0.357457</td>\n",
       "      <td>0.007068</td>\n",
       "      <td>None</td>\n",
       "      <td>1.349785</td>\n",
       "    </tr>\n",
       "    <tr>\n",
       "      <th>1654</th>\n",
       "      <td>2024-08-01</td>\n",
       "      <td>4.0</td>\n",
       "      <td>11.5</td>\n",
       "      <td>134.5</td>\n",
       "      <td>190.991486</td>\n",
       "      <td>POINT (134.5 11.5)</td>\n",
       "      <td>POLYGON ((134.000 11.000, 134.000 11.502, 134....</td>\n",
       "      <td>0.547061</td>\n",
       "      <td>0.010818</td>\n",
       "      <td>None</td>\n",
       "      <td>2.066062</td>\n",
       "    </tr>\n",
       "    <tr>\n",
       "      <th>1655</th>\n",
       "      <td>2024-08-01</td>\n",
       "      <td>4.0</td>\n",
       "      <td>11.5</td>\n",
       "      <td>135.5</td>\n",
       "      <td>190.996185</td>\n",
       "      <td>POINT (135.5 11.5)</td>\n",
       "      <td>POLYGON ((135.000 11.000, 135.000 11.538, 135....</td>\n",
       "      <td>0.211274</td>\n",
       "      <td>0.004178</td>\n",
       "      <td>None</td>\n",
       "      <td>0.797930</td>\n",
       "    </tr>\n",
       "  </tbody>\n",
       "</table>\n",
       "<p>1656 rows × 11 columns</p>\n",
       "</div>"
      ],
      "text/plain": [
       "           time  level  latitude  longitude         sst               point  \\\n",
       "0    2024-03-01    1.0       1.5      130.5   82.758385   POINT (130.5 1.5)   \n",
       "1    2024-03-01    1.0       1.5      131.5   86.438408   POINT (131.5 1.5)   \n",
       "2    2024-03-01    1.0       1.5      132.5   86.200485   POINT (132.5 1.5)   \n",
       "3    2024-03-01    1.0       1.5      133.5   85.401131   POINT (133.5 1.5)   \n",
       "4    2024-03-01    1.0       2.5      129.5   69.689308   POINT (129.5 2.5)   \n",
       "...         ...    ...       ...        ...         ...                 ...   \n",
       "1651 2024-08-01    4.0      10.5      135.5  191.145584  POINT (135.5 10.5)   \n",
       "1652 2024-08-01    4.0      11.5      132.5  190.887711  POINT (132.5 11.5)   \n",
       "1653 2024-08-01    4.0      11.5      133.5  190.962128  POINT (133.5 11.5)   \n",
       "1654 2024-08-01    4.0      11.5      134.5  190.991486  POINT (134.5 11.5)   \n",
       "1655 2024-08-01    4.0      11.5      135.5  190.996185  POINT (135.5 11.5)   \n",
       "\n",
       "                                               geometry      area     parea  \\\n",
       "0     POLYGON ((130.168 2.000, 130.588 2.000, 130.29...  0.005506  0.000109   \n",
       "1     POLYGON ((131.299 2.000, 132.000 2.000, 132.00...  0.069911  0.001382   \n",
       "2     POLYGON ((132.000 1.801, 132.000 2.000, 133.00...  0.288648  0.005708   \n",
       "3     POLYGON ((133.000 1.866, 133.000 2.000, 133.12...  0.008653  0.000171   \n",
       "4     POLYGON ((129.842 3.000, 130.000 3.000, 130.00...  0.052841  0.001045   \n",
       "...                                                 ...       ...       ...   \n",
       "1651  POLYGON ((135.814 10.000, 135.000 10.000, 135....  0.698069  0.013804   \n",
       "1652  POLYGON ((133.000 11.151, 133.000 11.000, 132....  0.019863  0.000393   \n",
       "1653  POLYGON ((133.000 11.000, 133.000 11.151, 133....  0.357457  0.007068   \n",
       "1654  POLYGON ((134.000 11.000, 134.000 11.502, 134....  0.547061  0.010818   \n",
       "1655  POLYGON ((135.000 11.000, 135.000 11.538, 135....  0.211274  0.004178   \n",
       "\n",
       "         fill      psst  \n",
       "0     #1400d3  0.009010  \n",
       "1     #1400d3  0.119494  \n",
       "2     #1400d3  0.492007  \n",
       "3     #1400d3  0.014612  \n",
       "4     #54affe  0.072816  \n",
       "...       ...       ...  \n",
       "1651     None  2.638496  \n",
       "1652     None  0.074976  \n",
       "1653     None  1.349785  \n",
       "1654     None  2.066062  \n",
       "1655     None  0.797930  \n",
       "\n",
       "[1656 rows x 11 columns]"
      ]
     },
     "execution_count": 28,
     "metadata": {},
     "output_type": "execute_result"
    }
   ],
   "source": [
    "xtest"
   ]
  },
  {
   "cell_type": "code",
   "execution_count": null,
   "id": "0295d5a8",
   "metadata": {},
   "outputs": [],
   "source": []
  },
  {
   "cell_type": "code",
   "execution_count": 33,
   "id": "dddc3c1a",
   "metadata": {},
   "outputs": [],
   "source": [
    "APCCPrecProb = xtest[['time','level','latitude','longitude','sst','area','parea','fill','psst']]"
   ]
  },
  {
   "cell_type": "code",
   "execution_count": 35,
   "id": "a350a23b",
   "metadata": {},
   "outputs": [],
   "source": [
    "APCCPrecProb.to_csv('APCCPrecProb.csv')"
   ]
  },
  {
   "cell_type": "code",
   "execution_count": 39,
   "id": "97bd257c",
   "metadata": {},
   "outputs": [
    {
     "data": {
      "text/html": [
       "<div>\n",
       "<style scoped>\n",
       "    .dataframe tbody tr th:only-of-type {\n",
       "        vertical-align: middle;\n",
       "    }\n",
       "\n",
       "    .dataframe tbody tr th {\n",
       "        vertical-align: top;\n",
       "    }\n",
       "\n",
       "    .dataframe thead th {\n",
       "        text-align: right;\n",
       "    }\n",
       "</style>\n",
       "<table border=\"1\" class=\"dataframe\">\n",
       "  <thead>\n",
       "    <tr style=\"text-align: right;\">\n",
       "      <th></th>\n",
       "      <th>time</th>\n",
       "      <th>level</th>\n",
       "      <th>latitude</th>\n",
       "      <th>longitude</th>\n",
       "      <th>sst</th>\n",
       "      <th>point</th>\n",
       "      <th>geometry</th>\n",
       "      <th>area</th>\n",
       "      <th>parea</th>\n",
       "      <th>fill</th>\n",
       "      <th>psst</th>\n",
       "    </tr>\n",
       "  </thead>\n",
       "  <tbody>\n",
       "    <tr>\n",
       "      <th>0</th>\n",
       "      <td>2024-03-01</td>\n",
       "      <td>1.0</td>\n",
       "      <td>1.5</td>\n",
       "      <td>130.5</td>\n",
       "      <td>82.758385</td>\n",
       "      <td>POINT (130.5 1.5)</td>\n",
       "      <td>POLYGON ((130.168 2.000, 130.588 2.000, 130.29...</td>\n",
       "      <td>0.005506</td>\n",
       "      <td>0.000109</td>\n",
       "      <td>#1400d3</td>\n",
       "      <td>0.009010</td>\n",
       "    </tr>\n",
       "    <tr>\n",
       "      <th>1</th>\n",
       "      <td>2024-03-01</td>\n",
       "      <td>1.0</td>\n",
       "      <td>1.5</td>\n",
       "      <td>131.5</td>\n",
       "      <td>86.438408</td>\n",
       "      <td>POINT (131.5 1.5)</td>\n",
       "      <td>POLYGON ((131.299 2.000, 132.000 2.000, 132.00...</td>\n",
       "      <td>0.069911</td>\n",
       "      <td>0.001382</td>\n",
       "      <td>#1400d3</td>\n",
       "      <td>0.119494</td>\n",
       "    </tr>\n",
       "    <tr>\n",
       "      <th>2</th>\n",
       "      <td>2024-03-01</td>\n",
       "      <td>1.0</td>\n",
       "      <td>1.5</td>\n",
       "      <td>132.5</td>\n",
       "      <td>86.200485</td>\n",
       "      <td>POINT (132.5 1.5)</td>\n",
       "      <td>POLYGON ((132.000 1.801, 132.000 2.000, 133.00...</td>\n",
       "      <td>0.288648</td>\n",
       "      <td>0.005708</td>\n",
       "      <td>#1400d3</td>\n",
       "      <td>0.492007</td>\n",
       "    </tr>\n",
       "    <tr>\n",
       "      <th>3</th>\n",
       "      <td>2024-03-01</td>\n",
       "      <td>1.0</td>\n",
       "      <td>1.5</td>\n",
       "      <td>133.5</td>\n",
       "      <td>85.401131</td>\n",
       "      <td>POINT (133.5 1.5)</td>\n",
       "      <td>POLYGON ((133.000 1.866, 133.000 2.000, 133.12...</td>\n",
       "      <td>0.008653</td>\n",
       "      <td>0.000171</td>\n",
       "      <td>#1400d3</td>\n",
       "      <td>0.014612</td>\n",
       "    </tr>\n",
       "    <tr>\n",
       "      <th>4</th>\n",
       "      <td>2024-03-01</td>\n",
       "      <td>1.0</td>\n",
       "      <td>2.5</td>\n",
       "      <td>129.5</td>\n",
       "      <td>69.689308</td>\n",
       "      <td>POINT (129.5 2.5)</td>\n",
       "      <td>POLYGON ((129.842 3.000, 130.000 3.000, 130.00...</td>\n",
       "      <td>0.052841</td>\n",
       "      <td>0.001045</td>\n",
       "      <td>#54affe</td>\n",
       "      <td>0.072816</td>\n",
       "    </tr>\n",
       "    <tr>\n",
       "      <th>...</th>\n",
       "      <td>...</td>\n",
       "      <td>...</td>\n",
       "      <td>...</td>\n",
       "      <td>...</td>\n",
       "      <td>...</td>\n",
       "      <td>...</td>\n",
       "      <td>...</td>\n",
       "      <td>...</td>\n",
       "      <td>...</td>\n",
       "      <td>...</td>\n",
       "      <td>...</td>\n",
       "    </tr>\n",
       "    <tr>\n",
       "      <th>1651</th>\n",
       "      <td>2024-08-01</td>\n",
       "      <td>4.0</td>\n",
       "      <td>10.5</td>\n",
       "      <td>135.5</td>\n",
       "      <td>191.145584</td>\n",
       "      <td>POINT (135.5 10.5)</td>\n",
       "      <td>POLYGON ((135.814 10.000, 135.000 10.000, 135....</td>\n",
       "      <td>0.698069</td>\n",
       "      <td>0.013804</td>\n",
       "      <td>None</td>\n",
       "      <td>2.638496</td>\n",
       "    </tr>\n",
       "    <tr>\n",
       "      <th>1652</th>\n",
       "      <td>2024-08-01</td>\n",
       "      <td>4.0</td>\n",
       "      <td>11.5</td>\n",
       "      <td>132.5</td>\n",
       "      <td>190.887711</td>\n",
       "      <td>POINT (132.5 11.5)</td>\n",
       "      <td>POLYGON ((133.000 11.151, 133.000 11.000, 132....</td>\n",
       "      <td>0.019863</td>\n",
       "      <td>0.000393</td>\n",
       "      <td>None</td>\n",
       "      <td>0.074976</td>\n",
       "    </tr>\n",
       "    <tr>\n",
       "      <th>1653</th>\n",
       "      <td>2024-08-01</td>\n",
       "      <td>4.0</td>\n",
       "      <td>11.5</td>\n",
       "      <td>133.5</td>\n",
       "      <td>190.962128</td>\n",
       "      <td>POINT (133.5 11.5)</td>\n",
       "      <td>POLYGON ((133.000 11.000, 133.000 11.151, 133....</td>\n",
       "      <td>0.357457</td>\n",
       "      <td>0.007068</td>\n",
       "      <td>None</td>\n",
       "      <td>1.349785</td>\n",
       "    </tr>\n",
       "    <tr>\n",
       "      <th>1654</th>\n",
       "      <td>2024-08-01</td>\n",
       "      <td>4.0</td>\n",
       "      <td>11.5</td>\n",
       "      <td>134.5</td>\n",
       "      <td>190.991486</td>\n",
       "      <td>POINT (134.5 11.5)</td>\n",
       "      <td>POLYGON ((134.000 11.000, 134.000 11.502, 134....</td>\n",
       "      <td>0.547061</td>\n",
       "      <td>0.010818</td>\n",
       "      <td>None</td>\n",
       "      <td>2.066062</td>\n",
       "    </tr>\n",
       "    <tr>\n",
       "      <th>1655</th>\n",
       "      <td>2024-08-01</td>\n",
       "      <td>4.0</td>\n",
       "      <td>11.5</td>\n",
       "      <td>135.5</td>\n",
       "      <td>190.996185</td>\n",
       "      <td>POINT (135.5 11.5)</td>\n",
       "      <td>POLYGON ((135.000 11.000, 135.000 11.538, 135....</td>\n",
       "      <td>0.211274</td>\n",
       "      <td>0.004178</td>\n",
       "      <td>None</td>\n",
       "      <td>0.797930</td>\n",
       "    </tr>\n",
       "  </tbody>\n",
       "</table>\n",
       "<p>1656 rows × 11 columns</p>\n",
       "</div>"
      ],
      "text/plain": [
       "            time  level  latitude  longitude         sst               point  \\\n",
       "0     2024-03-01    1.0       1.5      130.5   82.758385   POINT (130.5 1.5)   \n",
       "1     2024-03-01    1.0       1.5      131.5   86.438408   POINT (131.5 1.5)   \n",
       "2     2024-03-01    1.0       1.5      132.5   86.200485   POINT (132.5 1.5)   \n",
       "3     2024-03-01    1.0       1.5      133.5   85.401131   POINT (133.5 1.5)   \n",
       "4     2024-03-01    1.0       2.5      129.5   69.689308   POINT (129.5 2.5)   \n",
       "...          ...    ...       ...        ...         ...                 ...   \n",
       "1651  2024-08-01    4.0      10.5      135.5  191.145584  POINT (135.5 10.5)   \n",
       "1652  2024-08-01    4.0      11.5      132.5  190.887711  POINT (132.5 11.5)   \n",
       "1653  2024-08-01    4.0      11.5      133.5  190.962128  POINT (133.5 11.5)   \n",
       "1654  2024-08-01    4.0      11.5      134.5  190.991486  POINT (134.5 11.5)   \n",
       "1655  2024-08-01    4.0      11.5      135.5  190.996185  POINT (135.5 11.5)   \n",
       "\n",
       "                                               geometry      area     parea  \\\n",
       "0     POLYGON ((130.168 2.000, 130.588 2.000, 130.29...  0.005506  0.000109   \n",
       "1     POLYGON ((131.299 2.000, 132.000 2.000, 132.00...  0.069911  0.001382   \n",
       "2     POLYGON ((132.000 1.801, 132.000 2.000, 133.00...  0.288648  0.005708   \n",
       "3     POLYGON ((133.000 1.866, 133.000 2.000, 133.12...  0.008653  0.000171   \n",
       "4     POLYGON ((129.842 3.000, 130.000 3.000, 130.00...  0.052841  0.001045   \n",
       "...                                                 ...       ...       ...   \n",
       "1651  POLYGON ((135.814 10.000, 135.000 10.000, 135....  0.698069  0.013804   \n",
       "1652  POLYGON ((133.000 11.151, 133.000 11.000, 132....  0.019863  0.000393   \n",
       "1653  POLYGON ((133.000 11.000, 133.000 11.151, 133....  0.357457  0.007068   \n",
       "1654  POLYGON ((134.000 11.000, 134.000 11.502, 134....  0.547061  0.010818   \n",
       "1655  POLYGON ((135.000 11.000, 135.000 11.538, 135....  0.211274  0.004178   \n",
       "\n",
       "         fill      psst  \n",
       "0     #1400d3  0.009010  \n",
       "1     #1400d3  0.119494  \n",
       "2     #1400d3  0.492007  \n",
       "3     #1400d3  0.014612  \n",
       "4     #54affe  0.072816  \n",
       "...       ...       ...  \n",
       "1651     None  2.638496  \n",
       "1652     None  0.074976  \n",
       "1653     None  1.349785  \n",
       "1654     None  2.066062  \n",
       "1655     None  0.797930  \n",
       "\n",
       "[1656 rows x 11 columns]"
      ]
     },
     "execution_count": 39,
     "metadata": {},
     "output_type": "execute_result"
    }
   ],
   "source": [
    "xtest"
   ]
  },
  {
   "cell_type": "code",
   "execution_count": null,
   "id": "fcc5d27b",
   "metadata": {},
   "outputs": [],
   "source": []
  },
  {
   "cell_type": "code",
   "execution_count": 29,
   "id": "b0860d41",
   "metadata": {},
   "outputs": [],
   "source": [
    "testsum = xtest.groupby(['time','level'])['psst'].agg('sum')"
   ]
  },
  {
   "cell_type": "code",
   "execution_count": 30,
   "id": "0ab5e49c",
   "metadata": {},
   "outputs": [
    {
     "data": {
      "text/plain": [
       "time\n",
       "2024-03-01    100.000005\n",
       "2024-04-01    100.000004\n",
       "2024-05-01    100.000004\n",
       "2024-06-01    100.000005\n",
       "2024-07-01    100.000004\n",
       "2024-08-01    100.000006\n",
       "Name: psst, dtype: float64"
      ]
     },
     "execution_count": 30,
     "metadata": {},
     "output_type": "execute_result"
    }
   ],
   "source": [
    "xtest[xtest['level']!= 4.0].groupby(['time'])['psst'].agg('sum')"
   ]
  },
  {
   "cell_type": "code",
   "execution_count": 31,
   "id": "5899169d",
   "metadata": {},
   "outputs": [
    {
     "data": {
      "text/plain": [
       "time        level\n",
       "2024-03-01  1.0       79.189543\n",
       "            2.0       17.503614\n",
       "            3.0        3.306849\n",
       "            4.0      179.189543\n",
       "2024-04-01  1.0       76.598820\n",
       "            2.0       17.188513\n",
       "            3.0        6.212671\n",
       "            4.0      176.598818\n",
       "2024-05-01  1.0       74.556676\n",
       "            2.0       17.101555\n",
       "            3.0        8.341773\n",
       "            4.0      174.556677\n",
       "2024-06-01  1.0       84.165410\n",
       "            2.0       11.666934\n",
       "            3.0        4.167660\n",
       "            4.0      184.165411\n",
       "2024-07-01  1.0       92.051967\n",
       "            2.0        6.527606\n",
       "            3.0        1.420431\n",
       "            4.0      192.051967\n",
       "2024-08-01  1.0       90.029645\n",
       "            2.0        7.922288\n",
       "            3.0        2.048072\n",
       "            4.0      190.029645\n",
       "Name: psst, dtype: float64"
      ]
     },
     "execution_count": 31,
     "metadata": {},
     "output_type": "execute_result"
    }
   ],
   "source": [
    "testsum"
   ]
  },
  {
   "cell_type": "code",
   "execution_count": 30,
   "id": "219a5ccf",
   "metadata": {
    "scrolled": true
   },
   "outputs": [
    {
     "ename": "IndentationError",
     "evalue": "expected an indented block (534048832.py, line 4)",
     "output_type": "error",
     "traceback": [
      "\u001b[0;36m  Cell \u001b[0;32mIn[30], line 4\u001b[0;36m\u001b[0m\n\u001b[0;31m    print(xtest[xtest['time']== t].groupby(['level','longitude','latitude']))\u001b[0m\n\u001b[0m    ^\u001b[0m\n\u001b[0;31mIndentationError\u001b[0m\u001b[0;31m:\u001b[0m expected an indented block\n"
     ]
    }
   ],
   "source": [
    "for t in xtest['time'].unique():\n",
    "#     print(xtest[(xtest['time']== t)&(xtest['level']== 1.0)].groupby([]))\n",
    "#     print(xtest[xtest['time']== t].groupby(['level','longitude','latitude']))\n",
    "print(xtest[xtest['time']== t].groupby(['level','longitude','latitude']))\n",
    "    break"
   ]
  },
  {
   "cell_type": "code",
   "execution_count": 31,
   "id": "78fc83db",
   "metadata": {},
   "outputs": [
    {
     "data": {
      "text/html": [
       "<div>\n",
       "<style scoped>\n",
       "    .dataframe tbody tr th:only-of-type {\n",
       "        vertical-align: middle;\n",
       "    }\n",
       "\n",
       "    .dataframe tbody tr th {\n",
       "        vertical-align: top;\n",
       "    }\n",
       "\n",
       "    .dataframe thead th {\n",
       "        text-align: right;\n",
       "    }\n",
       "</style>\n",
       "<table border=\"1\" class=\"dataframe\">\n",
       "  <thead>\n",
       "    <tr style=\"text-align: right;\">\n",
       "      <th></th>\n",
       "      <th>time</th>\n",
       "      <th>level</th>\n",
       "      <th>latitude</th>\n",
       "      <th>longitude</th>\n",
       "      <th>sst</th>\n",
       "      <th>point</th>\n",
       "      <th>geometry</th>\n",
       "      <th>area</th>\n",
       "      <th>parea</th>\n",
       "      <th>fill</th>\n",
       "      <th>psst</th>\n",
       "    </tr>\n",
       "  </thead>\n",
       "  <tbody>\n",
       "    <tr>\n",
       "      <th>0</th>\n",
       "      <td>2024-03-01</td>\n",
       "      <td>1.0</td>\n",
       "      <td>1.5</td>\n",
       "      <td>130.5</td>\n",
       "      <td>82.758385</td>\n",
       "      <td>POINT (130.5 1.5)</td>\n",
       "      <td>POLYGON ((130.168 2.000, 130.588 2.000, 130.29...</td>\n",
       "      <td>0.005506</td>\n",
       "      <td>0.000109</td>\n",
       "      <td>#1400d3</td>\n",
       "      <td>0.009010</td>\n",
       "    </tr>\n",
       "    <tr>\n",
       "      <th>69</th>\n",
       "      <td>2024-03-01</td>\n",
       "      <td>2.0</td>\n",
       "      <td>1.5</td>\n",
       "      <td>130.5</td>\n",
       "      <td>17.053295</td>\n",
       "      <td>POINT (130.5 1.5)</td>\n",
       "      <td>POLYGON ((130.168 2.000, 130.588 2.000, 130.29...</td>\n",
       "      <td>0.005506</td>\n",
       "      <td>0.000109</td>\n",
       "      <td>#ffffff</td>\n",
       "      <td>0.001857</td>\n",
       "    </tr>\n",
       "    <tr>\n",
       "      <th>138</th>\n",
       "      <td>2024-03-01</td>\n",
       "      <td>3.0</td>\n",
       "      <td>1.5</td>\n",
       "      <td>130.5</td>\n",
       "      <td>0.188327</td>\n",
       "      <td>POINT (130.5 1.5)</td>\n",
       "      <td>POLYGON ((130.168 2.000, 130.588 2.000, 130.29...</td>\n",
       "      <td>0.005506</td>\n",
       "      <td>0.000109</td>\n",
       "      <td>#ffffff</td>\n",
       "      <td>0.000021</td>\n",
       "    </tr>\n",
       "    <tr>\n",
       "      <th>207</th>\n",
       "      <td>2024-03-01</td>\n",
       "      <td>4.0</td>\n",
       "      <td>1.5</td>\n",
       "      <td>130.5</td>\n",
       "      <td>182.758392</td>\n",
       "      <td>POINT (130.5 1.5)</td>\n",
       "      <td>POLYGON ((130.168 2.000, 130.588 2.000, 130.29...</td>\n",
       "      <td>0.005506</td>\n",
       "      <td>0.000109</td>\n",
       "      <td>None</td>\n",
       "      <td>0.019896</td>\n",
       "    </tr>\n",
       "    <tr>\n",
       "      <th>276</th>\n",
       "      <td>2024-04-01</td>\n",
       "      <td>1.0</td>\n",
       "      <td>1.5</td>\n",
       "      <td>130.5</td>\n",
       "      <td>94.117340</td>\n",
       "      <td>POINT (130.5 1.5)</td>\n",
       "      <td>POLYGON ((130.168 2.000, 130.588 2.000, 130.29...</td>\n",
       "      <td>0.005506</td>\n",
       "      <td>0.000109</td>\n",
       "      <td>#1400d3</td>\n",
       "      <td>0.010246</td>\n",
       "    </tr>\n",
       "    <tr>\n",
       "      <th>345</th>\n",
       "      <td>2024-04-01</td>\n",
       "      <td>2.0</td>\n",
       "      <td>1.5</td>\n",
       "      <td>130.5</td>\n",
       "      <td>5.648033</td>\n",
       "      <td>POINT (130.5 1.5)</td>\n",
       "      <td>POLYGON ((130.168 2.000, 130.588 2.000, 130.29...</td>\n",
       "      <td>0.005506</td>\n",
       "      <td>0.000109</td>\n",
       "      <td>#ffffff</td>\n",
       "      <td>0.000615</td>\n",
       "    </tr>\n",
       "    <tr>\n",
       "      <th>414</th>\n",
       "      <td>2024-04-01</td>\n",
       "      <td>3.0</td>\n",
       "      <td>1.5</td>\n",
       "      <td>130.5</td>\n",
       "      <td>0.234623</td>\n",
       "      <td>POINT (130.5 1.5)</td>\n",
       "      <td>POLYGON ((130.168 2.000, 130.588 2.000, 130.29...</td>\n",
       "      <td>0.005506</td>\n",
       "      <td>0.000109</td>\n",
       "      <td>#ffffff</td>\n",
       "      <td>0.000026</td>\n",
       "    </tr>\n",
       "    <tr>\n",
       "      <th>483</th>\n",
       "      <td>2024-04-01</td>\n",
       "      <td>4.0</td>\n",
       "      <td>1.5</td>\n",
       "      <td>130.5</td>\n",
       "      <td>194.117340</td>\n",
       "      <td>POINT (130.5 1.5)</td>\n",
       "      <td>POLYGON ((130.168 2.000, 130.588 2.000, 130.29...</td>\n",
       "      <td>0.005506</td>\n",
       "      <td>0.000109</td>\n",
       "      <td>None</td>\n",
       "      <td>0.021133</td>\n",
       "    </tr>\n",
       "    <tr>\n",
       "      <th>552</th>\n",
       "      <td>2024-05-01</td>\n",
       "      <td>1.0</td>\n",
       "      <td>1.5</td>\n",
       "      <td>130.5</td>\n",
       "      <td>92.299187</td>\n",
       "      <td>POINT (130.5 1.5)</td>\n",
       "      <td>POLYGON ((130.168 2.000, 130.588 2.000, 130.29...</td>\n",
       "      <td>0.005506</td>\n",
       "      <td>0.000109</td>\n",
       "      <td>#1400d3</td>\n",
       "      <td>0.010048</td>\n",
       "    </tr>\n",
       "    <tr>\n",
       "      <th>621</th>\n",
       "      <td>2024-05-01</td>\n",
       "      <td>2.0</td>\n",
       "      <td>1.5</td>\n",
       "      <td>130.5</td>\n",
       "      <td>6.669257</td>\n",
       "      <td>POINT (130.5 1.5)</td>\n",
       "      <td>POLYGON ((130.168 2.000, 130.588 2.000, 130.29...</td>\n",
       "      <td>0.005506</td>\n",
       "      <td>0.000109</td>\n",
       "      <td>#ffffff</td>\n",
       "      <td>0.000726</td>\n",
       "    </tr>\n",
       "    <tr>\n",
       "      <th>690</th>\n",
       "      <td>2024-05-01</td>\n",
       "      <td>3.0</td>\n",
       "      <td>1.5</td>\n",
       "      <td>130.5</td>\n",
       "      <td>1.031565</td>\n",
       "      <td>POINT (130.5 1.5)</td>\n",
       "      <td>POLYGON ((130.168 2.000, 130.588 2.000, 130.29...</td>\n",
       "      <td>0.005506</td>\n",
       "      <td>0.000109</td>\n",
       "      <td>#ffffff</td>\n",
       "      <td>0.000112</td>\n",
       "    </tr>\n",
       "    <tr>\n",
       "      <th>759</th>\n",
       "      <td>2024-05-01</td>\n",
       "      <td>4.0</td>\n",
       "      <td>1.5</td>\n",
       "      <td>130.5</td>\n",
       "      <td>192.299194</td>\n",
       "      <td>POINT (130.5 1.5)</td>\n",
       "      <td>POLYGON ((130.168 2.000, 130.588 2.000, 130.29...</td>\n",
       "      <td>0.005506</td>\n",
       "      <td>0.000109</td>\n",
       "      <td>None</td>\n",
       "      <td>0.020935</td>\n",
       "    </tr>\n",
       "    <tr>\n",
       "      <th>828</th>\n",
       "      <td>2024-06-01</td>\n",
       "      <td>1.0</td>\n",
       "      <td>1.5</td>\n",
       "      <td>130.5</td>\n",
       "      <td>93.544601</td>\n",
       "      <td>POINT (130.5 1.5)</td>\n",
       "      <td>POLYGON ((130.168 2.000, 130.588 2.000, 130.29...</td>\n",
       "      <td>0.005506</td>\n",
       "      <td>0.000109</td>\n",
       "      <td>#1400d3</td>\n",
       "      <td>0.010184</td>\n",
       "    </tr>\n",
       "    <tr>\n",
       "      <th>897</th>\n",
       "      <td>2024-06-01</td>\n",
       "      <td>2.0</td>\n",
       "      <td>1.5</td>\n",
       "      <td>130.5</td>\n",
       "      <td>5.537823</td>\n",
       "      <td>POINT (130.5 1.5)</td>\n",
       "      <td>POLYGON ((130.168 2.000, 130.588 2.000, 130.29...</td>\n",
       "      <td>0.005506</td>\n",
       "      <td>0.000109</td>\n",
       "      <td>#ffffff</td>\n",
       "      <td>0.000603</td>\n",
       "    </tr>\n",
       "    <tr>\n",
       "      <th>966</th>\n",
       "      <td>2024-06-01</td>\n",
       "      <td>3.0</td>\n",
       "      <td>1.5</td>\n",
       "      <td>130.5</td>\n",
       "      <td>0.917579</td>\n",
       "      <td>POINT (130.5 1.5)</td>\n",
       "      <td>POLYGON ((130.168 2.000, 130.588 2.000, 130.29...</td>\n",
       "      <td>0.005506</td>\n",
       "      <td>0.000109</td>\n",
       "      <td>#ffffff</td>\n",
       "      <td>0.000100</td>\n",
       "    </tr>\n",
       "    <tr>\n",
       "      <th>1035</th>\n",
       "      <td>2024-06-01</td>\n",
       "      <td>4.0</td>\n",
       "      <td>1.5</td>\n",
       "      <td>130.5</td>\n",
       "      <td>193.544601</td>\n",
       "      <td>POINT (130.5 1.5)</td>\n",
       "      <td>POLYGON ((130.168 2.000, 130.588 2.000, 130.29...</td>\n",
       "      <td>0.005506</td>\n",
       "      <td>0.000109</td>\n",
       "      <td>None</td>\n",
       "      <td>0.021070</td>\n",
       "    </tr>\n",
       "    <tr>\n",
       "      <th>1104</th>\n",
       "      <td>2024-07-01</td>\n",
       "      <td>1.0</td>\n",
       "      <td>1.5</td>\n",
       "      <td>130.5</td>\n",
       "      <td>92.850632</td>\n",
       "      <td>POINT (130.5 1.5)</td>\n",
       "      <td>POLYGON ((130.168 2.000, 130.588 2.000, 130.29...</td>\n",
       "      <td>0.005506</td>\n",
       "      <td>0.000109</td>\n",
       "      <td>#1400d3</td>\n",
       "      <td>0.010108</td>\n",
       "    </tr>\n",
       "    <tr>\n",
       "      <th>1173</th>\n",
       "      <td>2024-07-01</td>\n",
       "      <td>2.0</td>\n",
       "      <td>1.5</td>\n",
       "      <td>130.5</td>\n",
       "      <td>6.115026</td>\n",
       "      <td>POINT (130.5 1.5)</td>\n",
       "      <td>POLYGON ((130.168 2.000, 130.588 2.000, 130.29...</td>\n",
       "      <td>0.005506</td>\n",
       "      <td>0.000109</td>\n",
       "      <td>#ffffff</td>\n",
       "      <td>0.000666</td>\n",
       "    </tr>\n",
       "    <tr>\n",
       "      <th>1242</th>\n",
       "      <td>2024-07-01</td>\n",
       "      <td>3.0</td>\n",
       "      <td>1.5</td>\n",
       "      <td>130.5</td>\n",
       "      <td>1.034350</td>\n",
       "      <td>POINT (130.5 1.5)</td>\n",
       "      <td>POLYGON ((130.168 2.000, 130.588 2.000, 130.29...</td>\n",
       "      <td>0.005506</td>\n",
       "      <td>0.000109</td>\n",
       "      <td>#ffffff</td>\n",
       "      <td>0.000113</td>\n",
       "    </tr>\n",
       "    <tr>\n",
       "      <th>1311</th>\n",
       "      <td>2024-07-01</td>\n",
       "      <td>4.0</td>\n",
       "      <td>1.5</td>\n",
       "      <td>130.5</td>\n",
       "      <td>192.850632</td>\n",
       "      <td>POINT (130.5 1.5)</td>\n",
       "      <td>POLYGON ((130.168 2.000, 130.588 2.000, 130.29...</td>\n",
       "      <td>0.005506</td>\n",
       "      <td>0.000109</td>\n",
       "      <td>None</td>\n",
       "      <td>0.020995</td>\n",
       "    </tr>\n",
       "    <tr>\n",
       "      <th>1380</th>\n",
       "      <td>2024-08-01</td>\n",
       "      <td>1.0</td>\n",
       "      <td>1.5</td>\n",
       "      <td>130.5</td>\n",
       "      <td>84.640930</td>\n",
       "      <td>POINT (130.5 1.5)</td>\n",
       "      <td>POLYGON ((130.168 2.000, 130.588 2.000, 130.29...</td>\n",
       "      <td>0.005506</td>\n",
       "      <td>0.000109</td>\n",
       "      <td>#1400d3</td>\n",
       "      <td>0.009215</td>\n",
       "    </tr>\n",
       "    <tr>\n",
       "      <th>1449</th>\n",
       "      <td>2024-08-01</td>\n",
       "      <td>2.0</td>\n",
       "      <td>1.5</td>\n",
       "      <td>130.5</td>\n",
       "      <td>13.192924</td>\n",
       "      <td>POINT (130.5 1.5)</td>\n",
       "      <td>POLYGON ((130.168 2.000, 130.588 2.000, 130.29...</td>\n",
       "      <td>0.005506</td>\n",
       "      <td>0.000109</td>\n",
       "      <td>#ffffff</td>\n",
       "      <td>0.001436</td>\n",
       "    </tr>\n",
       "    <tr>\n",
       "      <th>1518</th>\n",
       "      <td>2024-08-01</td>\n",
       "      <td>3.0</td>\n",
       "      <td>1.5</td>\n",
       "      <td>130.5</td>\n",
       "      <td>2.166145</td>\n",
       "      <td>POINT (130.5 1.5)</td>\n",
       "      <td>POLYGON ((130.168 2.000, 130.588 2.000, 130.29...</td>\n",
       "      <td>0.005506</td>\n",
       "      <td>0.000109</td>\n",
       "      <td>#ffffff</td>\n",
       "      <td>0.000236</td>\n",
       "    </tr>\n",
       "    <tr>\n",
       "      <th>1587</th>\n",
       "      <td>2024-08-01</td>\n",
       "      <td>4.0</td>\n",
       "      <td>1.5</td>\n",
       "      <td>130.5</td>\n",
       "      <td>184.640930</td>\n",
       "      <td>POINT (130.5 1.5)</td>\n",
       "      <td>POLYGON ((130.168 2.000, 130.588 2.000, 130.29...</td>\n",
       "      <td>0.005506</td>\n",
       "      <td>0.000109</td>\n",
       "      <td>None</td>\n",
       "      <td>0.020101</td>\n",
       "    </tr>\n",
       "  </tbody>\n",
       "</table>\n",
       "</div>"
      ],
      "text/plain": [
       "           time  level  latitude  longitude         sst              point  \\\n",
       "0    2024-03-01    1.0       1.5      130.5   82.758385  POINT (130.5 1.5)   \n",
       "69   2024-03-01    2.0       1.5      130.5   17.053295  POINT (130.5 1.5)   \n",
       "138  2024-03-01    3.0       1.5      130.5    0.188327  POINT (130.5 1.5)   \n",
       "207  2024-03-01    4.0       1.5      130.5  182.758392  POINT (130.5 1.5)   \n",
       "276  2024-04-01    1.0       1.5      130.5   94.117340  POINT (130.5 1.5)   \n",
       "345  2024-04-01    2.0       1.5      130.5    5.648033  POINT (130.5 1.5)   \n",
       "414  2024-04-01    3.0       1.5      130.5    0.234623  POINT (130.5 1.5)   \n",
       "483  2024-04-01    4.0       1.5      130.5  194.117340  POINT (130.5 1.5)   \n",
       "552  2024-05-01    1.0       1.5      130.5   92.299187  POINT (130.5 1.5)   \n",
       "621  2024-05-01    2.0       1.5      130.5    6.669257  POINT (130.5 1.5)   \n",
       "690  2024-05-01    3.0       1.5      130.5    1.031565  POINT (130.5 1.5)   \n",
       "759  2024-05-01    4.0       1.5      130.5  192.299194  POINT (130.5 1.5)   \n",
       "828  2024-06-01    1.0       1.5      130.5   93.544601  POINT (130.5 1.5)   \n",
       "897  2024-06-01    2.0       1.5      130.5    5.537823  POINT (130.5 1.5)   \n",
       "966  2024-06-01    3.0       1.5      130.5    0.917579  POINT (130.5 1.5)   \n",
       "1035 2024-06-01    4.0       1.5      130.5  193.544601  POINT (130.5 1.5)   \n",
       "1104 2024-07-01    1.0       1.5      130.5   92.850632  POINT (130.5 1.5)   \n",
       "1173 2024-07-01    2.0       1.5      130.5    6.115026  POINT (130.5 1.5)   \n",
       "1242 2024-07-01    3.0       1.5      130.5    1.034350  POINT (130.5 1.5)   \n",
       "1311 2024-07-01    4.0       1.5      130.5  192.850632  POINT (130.5 1.5)   \n",
       "1380 2024-08-01    1.0       1.5      130.5   84.640930  POINT (130.5 1.5)   \n",
       "1449 2024-08-01    2.0       1.5      130.5   13.192924  POINT (130.5 1.5)   \n",
       "1518 2024-08-01    3.0       1.5      130.5    2.166145  POINT (130.5 1.5)   \n",
       "1587 2024-08-01    4.0       1.5      130.5  184.640930  POINT (130.5 1.5)   \n",
       "\n",
       "                                               geometry      area     parea  \\\n",
       "0     POLYGON ((130.168 2.000, 130.588 2.000, 130.29...  0.005506  0.000109   \n",
       "69    POLYGON ((130.168 2.000, 130.588 2.000, 130.29...  0.005506  0.000109   \n",
       "138   POLYGON ((130.168 2.000, 130.588 2.000, 130.29...  0.005506  0.000109   \n",
       "207   POLYGON ((130.168 2.000, 130.588 2.000, 130.29...  0.005506  0.000109   \n",
       "276   POLYGON ((130.168 2.000, 130.588 2.000, 130.29...  0.005506  0.000109   \n",
       "345   POLYGON ((130.168 2.000, 130.588 2.000, 130.29...  0.005506  0.000109   \n",
       "414   POLYGON ((130.168 2.000, 130.588 2.000, 130.29...  0.005506  0.000109   \n",
       "483   POLYGON ((130.168 2.000, 130.588 2.000, 130.29...  0.005506  0.000109   \n",
       "552   POLYGON ((130.168 2.000, 130.588 2.000, 130.29...  0.005506  0.000109   \n",
       "621   POLYGON ((130.168 2.000, 130.588 2.000, 130.29...  0.005506  0.000109   \n",
       "690   POLYGON ((130.168 2.000, 130.588 2.000, 130.29...  0.005506  0.000109   \n",
       "759   POLYGON ((130.168 2.000, 130.588 2.000, 130.29...  0.005506  0.000109   \n",
       "828   POLYGON ((130.168 2.000, 130.588 2.000, 130.29...  0.005506  0.000109   \n",
       "897   POLYGON ((130.168 2.000, 130.588 2.000, 130.29...  0.005506  0.000109   \n",
       "966   POLYGON ((130.168 2.000, 130.588 2.000, 130.29...  0.005506  0.000109   \n",
       "1035  POLYGON ((130.168 2.000, 130.588 2.000, 130.29...  0.005506  0.000109   \n",
       "1104  POLYGON ((130.168 2.000, 130.588 2.000, 130.29...  0.005506  0.000109   \n",
       "1173  POLYGON ((130.168 2.000, 130.588 2.000, 130.29...  0.005506  0.000109   \n",
       "1242  POLYGON ((130.168 2.000, 130.588 2.000, 130.29...  0.005506  0.000109   \n",
       "1311  POLYGON ((130.168 2.000, 130.588 2.000, 130.29...  0.005506  0.000109   \n",
       "1380  POLYGON ((130.168 2.000, 130.588 2.000, 130.29...  0.005506  0.000109   \n",
       "1449  POLYGON ((130.168 2.000, 130.588 2.000, 130.29...  0.005506  0.000109   \n",
       "1518  POLYGON ((130.168 2.000, 130.588 2.000, 130.29...  0.005506  0.000109   \n",
       "1587  POLYGON ((130.168 2.000, 130.588 2.000, 130.29...  0.005506  0.000109   \n",
       "\n",
       "         fill      psst  \n",
       "0     #1400d3  0.009010  \n",
       "69    #ffffff  0.001857  \n",
       "138   #ffffff  0.000021  \n",
       "207      None  0.019896  \n",
       "276   #1400d3  0.010246  \n",
       "345   #ffffff  0.000615  \n",
       "414   #ffffff  0.000026  \n",
       "483      None  0.021133  \n",
       "552   #1400d3  0.010048  \n",
       "621   #ffffff  0.000726  \n",
       "690   #ffffff  0.000112  \n",
       "759      None  0.020935  \n",
       "828   #1400d3  0.010184  \n",
       "897   #ffffff  0.000603  \n",
       "966   #ffffff  0.000100  \n",
       "1035     None  0.021070  \n",
       "1104  #1400d3  0.010108  \n",
       "1173  #ffffff  0.000666  \n",
       "1242  #ffffff  0.000113  \n",
       "1311     None  0.020995  \n",
       "1380  #1400d3  0.009215  \n",
       "1449  #ffffff  0.001436  \n",
       "1518  #ffffff  0.000236  \n",
       "1587     None  0.020101  "
      ]
     },
     "execution_count": 31,
     "metadata": {},
     "output_type": "execute_result"
    }
   ],
   "source": [
    "xtest[xtest['point'] == Point(130.5,1.5)]"
   ]
  },
  {
   "cell_type": "code",
   "execution_count": 638,
   "id": "d1d6ea58",
   "metadata": {},
   "outputs": [
    {
     "data": {
      "text/html": [
       "<div>\n",
       "<style scoped>\n",
       "    .dataframe tbody tr th:only-of-type {\n",
       "        vertical-align: middle;\n",
       "    }\n",
       "\n",
       "    .dataframe tbody tr th {\n",
       "        vertical-align: top;\n",
       "    }\n",
       "\n",
       "    .dataframe thead th {\n",
       "        text-align: right;\n",
       "    }\n",
       "</style>\n",
       "<table border=\"1\" class=\"dataframe\">\n",
       "  <thead>\n",
       "    <tr style=\"text-align: right;\">\n",
       "      <th></th>\n",
       "      <th>time</th>\n",
       "      <th>level</th>\n",
       "      <th>latitude</th>\n",
       "      <th>longitude</th>\n",
       "      <th>sst</th>\n",
       "      <th>point</th>\n",
       "      <th>geometry</th>\n",
       "      <th>area</th>\n",
       "      <th>parea</th>\n",
       "      <th>fill</th>\n",
       "    </tr>\n",
       "  </thead>\n",
       "  <tbody>\n",
       "    <tr>\n",
       "      <th>0</th>\n",
       "      <td>2024-03-01</td>\n",
       "      <td>1.0</td>\n",
       "      <td>1.5</td>\n",
       "      <td>130.5</td>\n",
       "      <td>82.758385</td>\n",
       "      <td>POINT (130.5 1.5)</td>\n",
       "      <td>POLYGON ((130.168 2.000, 130.588 2.000, 130.29...</td>\n",
       "      <td>0.005506</td>\n",
       "      <td>0.000109</td>\n",
       "      <td>#1400d3</td>\n",
       "    </tr>\n",
       "    <tr>\n",
       "      <th>69</th>\n",
       "      <td>2024-03-01</td>\n",
       "      <td>2.0</td>\n",
       "      <td>1.5</td>\n",
       "      <td>130.5</td>\n",
       "      <td>17.053295</td>\n",
       "      <td>POINT (130.5 1.5)</td>\n",
       "      <td>POLYGON ((130.168 2.000, 130.588 2.000, 130.29...</td>\n",
       "      <td>0.005506</td>\n",
       "      <td>0.000109</td>\n",
       "      <td>#ffffff</td>\n",
       "    </tr>\n",
       "    <tr>\n",
       "      <th>138</th>\n",
       "      <td>2024-03-01</td>\n",
       "      <td>3.0</td>\n",
       "      <td>1.5</td>\n",
       "      <td>130.5</td>\n",
       "      <td>0.188327</td>\n",
       "      <td>POINT (130.5 1.5)</td>\n",
       "      <td>POLYGON ((130.168 2.000, 130.588 2.000, 130.29...</td>\n",
       "      <td>0.005506</td>\n",
       "      <td>0.000109</td>\n",
       "      <td>#ffffff</td>\n",
       "    </tr>\n",
       "    <tr>\n",
       "      <th>207</th>\n",
       "      <td>2024-03-01</td>\n",
       "      <td>4.0</td>\n",
       "      <td>1.5</td>\n",
       "      <td>130.5</td>\n",
       "      <td>182.758392</td>\n",
       "      <td>POINT (130.5 1.5)</td>\n",
       "      <td>POLYGON ((130.168 2.000, 130.588 2.000, 130.29...</td>\n",
       "      <td>0.005506</td>\n",
       "      <td>0.000109</td>\n",
       "      <td>None</td>\n",
       "    </tr>\n",
       "    <tr>\n",
       "      <th>276</th>\n",
       "      <td>2024-04-01</td>\n",
       "      <td>1.0</td>\n",
       "      <td>1.5</td>\n",
       "      <td>130.5</td>\n",
       "      <td>94.117340</td>\n",
       "      <td>POINT (130.5 1.5)</td>\n",
       "      <td>POLYGON ((130.168 2.000, 130.588 2.000, 130.29...</td>\n",
       "      <td>0.005506</td>\n",
       "      <td>0.000109</td>\n",
       "      <td>#1400d3</td>\n",
       "    </tr>\n",
       "    <tr>\n",
       "      <th>345</th>\n",
       "      <td>2024-04-01</td>\n",
       "      <td>2.0</td>\n",
       "      <td>1.5</td>\n",
       "      <td>130.5</td>\n",
       "      <td>5.648033</td>\n",
       "      <td>POINT (130.5 1.5)</td>\n",
       "      <td>POLYGON ((130.168 2.000, 130.588 2.000, 130.29...</td>\n",
       "      <td>0.005506</td>\n",
       "      <td>0.000109</td>\n",
       "      <td>#ffffff</td>\n",
       "    </tr>\n",
       "    <tr>\n",
       "      <th>414</th>\n",
       "      <td>2024-04-01</td>\n",
       "      <td>3.0</td>\n",
       "      <td>1.5</td>\n",
       "      <td>130.5</td>\n",
       "      <td>0.234623</td>\n",
       "      <td>POINT (130.5 1.5)</td>\n",
       "      <td>POLYGON ((130.168 2.000, 130.588 2.000, 130.29...</td>\n",
       "      <td>0.005506</td>\n",
       "      <td>0.000109</td>\n",
       "      <td>#ffffff</td>\n",
       "    </tr>\n",
       "    <tr>\n",
       "      <th>483</th>\n",
       "      <td>2024-04-01</td>\n",
       "      <td>4.0</td>\n",
       "      <td>1.5</td>\n",
       "      <td>130.5</td>\n",
       "      <td>194.117340</td>\n",
       "      <td>POINT (130.5 1.5)</td>\n",
       "      <td>POLYGON ((130.168 2.000, 130.588 2.000, 130.29...</td>\n",
       "      <td>0.005506</td>\n",
       "      <td>0.000109</td>\n",
       "      <td>None</td>\n",
       "    </tr>\n",
       "    <tr>\n",
       "      <th>552</th>\n",
       "      <td>2024-05-01</td>\n",
       "      <td>1.0</td>\n",
       "      <td>1.5</td>\n",
       "      <td>130.5</td>\n",
       "      <td>92.299187</td>\n",
       "      <td>POINT (130.5 1.5)</td>\n",
       "      <td>POLYGON ((130.168 2.000, 130.588 2.000, 130.29...</td>\n",
       "      <td>0.005506</td>\n",
       "      <td>0.000109</td>\n",
       "      <td>#1400d3</td>\n",
       "    </tr>\n",
       "    <tr>\n",
       "      <th>621</th>\n",
       "      <td>2024-05-01</td>\n",
       "      <td>2.0</td>\n",
       "      <td>1.5</td>\n",
       "      <td>130.5</td>\n",
       "      <td>6.669257</td>\n",
       "      <td>POINT (130.5 1.5)</td>\n",
       "      <td>POLYGON ((130.168 2.000, 130.588 2.000, 130.29...</td>\n",
       "      <td>0.005506</td>\n",
       "      <td>0.000109</td>\n",
       "      <td>#ffffff</td>\n",
       "    </tr>\n",
       "    <tr>\n",
       "      <th>690</th>\n",
       "      <td>2024-05-01</td>\n",
       "      <td>3.0</td>\n",
       "      <td>1.5</td>\n",
       "      <td>130.5</td>\n",
       "      <td>1.031565</td>\n",
       "      <td>POINT (130.5 1.5)</td>\n",
       "      <td>POLYGON ((130.168 2.000, 130.588 2.000, 130.29...</td>\n",
       "      <td>0.005506</td>\n",
       "      <td>0.000109</td>\n",
       "      <td>#ffffff</td>\n",
       "    </tr>\n",
       "    <tr>\n",
       "      <th>759</th>\n",
       "      <td>2024-05-01</td>\n",
       "      <td>4.0</td>\n",
       "      <td>1.5</td>\n",
       "      <td>130.5</td>\n",
       "      <td>192.299194</td>\n",
       "      <td>POINT (130.5 1.5)</td>\n",
       "      <td>POLYGON ((130.168 2.000, 130.588 2.000, 130.29...</td>\n",
       "      <td>0.005506</td>\n",
       "      <td>0.000109</td>\n",
       "      <td>None</td>\n",
       "    </tr>\n",
       "    <tr>\n",
       "      <th>828</th>\n",
       "      <td>2024-06-01</td>\n",
       "      <td>1.0</td>\n",
       "      <td>1.5</td>\n",
       "      <td>130.5</td>\n",
       "      <td>93.544601</td>\n",
       "      <td>POINT (130.5 1.5)</td>\n",
       "      <td>POLYGON ((130.168 2.000, 130.588 2.000, 130.29...</td>\n",
       "      <td>0.005506</td>\n",
       "      <td>0.000109</td>\n",
       "      <td>#1400d3</td>\n",
       "    </tr>\n",
       "    <tr>\n",
       "      <th>897</th>\n",
       "      <td>2024-06-01</td>\n",
       "      <td>2.0</td>\n",
       "      <td>1.5</td>\n",
       "      <td>130.5</td>\n",
       "      <td>5.537823</td>\n",
       "      <td>POINT (130.5 1.5)</td>\n",
       "      <td>POLYGON ((130.168 2.000, 130.588 2.000, 130.29...</td>\n",
       "      <td>0.005506</td>\n",
       "      <td>0.000109</td>\n",
       "      <td>#ffffff</td>\n",
       "    </tr>\n",
       "    <tr>\n",
       "      <th>966</th>\n",
       "      <td>2024-06-01</td>\n",
       "      <td>3.0</td>\n",
       "      <td>1.5</td>\n",
       "      <td>130.5</td>\n",
       "      <td>0.917579</td>\n",
       "      <td>POINT (130.5 1.5)</td>\n",
       "      <td>POLYGON ((130.168 2.000, 130.588 2.000, 130.29...</td>\n",
       "      <td>0.005506</td>\n",
       "      <td>0.000109</td>\n",
       "      <td>#ffffff</td>\n",
       "    </tr>\n",
       "    <tr>\n",
       "      <th>1035</th>\n",
       "      <td>2024-06-01</td>\n",
       "      <td>4.0</td>\n",
       "      <td>1.5</td>\n",
       "      <td>130.5</td>\n",
       "      <td>193.544601</td>\n",
       "      <td>POINT (130.5 1.5)</td>\n",
       "      <td>POLYGON ((130.168 2.000, 130.588 2.000, 130.29...</td>\n",
       "      <td>0.005506</td>\n",
       "      <td>0.000109</td>\n",
       "      <td>None</td>\n",
       "    </tr>\n",
       "    <tr>\n",
       "      <th>1104</th>\n",
       "      <td>2024-07-01</td>\n",
       "      <td>1.0</td>\n",
       "      <td>1.5</td>\n",
       "      <td>130.5</td>\n",
       "      <td>92.850632</td>\n",
       "      <td>POINT (130.5 1.5)</td>\n",
       "      <td>POLYGON ((130.168 2.000, 130.588 2.000, 130.29...</td>\n",
       "      <td>0.005506</td>\n",
       "      <td>0.000109</td>\n",
       "      <td>#1400d3</td>\n",
       "    </tr>\n",
       "    <tr>\n",
       "      <th>1173</th>\n",
       "      <td>2024-07-01</td>\n",
       "      <td>2.0</td>\n",
       "      <td>1.5</td>\n",
       "      <td>130.5</td>\n",
       "      <td>6.115026</td>\n",
       "      <td>POINT (130.5 1.5)</td>\n",
       "      <td>POLYGON ((130.168 2.000, 130.588 2.000, 130.29...</td>\n",
       "      <td>0.005506</td>\n",
       "      <td>0.000109</td>\n",
       "      <td>#ffffff</td>\n",
       "    </tr>\n",
       "    <tr>\n",
       "      <th>1242</th>\n",
       "      <td>2024-07-01</td>\n",
       "      <td>3.0</td>\n",
       "      <td>1.5</td>\n",
       "      <td>130.5</td>\n",
       "      <td>1.034350</td>\n",
       "      <td>POINT (130.5 1.5)</td>\n",
       "      <td>POLYGON ((130.168 2.000, 130.588 2.000, 130.29...</td>\n",
       "      <td>0.005506</td>\n",
       "      <td>0.000109</td>\n",
       "      <td>#ffffff</td>\n",
       "    </tr>\n",
       "    <tr>\n",
       "      <th>1311</th>\n",
       "      <td>2024-07-01</td>\n",
       "      <td>4.0</td>\n",
       "      <td>1.5</td>\n",
       "      <td>130.5</td>\n",
       "      <td>192.850632</td>\n",
       "      <td>POINT (130.5 1.5)</td>\n",
       "      <td>POLYGON ((130.168 2.000, 130.588 2.000, 130.29...</td>\n",
       "      <td>0.005506</td>\n",
       "      <td>0.000109</td>\n",
       "      <td>None</td>\n",
       "    </tr>\n",
       "    <tr>\n",
       "      <th>1380</th>\n",
       "      <td>2024-08-01</td>\n",
       "      <td>1.0</td>\n",
       "      <td>1.5</td>\n",
       "      <td>130.5</td>\n",
       "      <td>84.640930</td>\n",
       "      <td>POINT (130.5 1.5)</td>\n",
       "      <td>POLYGON ((130.168 2.000, 130.588 2.000, 130.29...</td>\n",
       "      <td>0.005506</td>\n",
       "      <td>0.000109</td>\n",
       "      <td>#1400d3</td>\n",
       "    </tr>\n",
       "    <tr>\n",
       "      <th>1449</th>\n",
       "      <td>2024-08-01</td>\n",
       "      <td>2.0</td>\n",
       "      <td>1.5</td>\n",
       "      <td>130.5</td>\n",
       "      <td>13.192924</td>\n",
       "      <td>POINT (130.5 1.5)</td>\n",
       "      <td>POLYGON ((130.168 2.000, 130.588 2.000, 130.29...</td>\n",
       "      <td>0.005506</td>\n",
       "      <td>0.000109</td>\n",
       "      <td>#ffffff</td>\n",
       "    </tr>\n",
       "    <tr>\n",
       "      <th>1518</th>\n",
       "      <td>2024-08-01</td>\n",
       "      <td>3.0</td>\n",
       "      <td>1.5</td>\n",
       "      <td>130.5</td>\n",
       "      <td>2.166145</td>\n",
       "      <td>POINT (130.5 1.5)</td>\n",
       "      <td>POLYGON ((130.168 2.000, 130.588 2.000, 130.29...</td>\n",
       "      <td>0.005506</td>\n",
       "      <td>0.000109</td>\n",
       "      <td>#ffffff</td>\n",
       "    </tr>\n",
       "    <tr>\n",
       "      <th>1587</th>\n",
       "      <td>2024-08-01</td>\n",
       "      <td>4.0</td>\n",
       "      <td>1.5</td>\n",
       "      <td>130.5</td>\n",
       "      <td>184.640930</td>\n",
       "      <td>POINT (130.5 1.5)</td>\n",
       "      <td>POLYGON ((130.168 2.000, 130.588 2.000, 130.29...</td>\n",
       "      <td>0.005506</td>\n",
       "      <td>0.000109</td>\n",
       "      <td>None</td>\n",
       "    </tr>\n",
       "  </tbody>\n",
       "</table>\n",
       "</div>"
      ],
      "text/plain": [
       "           time  level  latitude  longitude         sst              point  \\\n",
       "0    2024-03-01    1.0       1.5      130.5   82.758385  POINT (130.5 1.5)   \n",
       "69   2024-03-01    2.0       1.5      130.5   17.053295  POINT (130.5 1.5)   \n",
       "138  2024-03-01    3.0       1.5      130.5    0.188327  POINT (130.5 1.5)   \n",
       "207  2024-03-01    4.0       1.5      130.5  182.758392  POINT (130.5 1.5)   \n",
       "276  2024-04-01    1.0       1.5      130.5   94.117340  POINT (130.5 1.5)   \n",
       "345  2024-04-01    2.0       1.5      130.5    5.648033  POINT (130.5 1.5)   \n",
       "414  2024-04-01    3.0       1.5      130.5    0.234623  POINT (130.5 1.5)   \n",
       "483  2024-04-01    4.0       1.5      130.5  194.117340  POINT (130.5 1.5)   \n",
       "552  2024-05-01    1.0       1.5      130.5   92.299187  POINT (130.5 1.5)   \n",
       "621  2024-05-01    2.0       1.5      130.5    6.669257  POINT (130.5 1.5)   \n",
       "690  2024-05-01    3.0       1.5      130.5    1.031565  POINT (130.5 1.5)   \n",
       "759  2024-05-01    4.0       1.5      130.5  192.299194  POINT (130.5 1.5)   \n",
       "828  2024-06-01    1.0       1.5      130.5   93.544601  POINT (130.5 1.5)   \n",
       "897  2024-06-01    2.0       1.5      130.5    5.537823  POINT (130.5 1.5)   \n",
       "966  2024-06-01    3.0       1.5      130.5    0.917579  POINT (130.5 1.5)   \n",
       "1035 2024-06-01    4.0       1.5      130.5  193.544601  POINT (130.5 1.5)   \n",
       "1104 2024-07-01    1.0       1.5      130.5   92.850632  POINT (130.5 1.5)   \n",
       "1173 2024-07-01    2.0       1.5      130.5    6.115026  POINT (130.5 1.5)   \n",
       "1242 2024-07-01    3.0       1.5      130.5    1.034350  POINT (130.5 1.5)   \n",
       "1311 2024-07-01    4.0       1.5      130.5  192.850632  POINT (130.5 1.5)   \n",
       "1380 2024-08-01    1.0       1.5      130.5   84.640930  POINT (130.5 1.5)   \n",
       "1449 2024-08-01    2.0       1.5      130.5   13.192924  POINT (130.5 1.5)   \n",
       "1518 2024-08-01    3.0       1.5      130.5    2.166145  POINT (130.5 1.5)   \n",
       "1587 2024-08-01    4.0       1.5      130.5  184.640930  POINT (130.5 1.5)   \n",
       "\n",
       "                                               geometry      area     parea  \\\n",
       "0     POLYGON ((130.168 2.000, 130.588 2.000, 130.29...  0.005506  0.000109   \n",
       "69    POLYGON ((130.168 2.000, 130.588 2.000, 130.29...  0.005506  0.000109   \n",
       "138   POLYGON ((130.168 2.000, 130.588 2.000, 130.29...  0.005506  0.000109   \n",
       "207   POLYGON ((130.168 2.000, 130.588 2.000, 130.29...  0.005506  0.000109   \n",
       "276   POLYGON ((130.168 2.000, 130.588 2.000, 130.29...  0.005506  0.000109   \n",
       "345   POLYGON ((130.168 2.000, 130.588 2.000, 130.29...  0.005506  0.000109   \n",
       "414   POLYGON ((130.168 2.000, 130.588 2.000, 130.29...  0.005506  0.000109   \n",
       "483   POLYGON ((130.168 2.000, 130.588 2.000, 130.29...  0.005506  0.000109   \n",
       "552   POLYGON ((130.168 2.000, 130.588 2.000, 130.29...  0.005506  0.000109   \n",
       "621   POLYGON ((130.168 2.000, 130.588 2.000, 130.29...  0.005506  0.000109   \n",
       "690   POLYGON ((130.168 2.000, 130.588 2.000, 130.29...  0.005506  0.000109   \n",
       "759   POLYGON ((130.168 2.000, 130.588 2.000, 130.29...  0.005506  0.000109   \n",
       "828   POLYGON ((130.168 2.000, 130.588 2.000, 130.29...  0.005506  0.000109   \n",
       "897   POLYGON ((130.168 2.000, 130.588 2.000, 130.29...  0.005506  0.000109   \n",
       "966   POLYGON ((130.168 2.000, 130.588 2.000, 130.29...  0.005506  0.000109   \n",
       "1035  POLYGON ((130.168 2.000, 130.588 2.000, 130.29...  0.005506  0.000109   \n",
       "1104  POLYGON ((130.168 2.000, 130.588 2.000, 130.29...  0.005506  0.000109   \n",
       "1173  POLYGON ((130.168 2.000, 130.588 2.000, 130.29...  0.005506  0.000109   \n",
       "1242  POLYGON ((130.168 2.000, 130.588 2.000, 130.29...  0.005506  0.000109   \n",
       "1311  POLYGON ((130.168 2.000, 130.588 2.000, 130.29...  0.005506  0.000109   \n",
       "1380  POLYGON ((130.168 2.000, 130.588 2.000, 130.29...  0.005506  0.000109   \n",
       "1449  POLYGON ((130.168 2.000, 130.588 2.000, 130.29...  0.005506  0.000109   \n",
       "1518  POLYGON ((130.168 2.000, 130.588 2.000, 130.29...  0.005506  0.000109   \n",
       "1587  POLYGON ((130.168 2.000, 130.588 2.000, 130.29...  0.005506  0.000109   \n",
       "\n",
       "         fill  \n",
       "0     #1400d3  \n",
       "69    #ffffff  \n",
       "138   #ffffff  \n",
       "207      None  \n",
       "276   #1400d3  \n",
       "345   #ffffff  \n",
       "414   #ffffff  \n",
       "483      None  \n",
       "552   #1400d3  \n",
       "621   #ffffff  \n",
       "690   #ffffff  \n",
       "759      None  \n",
       "828   #1400d3  \n",
       "897   #ffffff  \n",
       "966   #ffffff  \n",
       "1035     None  \n",
       "1104  #1400d3  \n",
       "1173  #ffffff  \n",
       "1242  #ffffff  \n",
       "1311     None  \n",
       "1380  #1400d3  \n",
       "1449  #ffffff  \n",
       "1518  #ffffff  \n",
       "1587     None  "
      ]
     },
     "execution_count": 638,
     "metadata": {},
     "output_type": "execute_result"
    }
   ],
   "source": [
    "xtest[xtest['point'] == Point(130.5,1.5)]"
   ]
  },
  {
   "cell_type": "code",
   "execution_count": 45,
   "id": "e2cf4f37",
   "metadata": {},
   "outputs": [],
   "source": [
    "xtest.to_pickle(\"./c.pkl\")"
   ]
  },
  {
   "cell_type": "code",
   "execution_count": 49,
   "id": "08b0fca0",
   "metadata": {},
   "outputs": [
    {
     "data": {
      "text/html": [
       "<div>\n",
       "<style scoped>\n",
       "    .dataframe tbody tr th:only-of-type {\n",
       "        vertical-align: middle;\n",
       "    }\n",
       "\n",
       "    .dataframe tbody tr th {\n",
       "        vertical-align: top;\n",
       "    }\n",
       "\n",
       "    .dataframe thead th {\n",
       "        text-align: right;\n",
       "    }\n",
       "</style>\n",
       "<table border=\"1\" class=\"dataframe\">\n",
       "  <thead>\n",
       "    <tr style=\"text-align: right;\">\n",
       "      <th></th>\n",
       "      <th>time</th>\n",
       "      <th>level</th>\n",
       "      <th>sst</th>\n",
       "    </tr>\n",
       "  </thead>\n",
       "  <tbody>\n",
       "    <tr>\n",
       "      <th>0</th>\n",
       "      <td>2024-03-01</td>\n",
       "      <td>1.0</td>\n",
       "      <td>82.758385</td>\n",
       "    </tr>\n",
       "    <tr>\n",
       "      <th>69</th>\n",
       "      <td>2024-03-01</td>\n",
       "      <td>2.0</td>\n",
       "      <td>17.053295</td>\n",
       "    </tr>\n",
       "    <tr>\n",
       "      <th>138</th>\n",
       "      <td>2024-03-01</td>\n",
       "      <td>3.0</td>\n",
       "      <td>0.188327</td>\n",
       "    </tr>\n",
       "    <tr>\n",
       "      <th>207</th>\n",
       "      <td>2024-03-01</td>\n",
       "      <td>4.0</td>\n",
       "      <td>182.758392</td>\n",
       "    </tr>\n",
       "    <tr>\n",
       "      <th>276</th>\n",
       "      <td>2024-04-01</td>\n",
       "      <td>1.0</td>\n",
       "      <td>94.117340</td>\n",
       "    </tr>\n",
       "    <tr>\n",
       "      <th>345</th>\n",
       "      <td>2024-04-01</td>\n",
       "      <td>2.0</td>\n",
       "      <td>5.648033</td>\n",
       "    </tr>\n",
       "    <tr>\n",
       "      <th>414</th>\n",
       "      <td>2024-04-01</td>\n",
       "      <td>3.0</td>\n",
       "      <td>0.234623</td>\n",
       "    </tr>\n",
       "    <tr>\n",
       "      <th>483</th>\n",
       "      <td>2024-04-01</td>\n",
       "      <td>4.0</td>\n",
       "      <td>194.117340</td>\n",
       "    </tr>\n",
       "    <tr>\n",
       "      <th>552</th>\n",
       "      <td>2024-05-01</td>\n",
       "      <td>1.0</td>\n",
       "      <td>92.299187</td>\n",
       "    </tr>\n",
       "    <tr>\n",
       "      <th>621</th>\n",
       "      <td>2024-05-01</td>\n",
       "      <td>2.0</td>\n",
       "      <td>6.669257</td>\n",
       "    </tr>\n",
       "    <tr>\n",
       "      <th>690</th>\n",
       "      <td>2024-05-01</td>\n",
       "      <td>3.0</td>\n",
       "      <td>1.031565</td>\n",
       "    </tr>\n",
       "    <tr>\n",
       "      <th>759</th>\n",
       "      <td>2024-05-01</td>\n",
       "      <td>4.0</td>\n",
       "      <td>192.299194</td>\n",
       "    </tr>\n",
       "    <tr>\n",
       "      <th>828</th>\n",
       "      <td>2024-06-01</td>\n",
       "      <td>1.0</td>\n",
       "      <td>93.544601</td>\n",
       "    </tr>\n",
       "    <tr>\n",
       "      <th>897</th>\n",
       "      <td>2024-06-01</td>\n",
       "      <td>2.0</td>\n",
       "      <td>5.537823</td>\n",
       "    </tr>\n",
       "    <tr>\n",
       "      <th>966</th>\n",
       "      <td>2024-06-01</td>\n",
       "      <td>3.0</td>\n",
       "      <td>0.917579</td>\n",
       "    </tr>\n",
       "    <tr>\n",
       "      <th>1035</th>\n",
       "      <td>2024-06-01</td>\n",
       "      <td>4.0</td>\n",
       "      <td>193.544601</td>\n",
       "    </tr>\n",
       "    <tr>\n",
       "      <th>1104</th>\n",
       "      <td>2024-07-01</td>\n",
       "      <td>1.0</td>\n",
       "      <td>92.850632</td>\n",
       "    </tr>\n",
       "    <tr>\n",
       "      <th>1173</th>\n",
       "      <td>2024-07-01</td>\n",
       "      <td>2.0</td>\n",
       "      <td>6.115026</td>\n",
       "    </tr>\n",
       "    <tr>\n",
       "      <th>1242</th>\n",
       "      <td>2024-07-01</td>\n",
       "      <td>3.0</td>\n",
       "      <td>1.034350</td>\n",
       "    </tr>\n",
       "    <tr>\n",
       "      <th>1311</th>\n",
       "      <td>2024-07-01</td>\n",
       "      <td>4.0</td>\n",
       "      <td>192.850632</td>\n",
       "    </tr>\n",
       "    <tr>\n",
       "      <th>1380</th>\n",
       "      <td>2024-08-01</td>\n",
       "      <td>1.0</td>\n",
       "      <td>84.640930</td>\n",
       "    </tr>\n",
       "    <tr>\n",
       "      <th>1449</th>\n",
       "      <td>2024-08-01</td>\n",
       "      <td>2.0</td>\n",
       "      <td>13.192924</td>\n",
       "    </tr>\n",
       "    <tr>\n",
       "      <th>1518</th>\n",
       "      <td>2024-08-01</td>\n",
       "      <td>3.0</td>\n",
       "      <td>2.166145</td>\n",
       "    </tr>\n",
       "    <tr>\n",
       "      <th>1587</th>\n",
       "      <td>2024-08-01</td>\n",
       "      <td>4.0</td>\n",
       "      <td>184.640930</td>\n",
       "    </tr>\n",
       "  </tbody>\n",
       "</table>\n",
       "</div>"
      ],
      "text/plain": [
       "           time  level         sst\n",
       "0    2024-03-01    1.0   82.758385\n",
       "69   2024-03-01    2.0   17.053295\n",
       "138  2024-03-01    3.0    0.188327\n",
       "207  2024-03-01    4.0  182.758392\n",
       "276  2024-04-01    1.0   94.117340\n",
       "345  2024-04-01    2.0    5.648033\n",
       "414  2024-04-01    3.0    0.234623\n",
       "483  2024-04-01    4.0  194.117340\n",
       "552  2024-05-01    1.0   92.299187\n",
       "621  2024-05-01    2.0    6.669257\n",
       "690  2024-05-01    3.0    1.031565\n",
       "759  2024-05-01    4.0  192.299194\n",
       "828  2024-06-01    1.0   93.544601\n",
       "897  2024-06-01    2.0    5.537823\n",
       "966  2024-06-01    3.0    0.917579\n",
       "1035 2024-06-01    4.0  193.544601\n",
       "1104 2024-07-01    1.0   92.850632\n",
       "1173 2024-07-01    2.0    6.115026\n",
       "1242 2024-07-01    3.0    1.034350\n",
       "1311 2024-07-01    4.0  192.850632\n",
       "1380 2024-08-01    1.0   84.640930\n",
       "1449 2024-08-01    2.0   13.192924\n",
       "1518 2024-08-01    3.0    2.166145\n",
       "1587 2024-08-01    4.0  184.640930"
      ]
     },
     "execution_count": 49,
     "metadata": {},
     "output_type": "execute_result"
    }
   ],
   "source": [
    "xtest[xtest['point'] == Point(130.5,1.5)][['time','level','sst']]"
   ]
  },
  {
   "cell_type": "code",
   "execution_count": 55,
   "id": "ae297ced",
   "metadata": {},
   "outputs": [
    {
     "data": {
      "image/png": "[encoded data removed]",
      "text/plain": [
       "<Figure size 800x500 with 2 Axes>"
      ]
     },
     "metadata": {},
     "output_type": "display_data"
    }
   ],
   "source": [
    "import pandas as pd\n",
    "import seaborn as sns\n",
    "import matplotlib.pyplot as plt\n",
    "\n",
    "\n",
    "xtest['time'] = pd.to_datetime(xtest['time']).dt.date\n",
    "\n",
    "# Filter out level 4.0\n",
    "df_filtered = xtest[xtest['level'] != 4.0]\n",
    "\n",
    "# 3. Heatmap of Probability by Date and Level\n",
    "def heatmap_probability(df):\n",
    "    pivot_table = df.pivot_table(index='time', columns='level', values='sst')\n",
    "    plt.figure(figsize=(8, 5))\n",
    "    sns.heatmap(pivot_table, annot=True, cmap='coolwarm', cbar_kws={'label': 'Probability of SST Level'})\n",
    "    plt.title('Heatmap of Probability by Date and SST Level (Excluding Level 4.0)')\n",
    "    plt.xlabel('SST Level')\n",
    "    plt.ylabel('Date')\n",
    "    plt.tight_layout()\n",
    "    plt.show()\n",
    "\n",
    "# Call the heatmap function\n",
    "heatmap_probability(df_filtered)\n"
   ]
  },
  {
   "cell_type": "code",
   "execution_count": 40,
   "id": "13c8a8dc",
   "metadata": {},
   "outputs": [
    {
     "data": {
      "text/html": [
       "<div>\n",
       "<style scoped>\n",
       "    .dataframe tbody tr th:only-of-type {\n",
       "        vertical-align: middle;\n",
       "    }\n",
       "\n",
       "    .dataframe tbody tr th {\n",
       "        vertical-align: top;\n",
       "    }\n",
       "\n",
       "    .dataframe thead th {\n",
       "        text-align: right;\n",
       "    }\n",
       "</style>\n",
       "<table border=\"1\" class=\"dataframe\">\n",
       "  <thead>\n",
       "    <tr style=\"text-align: right;\">\n",
       "      <th></th>\n",
       "      <th>time</th>\n",
       "      <th>level</th>\n",
       "      <th>latitude</th>\n",
       "      <th>longitude</th>\n",
       "      <th>sst</th>\n",
       "      <th>point</th>\n",
       "      <th>geometry</th>\n",
       "      <th>area</th>\n",
       "      <th>parea</th>\n",
       "      <th>fill</th>\n",
       "      <th>psst</th>\n",
       "    </tr>\n",
       "  </thead>\n",
       "  <tbody>\n",
       "    <tr>\n",
       "      <th>0</th>\n",
       "      <td>2024-03-01</td>\n",
       "      <td>1.0</td>\n",
       "      <td>1.5</td>\n",
       "      <td>130.5</td>\n",
       "      <td>82.758385</td>\n",
       "      <td>POINT (130.5 1.5)</td>\n",
       "      <td>POLYGON ((130.168 2.000, 130.588 2.000, 130.29...</td>\n",
       "      <td>0.005506</td>\n",
       "      <td>0.000109</td>\n",
       "      <td>#1400d3</td>\n",
       "      <td>0.009010</td>\n",
       "    </tr>\n",
       "    <tr>\n",
       "      <th>1</th>\n",
       "      <td>2024-03-01</td>\n",
       "      <td>1.0</td>\n",
       "      <td>1.5</td>\n",
       "      <td>131.5</td>\n",
       "      <td>86.438408</td>\n",
       "      <td>POINT (131.5 1.5)</td>\n",
       "      <td>POLYGON ((131.299 2.000, 132.000 2.000, 132.00...</td>\n",
       "      <td>0.069911</td>\n",
       "      <td>0.001382</td>\n",
       "      <td>#1400d3</td>\n",
       "      <td>0.119494</td>\n",
       "    </tr>\n",
       "    <tr>\n",
       "      <th>2</th>\n",
       "      <td>2024-03-01</td>\n",
       "      <td>1.0</td>\n",
       "      <td>1.5</td>\n",
       "      <td>132.5</td>\n",
       "      <td>86.200485</td>\n",
       "      <td>POINT (132.5 1.5)</td>\n",
       "      <td>POLYGON ((132.000 1.801, 132.000 2.000, 133.00...</td>\n",
       "      <td>0.288648</td>\n",
       "      <td>0.005708</td>\n",
       "      <td>#1400d3</td>\n",
       "      <td>0.492007</td>\n",
       "    </tr>\n",
       "    <tr>\n",
       "      <th>3</th>\n",
       "      <td>2024-03-01</td>\n",
       "      <td>1.0</td>\n",
       "      <td>1.5</td>\n",
       "      <td>133.5</td>\n",
       "      <td>85.401131</td>\n",
       "      <td>POINT (133.5 1.5)</td>\n",
       "      <td>POLYGON ((133.000 1.866, 133.000 2.000, 133.12...</td>\n",
       "      <td>0.008653</td>\n",
       "      <td>0.000171</td>\n",
       "      <td>#1400d3</td>\n",
       "      <td>0.014612</td>\n",
       "    </tr>\n",
       "    <tr>\n",
       "      <th>4</th>\n",
       "      <td>2024-03-01</td>\n",
       "      <td>1.0</td>\n",
       "      <td>2.5</td>\n",
       "      <td>129.5</td>\n",
       "      <td>69.689308</td>\n",
       "      <td>POINT (129.5 2.5)</td>\n",
       "      <td>POLYGON ((129.842 3.000, 130.000 3.000, 130.00...</td>\n",
       "      <td>0.052841</td>\n",
       "      <td>0.001045</td>\n",
       "      <td>#54affe</td>\n",
       "      <td>0.072816</td>\n",
       "    </tr>\n",
       "    <tr>\n",
       "      <th>...</th>\n",
       "      <td>...</td>\n",
       "      <td>...</td>\n",
       "      <td>...</td>\n",
       "      <td>...</td>\n",
       "      <td>...</td>\n",
       "      <td>...</td>\n",
       "      <td>...</td>\n",
       "      <td>...</td>\n",
       "      <td>...</td>\n",
       "      <td>...</td>\n",
       "      <td>...</td>\n",
       "    </tr>\n",
       "    <tr>\n",
       "      <th>1582</th>\n",
       "      <td>2024-08-01</td>\n",
       "      <td>3.0</td>\n",
       "      <td>10.5</td>\n",
       "      <td>135.5</td>\n",
       "      <td>2.279652</td>\n",
       "      <td>POINT (135.5 10.5)</td>\n",
       "      <td>POLYGON ((135.814 10.000, 135.000 10.000, 135....</td>\n",
       "      <td>0.698069</td>\n",
       "      <td>0.013804</td>\n",
       "      <td>#ffffff</td>\n",
       "      <td>0.031467</td>\n",
       "    </tr>\n",
       "    <tr>\n",
       "      <th>1583</th>\n",
       "      <td>2024-08-01</td>\n",
       "      <td>3.0</td>\n",
       "      <td>11.5</td>\n",
       "      <td>132.5</td>\n",
       "      <td>2.683946</td>\n",
       "      <td>POINT (132.5 11.5)</td>\n",
       "      <td>POLYGON ((133.000 11.151, 133.000 11.000, 132....</td>\n",
       "      <td>0.019863</td>\n",
       "      <td>0.000393</td>\n",
       "      <td>#ffffff</td>\n",
       "      <td>0.001054</td>\n",
       "    </tr>\n",
       "    <tr>\n",
       "      <th>1584</th>\n",
       "      <td>2024-08-01</td>\n",
       "      <td>3.0</td>\n",
       "      <td>11.5</td>\n",
       "      <td>133.5</td>\n",
       "      <td>2.650526</td>\n",
       "      <td>POINT (133.5 11.5)</td>\n",
       "      <td>POLYGON ((133.000 11.000, 133.000 11.151, 133....</td>\n",
       "      <td>0.357457</td>\n",
       "      <td>0.007068</td>\n",
       "      <td>#ffffff</td>\n",
       "      <td>0.018735</td>\n",
       "    </tr>\n",
       "    <tr>\n",
       "      <th>1585</th>\n",
       "      <td>2024-08-01</td>\n",
       "      <td>3.0</td>\n",
       "      <td>11.5</td>\n",
       "      <td>134.5</td>\n",
       "      <td>2.596281</td>\n",
       "      <td>POINT (134.5 11.5)</td>\n",
       "      <td>POLYGON ((134.000 11.000, 134.000 11.502, 134....</td>\n",
       "      <td>0.547061</td>\n",
       "      <td>0.010818</td>\n",
       "      <td>#ffffff</td>\n",
       "      <td>0.028085</td>\n",
       "    </tr>\n",
       "    <tr>\n",
       "      <th>1586</th>\n",
       "      <td>2024-08-01</td>\n",
       "      <td>3.0</td>\n",
       "      <td>11.5</td>\n",
       "      <td>135.5</td>\n",
       "      <td>2.574422</td>\n",
       "      <td>POINT (135.5 11.5)</td>\n",
       "      <td>POLYGON ((135.000 11.000, 135.000 11.538, 135....</td>\n",
       "      <td>0.211274</td>\n",
       "      <td>0.004178</td>\n",
       "      <td>#ffffff</td>\n",
       "      <td>0.010755</td>\n",
       "    </tr>\n",
       "  </tbody>\n",
       "</table>\n",
       "<p>1242 rows × 11 columns</p>\n",
       "</div>"
      ],
      "text/plain": [
       "            time  level  latitude  longitude        sst               point  \\\n",
       "0     2024-03-01    1.0       1.5      130.5  82.758385   POINT (130.5 1.5)   \n",
       "1     2024-03-01    1.0       1.5      131.5  86.438408   POINT (131.5 1.5)   \n",
       "2     2024-03-01    1.0       1.5      132.5  86.200485   POINT (132.5 1.5)   \n",
       "3     2024-03-01    1.0       1.5      133.5  85.401131   POINT (133.5 1.5)   \n",
       "4     2024-03-01    1.0       2.5      129.5  69.689308   POINT (129.5 2.5)   \n",
       "...          ...    ...       ...        ...        ...                 ...   \n",
       "1582  2024-08-01    3.0      10.5      135.5   2.279652  POINT (135.5 10.5)   \n",
       "1583  2024-08-01    3.0      11.5      132.5   2.683946  POINT (132.5 11.5)   \n",
       "1584  2024-08-01    3.0      11.5      133.5   2.650526  POINT (133.5 11.5)   \n",
       "1585  2024-08-01    3.0      11.5      134.5   2.596281  POINT (134.5 11.5)   \n",
       "1586  2024-08-01    3.0      11.5      135.5   2.574422  POINT (135.5 11.5)   \n",
       "\n",
       "                                               geometry      area     parea  \\\n",
       "0     POLYGON ((130.168 2.000, 130.588 2.000, 130.29...  0.005506  0.000109   \n",
       "1     POLYGON ((131.299 2.000, 132.000 2.000, 132.00...  0.069911  0.001382   \n",
       "2     POLYGON ((132.000 1.801, 132.000 2.000, 133.00...  0.288648  0.005708   \n",
       "3     POLYGON ((133.000 1.866, 133.000 2.000, 133.12...  0.008653  0.000171   \n",
       "4     POLYGON ((129.842 3.000, 130.000 3.000, 130.00...  0.052841  0.001045   \n",
       "...                                                 ...       ...       ...   \n",
       "1582  POLYGON ((135.814 10.000, 135.000 10.000, 135....  0.698069  0.013804   \n",
       "1583  POLYGON ((133.000 11.151, 133.000 11.000, 132....  0.019863  0.000393   \n",
       "1584  POLYGON ((133.000 11.000, 133.000 11.151, 133....  0.357457  0.007068   \n",
       "1585  POLYGON ((134.000 11.000, 134.000 11.502, 134....  0.547061  0.010818   \n",
       "1586  POLYGON ((135.000 11.000, 135.000 11.538, 135....  0.211274  0.004178   \n",
       "\n",
       "         fill      psst  \n",
       "0     #1400d3  0.009010  \n",
       "1     #1400d3  0.119494  \n",
       "2     #1400d3  0.492007  \n",
       "3     #1400d3  0.014612  \n",
       "4     #54affe  0.072816  \n",
       "...       ...       ...  \n",
       "1582  #ffffff  0.031467  \n",
       "1583  #ffffff  0.001054  \n",
       "1584  #ffffff  0.018735  \n",
       "1585  #ffffff  0.028085  \n",
       "1586  #ffffff  0.010755  \n",
       "\n",
       "[1242 rows x 11 columns]"
      ]
     },
     "execution_count": 40,
     "metadata": {},
     "output_type": "execute_result"
    }
   ],
   "source": [
    "df_filtered = xtest[xtest['level'] != 4.0]\n"
   ]
  },
  {
   "cell_type": "code",
   "execution_count": 38,
   "id": "736b31d2",
   "metadata": {},
   "outputs": [
    {
     "name": "stdout",
     "output_type": "stream",
     "text": [
      "level             1.0        2.0       3.0\n",
      "time                                      \n",
      "2024-03-01  79.965240  17.018051  3.016718\n",
      "2024-04-01  77.876030  16.377342  5.746630\n",
      "2024-05-01  75.468887  16.650539  7.880582\n",
      "2024-06-01  84.478493  11.375094  4.146419\n",
      "2024-07-01  91.944183   6.586014  1.469807\n",
      "2024-08-01  89.687569   8.159289  2.153148\n"
     ]
    },
    {
     "data": {
      "image/png": "[encoded data removed]",
      "text/plain": [
       "<Figure size 800x500 with 2 Axes>"
      ]
     },
     "metadata": {},
     "output_type": "display_data"
    }
   ],
   "source": [
    "import pandas as pd\n",
    "import seaborn as sns\n",
    "import matplotlib.pyplot as plt\n",
    "\n",
    "\n",
    "xtest['time'] = pd.to_datetime(xtest['time']).dt.date\n",
    "\n",
    "# Filter out level 4.0\n",
    "df_filtered = xtest[xtest['level'] != 4.0]\n",
    "\n",
    "# 3. Heatmap of Probability by Date and Level\n",
    "def heatmap_probability(df):\n",
    "    pivot_table = df.pivot_table(index='time', columns='level', values='sst')\n",
    "    print(pivot_table)\n",
    "    plt.figure(figsize=(8, 5))\n",
    "    sns.heatmap(pivot_table, annot=True, cmap='BuPu', cbar_kws={'label': 'Probability of SST Level'})\n",
    "    plt.title('Heatmap of Probability by Date and SST Level (Excluding Level 4.0)')\n",
    "    plt.xlabel('SST Level')\n",
    "    plt.ylabel('Date')\n",
    "    plt.tight_layout()\n",
    "    plt.show()\n",
    "\n",
    "# Call the heatmap function\n",
    "heatmap_probability(df_filtered)"
   ]
  },
  {
   "cell_type": "code",
   "execution_count": 52,
   "id": "3adf9f73",
   "metadata": {},
   "outputs": [
    {
     "data": {
      "image/png": "[encoded data removed]",
      "text/plain": [
       "<Figure size 800x500 with 2 Axes>"
      ]
     },
     "metadata": {},
     "output_type": "display_data"
    }
   ],
   "source": [
    "import pandas as pd\n",
    "import seaborn as sns\n",
    "import matplotlib.pyplot as plt\n",
    "\n",
    "\n",
    "xtest['time'] = pd.to_datetime(xtest['time']).dt.date\n",
    "\n",
    "# Filter out level 4.0\n",
    "df_filtered = xtest[xtest['level'] != 4.0]\n",
    "\n",
    "# 3. Heatmap of Probability by Date and Level\n",
    "def heatmap_probability(df):\n",
    "    pivot_table = df.pivot_table(index='time', columns='level', values='sst')\n",
    "    plt.figure(figsize=(8, 5))\n",
    "    sns.heatmap(pivot_table, annot=True, cmap='BuPu', cbar_kws={'label': 'Probability of SST Level'})\n",
    "    plt.title('Heatmap of Probability by Date and SST Level (Excluding Level 4.0)')\n",
    "    plt.xlabel('SST Level')\n",
    "    plt.ylabel('Date')\n",
    "    plt.tight_layout()\n",
    "    plt.show()\n",
    "\n",
    "# Call the heatmap function\n",
    "heatmap_probability(df_filtered)\n"
   ]
  },
  {
   "cell_type": "code",
   "execution_count": 66,
   "id": "8d22e02b",
   "metadata": {},
   "outputs": [
    {
     "data": {
      "application/vnd.plotly.v1+json": {
       "config": {
        "plotlyServerURL": "https://plot.ly"
       },
       "data": [
        {
         "hovertemplate": "Levels=1.0<br>Date=%{x}<br>Probability (%)=%{y}<extra></extra>",
         "legendgroup": "1.0",
         "line": {
          "color": "#636efa",
          "dash": "solid"
         },
         "marker": {
          "symbol": "circle"
         },
         "mode": "lines+markers",
         "name": "1.0",
         "orientation": "v",
         "showlegend": true,
         "type": "scatter",
         "x": [
          "2024-03-01T00:00:00",
          "2024-04-01T00:00:00",
          "2024-05-01T00:00:00",
          "2024-06-01T00:00:00",
          "2024-07-01T00:00:00",
          "2024-08-01T00:00:00"
         ],
         "xaxis": "x",
         "y": [
          82.75838470458984,
          94.11734008789062,
          92.29918670654297,
          93.54460144042969,
          92.85063171386719,
          84.64093017578125
         ],
         "yaxis": "y"
        },
        {
         "hovertemplate": "Levels=2.0<br>Date=%{x}<br>Probability (%)=%{y}<extra></extra>",
         "legendgroup": "2.0",
         "line": {
          "color": "#EF553B",
          "dash": "solid"
         },
         "marker": {
          "symbol": "circle"
         },
         "mode": "lines+markers",
         "name": "2.0",
         "orientation": "v",
         "showlegend": true,
         "type": "scatter",
         "x": [
          "2024-03-01T00:00:00",
          "2024-04-01T00:00:00",
          "2024-05-01T00:00:00",
          "2024-06-01T00:00:00",
          "2024-07-01T00:00:00",
          "2024-08-01T00:00:00"
         ],
         "xaxis": "x",
         "y": [
          17.053295135498047,
          5.648033142089844,
          6.669256687164307,
          5.53782320022583,
          6.115025520324707,
          13.192924499511719
         ],
         "yaxis": "y"
        },
        {
         "hovertemplate": "Levels=3.0<br>Date=%{x}<br>Probability (%)=%{y}<extra></extra>",
         "legendgroup": "3.0",
         "line": {
          "color": "#00cc96",
          "dash": "solid"
         },
         "marker": {
          "symbol": "circle"
         },
         "mode": "lines+markers",
         "name": "3.0",
         "orientation": "v",
         "showlegend": true,
         "type": "scatter",
         "x": [
          "2024-03-01T00:00:00",
          "2024-04-01T00:00:00",
          "2024-05-01T00:00:00",
          "2024-06-01T00:00:00",
          "2024-07-01T00:00:00",
          "2024-08-01T00:00:00"
         ],
         "xaxis": "x",
         "y": [
          0.1883266270160675,
          0.2346232831478119,
          1.0315645933151245,
          0.9175787568092346,
          1.0343501567840576,
          2.166144847869873
         ],
         "yaxis": "y"
        }
       ],
       "layout": {
        "legend": {
         "title": {
          "text": "Levels"
         },
         "tracegroupgap": 0
        },
        "template": {
         "data": {
          "bar": [
           {
            "error_x": {
             "color": "#2a3f5f"
            },
            "error_y": {
             "color": "#2a3f5f"
            },
            "marker": {
             "line": {
              "color": "#E5ECF6",
              "width": 0.5
             },
             "pattern": {
              "fillmode": "overlay",
              "size": 10,
              "solidity": 0.2
             }
            },
            "type": "bar"
           }
          ],
          "barpolar": [
           {
            "marker": {
             "line": {
              "color": "#E5ECF6",
              "width": 0.5
             },
             "pattern": {
              "fillmode": "overlay",
              "size": 10,
              "solidity": 0.2
             }
            },
            "type": "barpolar"
           }
          ],
          "carpet": [
           {
            "aaxis": {
             "endlinecolor": "#2a3f5f",
             "gridcolor": "white",
             "linecolor": "white",
             "minorgridcolor": "white",
             "startlinecolor": "#2a3f5f"
            },
            "baxis": {
             "endlinecolor": "#2a3f5f",
             "gridcolor": "white",
             "linecolor": "white",
             "minorgridcolor": "white",
             "startlinecolor": "#2a3f5f"
            },
            "type": "carpet"
           }
          ],
          "choropleth": [
           {
            "colorbar": {
             "outlinewidth": 0,
             "ticks": ""
            },
            "type": "choropleth"
           }
          ],
          "contour": [
           {
            "colorbar": {
             "outlinewidth": 0,
             "ticks": ""
            },
            "colorscale": [
             [
              0,
              "#0d0887"
             ],
             [
              0.1111111111111111,
              "#46039f"
             ],
             [
              0.2222222222222222,
              "#7201a8"
             ],
             [
              0.3333333333333333,
              "#9c179e"
             ],
             [
              0.4444444444444444,
              "#bd3786"
             ],
             [
              0.5555555555555556,
              "#d8576b"
             ],
             [
              0.6666666666666666,
              "#ed7953"
             ],
             [
              0.7777777777777778,
              "#fb9f3a"
             ],
             [
              0.8888888888888888,
              "#fdca26"
             ],
             [
              1,
              "#f0f921"
             ]
            ],
            "type": "contour"
           }
          ],
          "contourcarpet": [
           {
            "colorbar": {
             "outlinewidth": 0,
             "ticks": ""
            },
            "type": "contourcarpet"
           }
          ],
          "heatmap": [
           {
            "colorbar": {
             "outlinewidth": 0,
             "ticks": ""
            },
            "colorscale": [
             [
              0,
              "#0d0887"
             ],
             [
              0.1111111111111111,
              "#46039f"
             ],
             [
              0.2222222222222222,
              "#7201a8"
             ],
             [
              0.3333333333333333,
              "#9c179e"
             ],
             [
              0.4444444444444444,
              "#bd3786"
             ],
             [
              0.5555555555555556,
              "#d8576b"
             ],
             [
              0.6666666666666666,
              "#ed7953"
             ],
             [
              0.7777777777777778,
              "#fb9f3a"
             ],
             [
              0.8888888888888888,
              "#fdca26"
             ],
             [
              1,
              "#f0f921"
             ]
            ],
            "type": "heatmap"
           }
          ],
          "heatmapgl": [
           {
            "colorbar": {
             "outlinewidth": 0,
             "ticks": ""
            },
            "colorscale": [
             [
              0,
              "#0d0887"
             ],
             [
              0.1111111111111111,
              "#46039f"
             ],
             [
              0.2222222222222222,
              "#7201a8"
             ],
             [
              0.3333333333333333,
              "#9c179e"
             ],
             [
              0.4444444444444444,
              "#bd3786"
             ],
             [
              0.5555555555555556,
              "#d8576b"
             ],
             [
              0.6666666666666666,
              "#ed7953"
             ],
             [
              0.7777777777777778,
              "#fb9f3a"
             ],
             [
              0.8888888888888888,
              "#fdca26"
             ],
             [
              1,
              "#f0f921"
             ]
            ],
            "type": "heatmapgl"
           }
          ],
          "histogram": [
           {
            "marker": {
             "pattern": {
              "fillmode": "overlay",
              "size": 10,
              "solidity": 0.2
             }
            },
            "type": "histogram"
           }
          ],
          "histogram2d": [
           {
            "colorbar": {
             "outlinewidth": 0,
             "ticks": ""
            },
            "colorscale": [
             [
              0,
              "#0d0887"
             ],
             [
              0.1111111111111111,
              "#46039f"
             ],
             [
              0.2222222222222222,
              "#7201a8"
             ],
             [
              0.3333333333333333,
              "#9c179e"
             ],
             [
              0.4444444444444444,
              "#bd3786"
             ],
             [
              0.5555555555555556,
              "#d8576b"
             ],
             [
              0.6666666666666666,
              "#ed7953"
             ],
             [
              0.7777777777777778,
              "#fb9f3a"
             ],
             [
              0.8888888888888888,
              "#fdca26"
             ],
             [
              1,
              "#f0f921"
             ]
            ],
            "type": "histogram2d"
           }
          ],
          "histogram2dcontour": [
           {
            "colorbar": {
             "outlinewidth": 0,
             "ticks": ""
            },
            "colorscale": [
             [
              0,
              "#0d0887"
             ],
             [
              0.1111111111111111,
              "#46039f"
             ],
             [
              0.2222222222222222,
              "#7201a8"
             ],
             [
              0.3333333333333333,
              "#9c179e"
             ],
             [
              0.4444444444444444,
              "#bd3786"
             ],
             [
              0.5555555555555556,
              "#d8576b"
             ],
             [
              0.6666666666666666,
              "#ed7953"
             ],
             [
              0.7777777777777778,
              "#fb9f3a"
             ],
             [
              0.8888888888888888,
              "#fdca26"
             ],
             [
              1,
              "#f0f921"
             ]
            ],
            "type": "histogram2dcontour"
           }
          ],
          "mesh3d": [
           {
            "colorbar": {
             "outlinewidth": 0,
             "ticks": ""
            },
            "type": "mesh3d"
           }
          ],
          "parcoords": [
           {
            "line": {
             "colorbar": {
              "outlinewidth": 0,
              "ticks": ""
             }
            },
            "type": "parcoords"
           }
          ],
          "pie": [
           {
            "automargin": true,
            "type": "pie"
           }
          ],
          "scatter": [
           {
            "fillpattern": {
             "fillmode": "overlay",
             "size": 10,
             "solidity": 0.2
            },
            "type": "scatter"
           }
          ],
          "scatter3d": [
           {
            "line": {
             "colorbar": {
              "outlinewidth": 0,
              "ticks": ""
             }
            },
            "marker": {
             "colorbar": {
              "outlinewidth": 0,
              "ticks": ""
             }
            },
            "type": "scatter3d"
           }
          ],
          "scattercarpet": [
           {
            "marker": {
             "colorbar": {
              "outlinewidth": 0,
              "ticks": ""
             }
            },
            "type": "scattercarpet"
           }
          ],
          "scattergeo": [
           {
            "marker": {
             "colorbar": {
              "outlinewidth": 0,
              "ticks": ""
             }
            },
            "type": "scattergeo"
           }
          ],
          "scattergl": [
           {
            "marker": {
             "colorbar": {
              "outlinewidth": 0,
              "ticks": ""
             }
            },
            "type": "scattergl"
           }
          ],
          "scattermapbox": [
           {
            "marker": {
             "colorbar": {
              "outlinewidth": 0,
              "ticks": ""
             }
            },
            "type": "scattermapbox"
           }
          ],
          "scatterpolar": [
           {
            "marker": {
             "colorbar": {
              "outlinewidth": 0,
              "ticks": ""
             }
            },
            "type": "scatterpolar"
           }
          ],
          "scatterpolargl": [
           {
            "marker": {
             "colorbar": {
              "outlinewidth": 0,
              "ticks": ""
             }
            },
            "type": "scatterpolargl"
           }
          ],
          "scatterternary": [
           {
            "marker": {
             "colorbar": {
              "outlinewidth": 0,
              "ticks": ""
             }
            },
            "type": "scatterternary"
           }
          ],
          "surface": [
           {
            "colorbar": {
             "outlinewidth": 0,
             "ticks": ""
            },
            "colorscale": [
             [
              0,
              "#0d0887"
             ],
             [
              0.1111111111111111,
              "#46039f"
             ],
             [
              0.2222222222222222,
              "#7201a8"
             ],
             [
              0.3333333333333333,
              "#9c179e"
             ],
             [
              0.4444444444444444,
              "#bd3786"
             ],
             [
              0.5555555555555556,
              "#d8576b"
             ],
             [
              0.6666666666666666,
              "#ed7953"
             ],
             [
              0.7777777777777778,
              "#fb9f3a"
             ],
             [
              0.8888888888888888,
              "#fdca26"
             ],
             [
              1,
              "#f0f921"
             ]
            ],
            "type": "surface"
           }
          ],
          "table": [
           {
            "cells": {
             "fill": {
              "color": "#EBF0F8"
             },
             "line": {
              "color": "white"
             }
            },
            "header": {
             "fill": {
              "color": "#C8D4E3"
             },
             "line": {
              "color": "white"
             }
            },
            "type": "table"
           }
          ]
         },
         "layout": {
          "annotationdefaults": {
           "arrowcolor": "#2a3f5f",
           "arrowhead": 0,
           "arrowwidth": 1
          },
          "autotypenumbers": "strict",
          "coloraxis": {
           "colorbar": {
            "outlinewidth": 0,
            "ticks": ""
           }
          },
          "colorscale": {
           "diverging": [
            [
             0,
             "#8e0152"
            ],
            [
             0.1,
             "#c51b7d"
            ],
            [
             0.2,
             "#de77ae"
            ],
            [
             0.3,
             "#f1b6da"
            ],
            [
             0.4,
             "#fde0ef"
            ],
            [
             0.5,
             "#f7f7f7"
            ],
            [
             0.6,
             "#e6f5d0"
            ],
            [
             0.7,
             "#b8e186"
            ],
            [
             0.8,
             "#7fbc41"
            ],
            [
             0.9,
             "#4d9221"
            ],
            [
             1,
             "#276419"
            ]
           ],
           "sequential": [
            [
             0,
             "#0d0887"
            ],
            [
             0.1111111111111111,
             "#46039f"
            ],
            [
             0.2222222222222222,
             "#7201a8"
            ],
            [
             0.3333333333333333,
             "#9c179e"
            ],
            [
             0.4444444444444444,
             "#bd3786"
            ],
            [
             0.5555555555555556,
             "#d8576b"
            ],
            [
             0.6666666666666666,
             "#ed7953"
            ],
            [
             0.7777777777777778,
             "#fb9f3a"
            ],
            [
             0.8888888888888888,
             "#fdca26"
            ],
            [
             1,
             "#f0f921"
            ]
           ],
           "sequentialminus": [
            [
             0,
             "#0d0887"
            ],
            [
             0.1111111111111111,
             "#46039f"
            ],
            [
             0.2222222222222222,
             "#7201a8"
            ],
            [
             0.3333333333333333,
             "#9c179e"
            ],
            [
             0.4444444444444444,
             "#bd3786"
            ],
            [
             0.5555555555555556,
             "#d8576b"
            ],
            [
             0.6666666666666666,
             "#ed7953"
            ],
            [
             0.7777777777777778,
             "#fb9f3a"
            ],
            [
             0.8888888888888888,
             "#fdca26"
            ],
            [
             1,
             "#f0f921"
            ]
           ]
          },
          "colorway": [
           "#636efa",
           "#EF553B",
           "#00cc96",
           "#ab63fa",
           "#FFA15A",
           "#19d3f3",
           "#FF6692",
           "#B6E880",
           "#FF97FF",
           "#FECB52"
          ],
          "font": {
           "color": "#2a3f5f"
          },
          "geo": {
           "bgcolor": "white",
           "lakecolor": "white",
           "landcolor": "#E5ECF6",
           "showlakes": true,
           "showland": true,
           "subunitcolor": "white"
          },
          "hoverlabel": {
           "align": "left"
          },
          "hovermode": "closest",
          "mapbox": {
           "style": "light"
          },
          "paper_bgcolor": "white",
          "plot_bgcolor": "#E5ECF6",
          "polar": {
           "angularaxis": {
            "gridcolor": "white",
            "linecolor": "white",
            "ticks": ""
           },
           "bgcolor": "#E5ECF6",
           "radialaxis": {
            "gridcolor": "white",
            "linecolor": "white",
            "ticks": ""
           }
          },
          "scene": {
           "xaxis": {
            "backgroundcolor": "#E5ECF6",
            "gridcolor": "white",
            "gridwidth": 2,
            "linecolor": "white",
            "showbackground": true,
            "ticks": "",
            "zerolinecolor": "white"
           },
           "yaxis": {
            "backgroundcolor": "#E5ECF6",
            "gridcolor": "white",
            "gridwidth": 2,
            "linecolor": "white",
            "showbackground": true,
            "ticks": "",
            "zerolinecolor": "white"
           },
           "zaxis": {
            "backgroundcolor": "#E5ECF6",
            "gridcolor": "white",
            "gridwidth": 2,
            "linecolor": "white",
            "showbackground": true,
            "ticks": "",
            "zerolinecolor": "white"
           }
          },
          "shapedefaults": {
           "line": {
            "color": "#2a3f5f"
           }
          },
          "ternary": {
           "aaxis": {
            "gridcolor": "white",
            "linecolor": "white",
            "ticks": ""
           },
           "baxis": {
            "gridcolor": "white",
            "linecolor": "white",
            "ticks": ""
           },
           "bgcolor": "#E5ECF6",
           "caxis": {
            "gridcolor": "white",
            "linecolor": "white",
            "ticks": ""
           }
          },
          "title": {
           "x": 0.05
          },
          "xaxis": {
           "automargin": true,
           "gridcolor": "white",
           "linecolor": "white",
           "ticks": "",
           "title": {
            "standoff": 15
           },
           "zerolinecolor": "white",
           "zerolinewidth": 2
          },
          "yaxis": {
           "automargin": true,
           "gridcolor": "white",
           "linecolor": "white",
           "ticks": "",
           "title": {
            "standoff": 15
           },
           "zerolinecolor": "white",
           "zerolinewidth": 2
          }
         }
        },
        "title": {
         "text": "SST Forecast Levels"
        },
        "xaxis": {
         "anchor": "y",
         "domain": [
          0,
          1
         ],
         "title": {
          "text": "Date"
         }
        },
        "yaxis": {
         "anchor": "x",
         "domain": [
          0,
          1
         ],
         "title": {
          "text": "Probability (%)"
         }
        }
       }
      },
      "text/html": [
       "<div>                            <div id=\"3469f874-bb10-43c5-a0bd-88d3ea08927e\" class=\"plotly-graph-div\" style=\"height:525px; width:100%;\"></div>            <script type=\"text/javascript\">                require([\"plotly\"], function(Plotly) {                    window.PLOTLYENV=window.PLOTLYENV || {};                                    if (document.getElementById(\"3469f874-bb10-43c5-a0bd-88d3ea08927e\")) {                    Plotly.newPlot(                        \"3469f874-bb10-43c5-a0bd-88d3ea08927e\",                        [{\"hovertemplate\":\"Levels=1.0<br>Date=%{x}<br>Probability (%)=%{y}<extra></extra>\",\"legendgroup\":\"1.0\",\"line\":{\"color\":\"#636efa\",\"dash\":\"solid\"},\"marker\":{\"symbol\":\"circle\"},\"mode\":\"lines+markers\",\"name\":\"1.0\",\"orientation\":\"v\",\"showlegend\":true,\"x\":[\"2024-03-01T00:00:00\",\"2024-04-01T00:00:00\",\"2024-05-01T00:00:00\",\"2024-06-01T00:00:00\",\"2024-07-01T00:00:00\",\"2024-08-01T00:00:00\"],\"xaxis\":\"x\",\"y\":[82.75838470458984,94.11734008789062,92.29918670654297,93.54460144042969,92.85063171386719,84.64093017578125],\"yaxis\":\"y\",\"type\":\"scatter\"},{\"hovertemplate\":\"Levels=2.0<br>Date=%{x}<br>Probability (%)=%{y}<extra></extra>\",\"legendgroup\":\"2.0\",\"line\":{\"color\":\"#EF553B\",\"dash\":\"solid\"},\"marker\":{\"symbol\":\"circle\"},\"mode\":\"lines+markers\",\"name\":\"2.0\",\"orientation\":\"v\",\"showlegend\":true,\"x\":[\"2024-03-01T00:00:00\",\"2024-04-01T00:00:00\",\"2024-05-01T00:00:00\",\"2024-06-01T00:00:00\",\"2024-07-01T00:00:00\",\"2024-08-01T00:00:00\"],\"xaxis\":\"x\",\"y\":[17.053295135498047,5.648033142089844,6.669256687164307,5.53782320022583,6.115025520324707,13.192924499511719],\"yaxis\":\"y\",\"type\":\"scatter\"},{\"hovertemplate\":\"Levels=3.0<br>Date=%{x}<br>Probability (%)=%{y}<extra></extra>\",\"legendgroup\":\"3.0\",\"line\":{\"color\":\"#00cc96\",\"dash\":\"solid\"},\"marker\":{\"symbol\":\"circle\"},\"mode\":\"lines+markers\",\"name\":\"3.0\",\"orientation\":\"v\",\"showlegend\":true,\"x\":[\"2024-03-01T00:00:00\",\"2024-04-01T00:00:00\",\"2024-05-01T00:00:00\",\"2024-06-01T00:00:00\",\"2024-07-01T00:00:00\",\"2024-08-01T00:00:00\"],\"xaxis\":\"x\",\"y\":[0.1883266270160675,0.2346232831478119,1.0315645933151245,0.9175787568092346,1.0343501567840576,2.166144847869873],\"yaxis\":\"y\",\"type\":\"scatter\"}],                        {\"template\":{\"data\":{\"histogram2dcontour\":[{\"type\":\"histogram2dcontour\",\"colorbar\":{\"outlinewidth\":0,\"ticks\":\"\"},\"colorscale\":[[0.0,\"#0d0887\"],[0.1111111111111111,\"#46039f\"],[0.2222222222222222,\"#7201a8\"],[0.3333333333333333,\"#9c179e\"],[0.4444444444444444,\"#bd3786\"],[0.5555555555555556,\"#d8576b\"],[0.6666666666666666,\"#ed7953\"],[0.7777777777777778,\"#fb9f3a\"],[0.8888888888888888,\"#fdca26\"],[1.0,\"#f0f921\"]]}],\"choropleth\":[{\"type\":\"choropleth\",\"colorbar\":{\"outlinewidth\":0,\"ticks\":\"\"}}],\"histogram2d\":[{\"type\":\"histogram2d\",\"colorbar\":{\"outlinewidth\":0,\"ticks\":\"\"},\"colorscale\":[[0.0,\"#0d0887\"],[0.1111111111111111,\"#46039f\"],[0.2222222222222222,\"#7201a8\"],[0.3333333333333333,\"#9c179e\"],[0.4444444444444444,\"#bd3786\"],[0.5555555555555556,\"#d8576b\"],[0.6666666666666666,\"#ed7953\"],[0.7777777777777778,\"#fb9f3a\"],[0.8888888888888888,\"#fdca26\"],[1.0,\"#f0f921\"]]}],\"heatmap\":[{\"type\":\"heatmap\",\"colorbar\":{\"outlinewidth\":0,\"ticks\":\"\"},\"colorscale\":[[0.0,\"#0d0887\"],[0.1111111111111111,\"#46039f\"],[0.2222222222222222,\"#7201a8\"],[0.3333333333333333,\"#9c179e\"],[0.4444444444444444,\"#bd3786\"],[0.5555555555555556,\"#d8576b\"],[0.6666666666666666,\"#ed7953\"],[0.7777777777777778,\"#fb9f3a\"],[0.8888888888888888,\"#fdca26\"],[1.0,\"#f0f921\"]]}],\"heatmapgl\":[{\"type\":\"heatmapgl\",\"colorbar\":{\"outlinewidth\":0,\"ticks\":\"\"},\"colorscale\":[[0.0,\"#0d0887\"],[0.1111111111111111,\"#46039f\"],[0.2222222222222222,\"#7201a8\"],[0.3333333333333333,\"#9c179e\"],[0.4444444444444444,\"#bd3786\"],[0.5555555555555556,\"#d8576b\"],[0.6666666666666666,\"#ed7953\"],[0.7777777777777778,\"#fb9f3a\"],[0.8888888888888888,\"#fdca26\"],[1.0,\"#f0f921\"]]}],\"contourcarpet\":[{\"type\":\"contourcarpet\",\"colorbar\":{\"outlinewidth\":0,\"ticks\":\"\"}}],\"contour\":[{\"type\":\"contour\",\"colorbar\":{\"outlinewidth\":0,\"ticks\":\"\"},\"colorscale\":[[0.0,\"#0d0887\"],[0.1111111111111111,\"#46039f\"],[0.2222222222222222,\"#7201a8\"],[0.3333333333333333,\"#9c179e\"],[0.4444444444444444,\"#bd3786\"],[0.5555555555555556,\"#d8576b\"],[0.6666666666666666,\"#ed7953\"],[0.7777777777777778,\"#fb9f3a\"],[0.8888888888888888,\"#fdca26\"],[1.0,\"#f0f921\"]]}],\"surface\":[{\"type\":\"surface\",\"colorbar\":{\"outlinewidth\":0,\"ticks\":\"\"},\"colorscale\":[[0.0,\"#0d0887\"],[0.1111111111111111,\"#46039f\"],[0.2222222222222222,\"#7201a8\"],[0.3333333333333333,\"#9c179e\"],[0.4444444444444444,\"#bd3786\"],[0.5555555555555556,\"#d8576b\"],[0.6666666666666666,\"#ed7953\"],[0.7777777777777778,\"#fb9f3a\"],[0.8888888888888888,\"#fdca26\"],[1.0,\"#f0f921\"]]}],\"mesh3d\":[{\"type\":\"mesh3d\",\"colorbar\":{\"outlinewidth\":0,\"ticks\":\"\"}}],\"scatter\":[{\"fillpattern\":{\"fillmode\":\"overlay\",\"size\":10,\"solidity\":0.2},\"type\":\"scatter\"}],\"parcoords\":[{\"type\":\"parcoords\",\"line\":{\"colorbar\":{\"outlinewidth\":0,\"ticks\":\"\"}}}],\"scatterpolargl\":[{\"type\":\"scatterpolargl\",\"marker\":{\"colorbar\":{\"outlinewidth\":0,\"ticks\":\"\"}}}],\"bar\":[{\"error_x\":{\"color\":\"#2a3f5f\"},\"error_y\":{\"color\":\"#2a3f5f\"},\"marker\":{\"line\":{\"color\":\"#E5ECF6\",\"width\":0.5},\"pattern\":{\"fillmode\":\"overlay\",\"size\":10,\"solidity\":0.2}},\"type\":\"bar\"}],\"scattergeo\":[{\"type\":\"scattergeo\",\"marker\":{\"colorbar\":{\"outlinewidth\":0,\"ticks\":\"\"}}}],\"scatterpolar\":[{\"type\":\"scatterpolar\",\"marker\":{\"colorbar\":{\"outlinewidth\":0,\"ticks\":\"\"}}}],\"histogram\":[{\"marker\":{\"pattern\":{\"fillmode\":\"overlay\",\"size\":10,\"solidity\":0.2}},\"type\":\"histogram\"}],\"scattergl\":[{\"type\":\"scattergl\",\"marker\":{\"colorbar\":{\"outlinewidth\":0,\"ticks\":\"\"}}}],\"scatter3d\":[{\"type\":\"scatter3d\",\"line\":{\"colorbar\":{\"outlinewidth\":0,\"ticks\":\"\"}},\"marker\":{\"colorbar\":{\"outlinewidth\":0,\"ticks\":\"\"}}}],\"scattermapbox\":[{\"type\":\"scattermapbox\",\"marker\":{\"colorbar\":{\"outlinewidth\":0,\"ticks\":\"\"}}}],\"scatterternary\":[{\"type\":\"scatterternary\",\"marker\":{\"colorbar\":{\"outlinewidth\":0,\"ticks\":\"\"}}}],\"scattercarpet\":[{\"type\":\"scattercarpet\",\"marker\":{\"colorbar\":{\"outlinewidth\":0,\"ticks\":\"\"}}}],\"carpet\":[{\"aaxis\":{\"endlinecolor\":\"#2a3f5f\",\"gridcolor\":\"white\",\"linecolor\":\"white\",\"minorgridcolor\":\"white\",\"startlinecolor\":\"#2a3f5f\"},\"baxis\":{\"endlinecolor\":\"#2a3f5f\",\"gridcolor\":\"white\",\"linecolor\":\"white\",\"minorgridcolor\":\"white\",\"startlinecolor\":\"#2a3f5f\"},\"type\":\"carpet\"}],\"table\":[{\"cells\":{\"fill\":{\"color\":\"#EBF0F8\"},\"line\":{\"color\":\"white\"}},\"header\":{\"fill\":{\"color\":\"#C8D4E3\"},\"line\":{\"color\":\"white\"}},\"type\":\"table\"}],\"barpolar\":[{\"marker\":{\"line\":{\"color\":\"#E5ECF6\",\"width\":0.5},\"pattern\":{\"fillmode\":\"overlay\",\"size\":10,\"solidity\":0.2}},\"type\":\"barpolar\"}],\"pie\":[{\"automargin\":true,\"type\":\"pie\"}]},\"layout\":{\"autotypenumbers\":\"strict\",\"colorway\":[\"#636efa\",\"#EF553B\",\"#00cc96\",\"#ab63fa\",\"#FFA15A\",\"#19d3f3\",\"#FF6692\",\"#B6E880\",\"#FF97FF\",\"#FECB52\"],\"font\":{\"color\":\"#2a3f5f\"},\"hovermode\":\"closest\",\"hoverlabel\":{\"align\":\"left\"},\"paper_bgcolor\":\"white\",\"plot_bgcolor\":\"#E5ECF6\",\"polar\":{\"bgcolor\":\"#E5ECF6\",\"angularaxis\":{\"gridcolor\":\"white\",\"linecolor\":\"white\",\"ticks\":\"\"},\"radialaxis\":{\"gridcolor\":\"white\",\"linecolor\":\"white\",\"ticks\":\"\"}},\"ternary\":{\"bgcolor\":\"#E5ECF6\",\"aaxis\":{\"gridcolor\":\"white\",\"linecolor\":\"white\",\"ticks\":\"\"},\"baxis\":{\"gridcolor\":\"white\",\"linecolor\":\"white\",\"ticks\":\"\"},\"caxis\":{\"gridcolor\":\"white\",\"linecolor\":\"white\",\"ticks\":\"\"}},\"coloraxis\":{\"colorbar\":{\"outlinewidth\":0,\"ticks\":\"\"}},\"colorscale\":{\"sequential\":[[0.0,\"#0d0887\"],[0.1111111111111111,\"#46039f\"],[0.2222222222222222,\"#7201a8\"],[0.3333333333333333,\"#9c179e\"],[0.4444444444444444,\"#bd3786\"],[0.5555555555555556,\"#d8576b\"],[0.6666666666666666,\"#ed7953\"],[0.7777777777777778,\"#fb9f3a\"],[0.8888888888888888,\"#fdca26\"],[1.0,\"#f0f921\"]],\"sequentialminus\":[[0.0,\"#0d0887\"],[0.1111111111111111,\"#46039f\"],[0.2222222222222222,\"#7201a8\"],[0.3333333333333333,\"#9c179e\"],[0.4444444444444444,\"#bd3786\"],[0.5555555555555556,\"#d8576b\"],[0.6666666666666666,\"#ed7953\"],[0.7777777777777778,\"#fb9f3a\"],[0.8888888888888888,\"#fdca26\"],[1.0,\"#f0f921\"]],\"diverging\":[[0,\"#8e0152\"],[0.1,\"#c51b7d\"],[0.2,\"#de77ae\"],[0.3,\"#f1b6da\"],[0.4,\"#fde0ef\"],[0.5,\"#f7f7f7\"],[0.6,\"#e6f5d0\"],[0.7,\"#b8e186\"],[0.8,\"#7fbc41\"],[0.9,\"#4d9221\"],[1,\"#276419\"]]},\"xaxis\":{\"gridcolor\":\"white\",\"linecolor\":\"white\",\"ticks\":\"\",\"title\":{\"standoff\":15},\"zerolinecolor\":\"white\",\"automargin\":true,\"zerolinewidth\":2},\"yaxis\":{\"gridcolor\":\"white\",\"linecolor\":\"white\",\"ticks\":\"\",\"title\":{\"standoff\":15},\"zerolinecolor\":\"white\",\"automargin\":true,\"zerolinewidth\":2},\"scene\":{\"xaxis\":{\"backgroundcolor\":\"#E5ECF6\",\"gridcolor\":\"white\",\"linecolor\":\"white\",\"showbackground\":true,\"ticks\":\"\",\"zerolinecolor\":\"white\",\"gridwidth\":2},\"yaxis\":{\"backgroundcolor\":\"#E5ECF6\",\"gridcolor\":\"white\",\"linecolor\":\"white\",\"showbackground\":true,\"ticks\":\"\",\"zerolinecolor\":\"white\",\"gridwidth\":2},\"zaxis\":{\"backgroundcolor\":\"#E5ECF6\",\"gridcolor\":\"white\",\"linecolor\":\"white\",\"showbackground\":true,\"ticks\":\"\",\"zerolinecolor\":\"white\",\"gridwidth\":2}},\"shapedefaults\":{\"line\":{\"color\":\"#2a3f5f\"}},\"annotationdefaults\":{\"arrowcolor\":\"#2a3f5f\",\"arrowhead\":0,\"arrowwidth\":1},\"geo\":{\"bgcolor\":\"white\",\"landcolor\":\"#E5ECF6\",\"subunitcolor\":\"white\",\"showland\":true,\"showlakes\":true,\"lakecolor\":\"white\"},\"title\":{\"x\":0.05},\"mapbox\":{\"style\":\"light\"}}},\"xaxis\":{\"anchor\":\"y\",\"domain\":[0.0,1.0],\"title\":{\"text\":\"Date\"}},\"yaxis\":{\"anchor\":\"x\",\"domain\":[0.0,1.0],\"title\":{\"text\":\"Probability (%)\"}},\"legend\":{\"title\":{\"text\":\"Levels\"},\"tracegroupgap\":0},\"title\":{\"text\":\"SST Forecast Levels\"}},                        {\"responsive\": true}                    ).then(function(){\n",
       "                            \n",
       "var gd = document.getElementById('3469f874-bb10-43c5-a0bd-88d3ea08927e');\n",
       "var x = new MutationObserver(function (mutations, observer) {{\n",
       "        var display = window.getComputedStyle(gd).display;\n",
       "        if (!display || display === 'none') {{\n",
       "            console.log([gd, 'removed!']);\n",
       "            Plotly.purge(gd);\n",
       "            observer.disconnect();\n",
       "        }}\n",
       "}});\n",
       "\n",
       "// Listen for the removal of the full notebook cells\n",
       "var notebookContainer = gd.closest('#notebook-container');\n",
       "if (notebookContainer) {{\n",
       "    x.observe(notebookContainer, {childList: true});\n",
       "}}\n",
       "\n",
       "// Listen for the clearing of the current output cell\n",
       "var outputEl = gd.closest('.output');\n",
       "if (outputEl) {{\n",
       "    x.observe(outputEl, {childList: true});\n",
       "}}\n",
       "\n",
       "                        })                };                });            </script>        </div>"
      ]
     },
     "metadata": {},
     "output_type": "display_data"
    },
    {
     "data": {
      "application/vnd.plotly.v1+json": {
       "config": {
        "plotlyServerURL": "https://plot.ly"
       },
       "data": [
        {
         "alignmentgroup": "True",
         "hovertemplate": "Date=%{x}<br>Probability (%)=%{y}<br>Levels=%{marker.color}<extra></extra>",
         "legendgroup": "",
         "marker": {
          "color": [
           1,
           2,
           3,
           1,
           2,
           3,
           1,
           2,
           3,
           1,
           2,
           3,
           1,
           2,
           3,
           1,
           2,
           3
          ],
          "coloraxis": "coloraxis",
          "pattern": {
           "shape": ""
          }
         },
         "name": "",
         "offsetgroup": "",
         "orientation": "v",
         "showlegend": false,
         "textposition": "auto",
         "type": "bar",
         "x": [
          "2024-03-01T00:00:00",
          "2024-03-01T00:00:00",
          "2024-03-01T00:00:00",
          "2024-04-01T00:00:00",
          "2024-04-01T00:00:00",
          "2024-04-01T00:00:00",
          "2024-05-01T00:00:00",
          "2024-05-01T00:00:00",
          "2024-05-01T00:00:00",
          "2024-06-01T00:00:00",
          "2024-06-01T00:00:00",
          "2024-06-01T00:00:00",
          "2024-07-01T00:00:00",
          "2024-07-01T00:00:00",
          "2024-07-01T00:00:00",
          "2024-08-01T00:00:00",
          "2024-08-01T00:00:00",
          "2024-08-01T00:00:00"
         ],
         "xaxis": "x",
         "y": [
          82.75838470458984,
          17.053295135498047,
          0.1883266270160675,
          94.11734008789062,
          5.648033142089844,
          0.2346232831478119,
          92.29918670654297,
          6.669256687164307,
          1.0315645933151245,
          93.54460144042969,
          5.53782320022583,
          0.9175787568092346,
          92.85063171386719,
          6.115025520324707,
          1.0343501567840576,
          84.64093017578125,
          13.192924499511719,
          2.166144847869873
         ],
         "yaxis": "y"
        }
       ],
       "layout": {
        "barmode": "stack",
        "coloraxis": {
         "colorbar": {
          "title": {
           "text": "Levels"
          }
         },
         "colorscale": [
          [
           0,
           "#0d0887"
          ],
          [
           0.1111111111111111,
           "#46039f"
          ],
          [
           0.2222222222222222,
           "#7201a8"
          ],
          [
           0.3333333333333333,
           "#9c179e"
          ],
          [
           0.4444444444444444,
           "#bd3786"
          ],
          [
           0.5555555555555556,
           "#d8576b"
          ],
          [
           0.6666666666666666,
           "#ed7953"
          ],
          [
           0.7777777777777778,
           "#fb9f3a"
          ],
          [
           0.8888888888888888,
           "#fdca26"
          ],
          [
           1,
           "#f0f921"
          ]
         ]
        },
        "legend": {
         "tracegroupgap": 0
        },
        "template": {
         "data": {
          "bar": [
           {
            "error_x": {
             "color": "#2a3f5f"
            },
            "error_y": {
             "color": "#2a3f5f"
            },
            "marker": {
             "line": {
              "color": "#E5ECF6",
              "width": 0.5
             },
             "pattern": {
              "fillmode": "overlay",
              "size": 10,
              "solidity": 0.2
             }
            },
            "type": "bar"
           }
          ],
          "barpolar": [
           {
            "marker": {
             "line": {
              "color": "#E5ECF6",
              "width": 0.5
             },
             "pattern": {
              "fillmode": "overlay",
              "size": 10,
              "solidity": 0.2
             }
            },
            "type": "barpolar"
           }
          ],
          "carpet": [
           {
            "aaxis": {
             "endlinecolor": "#2a3f5f",
             "gridcolor": "white",
             "linecolor": "white",
             "minorgridcolor": "white",
             "startlinecolor": "#2a3f5f"
            },
            "baxis": {
             "endlinecolor": "#2a3f5f",
             "gridcolor": "white",
             "linecolor": "white",
             "minorgridcolor": "white",
             "startlinecolor": "#2a3f5f"
            },
            "type": "carpet"
           }
          ],
          "choropleth": [
           {
            "colorbar": {
             "outlinewidth": 0,
             "ticks": ""
            },
            "type": "choropleth"
           }
          ],
          "contour": [
           {
            "colorbar": {
             "outlinewidth": 0,
             "ticks": ""
            },
            "colorscale": [
             [
              0,
              "#0d0887"
             ],
             [
              0.1111111111111111,
              "#46039f"
             ],
             [
              0.2222222222222222,
              "#7201a8"
             ],
             [
              0.3333333333333333,
              "#9c179e"
             ],
             [
              0.4444444444444444,
              "#bd3786"
             ],
             [
              0.5555555555555556,
              "#d8576b"
             ],
             [
              0.6666666666666666,
              "#ed7953"
             ],
             [
              0.7777777777777778,
              "#fb9f3a"
             ],
             [
              0.8888888888888888,
              "#fdca26"
             ],
             [
              1,
              "#f0f921"
             ]
            ],
            "type": "contour"
           }
          ],
          "contourcarpet": [
           {
            "colorbar": {
             "outlinewidth": 0,
             "ticks": ""
            },
            "type": "contourcarpet"
           }
          ],
          "heatmap": [
           {
            "colorbar": {
             "outlinewidth": 0,
             "ticks": ""
            },
            "colorscale": [
             [
              0,
              "#0d0887"
             ],
             [
              0.1111111111111111,
              "#46039f"
             ],
             [
              0.2222222222222222,
              "#7201a8"
             ],
             [
              0.3333333333333333,
              "#9c179e"
             ],
             [
              0.4444444444444444,
              "#bd3786"
             ],
             [
              0.5555555555555556,
              "#d8576b"
             ],
             [
              0.6666666666666666,
              "#ed7953"
             ],
             [
              0.7777777777777778,
              "#fb9f3a"
             ],
             [
              0.8888888888888888,
              "#fdca26"
             ],
             [
              1,
              "#f0f921"
             ]
            ],
            "type": "heatmap"
           }
          ],
          "heatmapgl": [
           {
            "colorbar": {
             "outlinewidth": 0,
             "ticks": ""
            },
            "colorscale": [
             [
              0,
              "#0d0887"
             ],
             [
              0.1111111111111111,
              "#46039f"
             ],
             [
              0.2222222222222222,
              "#7201a8"
             ],
             [
              0.3333333333333333,
              "#9c179e"
             ],
             [
              0.4444444444444444,
              "#bd3786"
             ],
             [
              0.5555555555555556,
              "#d8576b"
             ],
             [
              0.6666666666666666,
              "#ed7953"
             ],
             [
              0.7777777777777778,
              "#fb9f3a"
             ],
             [
              0.8888888888888888,
              "#fdca26"
             ],
             [
              1,
              "#f0f921"
             ]
            ],
            "type": "heatmapgl"
           }
          ],
          "histogram": [
           {
            "marker": {
             "pattern": {
              "fillmode": "overlay",
              "size": 10,
              "solidity": 0.2
             }
            },
            "type": "histogram"
           }
          ],
          "histogram2d": [
           {
            "colorbar": {
             "outlinewidth": 0,
             "ticks": ""
            },
            "colorscale": [
             [
              0,
              "#0d0887"
             ],
             [
              0.1111111111111111,
              "#46039f"
             ],
             [
              0.2222222222222222,
              "#7201a8"
             ],
             [
              0.3333333333333333,
              "#9c179e"
             ],
             [
              0.4444444444444444,
              "#bd3786"
             ],
             [
              0.5555555555555556,
              "#d8576b"
             ],
             [
              0.6666666666666666,
              "#ed7953"
             ],
             [
              0.7777777777777778,
              "#fb9f3a"
             ],
             [
              0.8888888888888888,
              "#fdca26"
             ],
             [
              1,
              "#f0f921"
             ]
            ],
            "type": "histogram2d"
           }
          ],
          "histogram2dcontour": [
           {
            "colorbar": {
             "outlinewidth": 0,
             "ticks": ""
            },
            "colorscale": [
             [
              0,
              "#0d0887"
             ],
             [
              0.1111111111111111,
              "#46039f"
             ],
             [
              0.2222222222222222,
              "#7201a8"
             ],
             [
              0.3333333333333333,
              "#9c179e"
             ],
             [
              0.4444444444444444,
              "#bd3786"
             ],
             [
              0.5555555555555556,
              "#d8576b"
             ],
             [
              0.6666666666666666,
              "#ed7953"
             ],
             [
              0.7777777777777778,
              "#fb9f3a"
             ],
             [
              0.8888888888888888,
              "#fdca26"
             ],
             [
              1,
              "#f0f921"
             ]
            ],
            "type": "histogram2dcontour"
           }
          ],
          "mesh3d": [
           {
            "colorbar": {
             "outlinewidth": 0,
             "ticks": ""
            },
            "type": "mesh3d"
           }
          ],
          "parcoords": [
           {
            "line": {
             "colorbar": {
              "outlinewidth": 0,
              "ticks": ""
             }
            },
            "type": "parcoords"
           }
          ],
          "pie": [
           {
            "automargin": true,
            "type": "pie"
           }
          ],
          "scatter": [
           {
            "fillpattern": {
             "fillmode": "overlay",
             "size": 10,
             "solidity": 0.2
            },
            "type": "scatter"
           }
          ],
          "scatter3d": [
           {
            "line": {
             "colorbar": {
              "outlinewidth": 0,
              "ticks": ""
             }
            },
            "marker": {
             "colorbar": {
              "outlinewidth": 0,
              "ticks": ""
             }
            },
            "type": "scatter3d"
           }
          ],
          "scattercarpet": [
           {
            "marker": {
             "colorbar": {
              "outlinewidth": 0,
              "ticks": ""
             }
            },
            "type": "scattercarpet"
           }
          ],
          "scattergeo": [
           {
            "marker": {
             "colorbar": {
              "outlinewidth": 0,
              "ticks": ""
             }
            },
            "type": "scattergeo"
           }
          ],
          "scattergl": [
           {
            "marker": {
             "colorbar": {
              "outlinewidth": 0,
              "ticks": ""
             }
            },
            "type": "scattergl"
           }
          ],
          "scattermapbox": [
           {
            "marker": {
             "colorbar": {
              "outlinewidth": 0,
              "ticks": ""
             }
            },
            "type": "scattermapbox"
           }
          ],
          "scatterpolar": [
           {
            "marker": {
             "colorbar": {
              "outlinewidth": 0,
              "ticks": ""
             }
            },
            "type": "scatterpolar"
           }
          ],
          "scatterpolargl": [
           {
            "marker": {
             "colorbar": {
              "outlinewidth": 0,
              "ticks": ""
             }
            },
            "type": "scatterpolargl"
           }
          ],
          "scatterternary": [
           {
            "marker": {
             "colorbar": {
              "outlinewidth": 0,
              "ticks": ""
             }
            },
            "type": "scatterternary"
           }
          ],
          "surface": [
           {
            "colorbar": {
             "outlinewidth": 0,
             "ticks": ""
            },
            "colorscale": [
             [
              0,
              "#0d0887"
             ],
             [
              0.1111111111111111,
              "#46039f"
             ],
             [
              0.2222222222222222,
              "#7201a8"
             ],
             [
              0.3333333333333333,
              "#9c179e"
             ],
             [
              0.4444444444444444,
              "#bd3786"
             ],
             [
              0.5555555555555556,
              "#d8576b"
             ],
             [
              0.6666666666666666,
              "#ed7953"
             ],
             [
              0.7777777777777778,
              "#fb9f3a"
             ],
             [
              0.8888888888888888,
              "#fdca26"
             ],
             [
              1,
              "#f0f921"
             ]
            ],
            "type": "surface"
           }
          ],
          "table": [
           {
            "cells": {
             "fill": {
              "color": "#EBF0F8"
             },
             "line": {
              "color": "white"
             }
            },
            "header": {
             "fill": {
              "color": "#C8D4E3"
             },
             "line": {
              "color": "white"
             }
            },
            "type": "table"
           }
          ]
         },
         "layout": {
          "annotationdefaults": {
           "arrowcolor": "#2a3f5f",
           "arrowhead": 0,
           "arrowwidth": 1
          },
          "autotypenumbers": "strict",
          "coloraxis": {
           "colorbar": {
            "outlinewidth": 0,
            "ticks": ""
           }
          },
          "colorscale": {
           "diverging": [
            [
             0,
             "#8e0152"
            ],
            [
             0.1,
             "#c51b7d"
            ],
            [
             0.2,
             "#de77ae"
            ],
            [
             0.3,
             "#f1b6da"
            ],
            [
             0.4,
             "#fde0ef"
            ],
            [
             0.5,
             "#f7f7f7"
            ],
            [
             0.6,
             "#e6f5d0"
            ],
            [
             0.7,
             "#b8e186"
            ],
            [
             0.8,
             "#7fbc41"
            ],
            [
             0.9,
             "#4d9221"
            ],
            [
             1,
             "#276419"
            ]
           ],
           "sequential": [
            [
             0,
             "#0d0887"
            ],
            [
             0.1111111111111111,
             "#46039f"
            ],
            [
             0.2222222222222222,
             "#7201a8"
            ],
            [
             0.3333333333333333,
             "#9c179e"
            ],
            [
             0.4444444444444444,
             "#bd3786"
            ],
            [
             0.5555555555555556,
             "#d8576b"
            ],
            [
             0.6666666666666666,
             "#ed7953"
            ],
            [
             0.7777777777777778,
             "#fb9f3a"
            ],
            [
             0.8888888888888888,
             "#fdca26"
            ],
            [
             1,
             "#f0f921"
            ]
           ],
           "sequentialminus": [
            [
             0,
             "#0d0887"
            ],
            [
             0.1111111111111111,
             "#46039f"
            ],
            [
             0.2222222222222222,
             "#7201a8"
            ],
            [
             0.3333333333333333,
             "#9c179e"
            ],
            [
             0.4444444444444444,
             "#bd3786"
            ],
            [
             0.5555555555555556,
             "#d8576b"
            ],
            [
             0.6666666666666666,
             "#ed7953"
            ],
            [
             0.7777777777777778,
             "#fb9f3a"
            ],
            [
             0.8888888888888888,
             "#fdca26"
            ],
            [
             1,
             "#f0f921"
            ]
           ]
          },
          "colorway": [
           "#636efa",
           "#EF553B",
           "#00cc96",
           "#ab63fa",
           "#FFA15A",
           "#19d3f3",
           "#FF6692",
           "#B6E880",
           "#FF97FF",
           "#FECB52"
          ],
          "font": {
           "color": "#2a3f5f"
          },
          "geo": {
           "bgcolor": "white",
           "lakecolor": "white",
           "landcolor": "#E5ECF6",
           "showlakes": true,
           "showland": true,
           "subunitcolor": "white"
          },
          "hoverlabel": {
           "align": "left"
          },
          "hovermode": "closest",
          "mapbox": {
           "style": "light"
          },
          "paper_bgcolor": "white",
          "plot_bgcolor": "#E5ECF6",
          "polar": {
           "angularaxis": {
            "gridcolor": "white",
            "linecolor": "white",
            "ticks": ""
           },
           "bgcolor": "#E5ECF6",
           "radialaxis": {
            "gridcolor": "white",
            "linecolor": "white",
            "ticks": ""
           }
          },
          "scene": {
           "xaxis": {
            "backgroundcolor": "#E5ECF6",
            "gridcolor": "white",
            "gridwidth": 2,
            "linecolor": "white",
            "showbackground": true,
            "ticks": "",
            "zerolinecolor": "white"
           },
           "yaxis": {
            "backgroundcolor": "#E5ECF6",
            "gridcolor": "white",
            "gridwidth": 2,
            "linecolor": "white",
            "showbackground": true,
            "ticks": "",
            "zerolinecolor": "white"
           },
           "zaxis": {
            "backgroundcolor": "#E5ECF6",
            "gridcolor": "white",
            "gridwidth": 2,
            "linecolor": "white",
            "showbackground": true,
            "ticks": "",
            "zerolinecolor": "white"
           }
          },
          "shapedefaults": {
           "line": {
            "color": "#2a3f5f"
           }
          },
          "ternary": {
           "aaxis": {
            "gridcolor": "white",
            "linecolor": "white",
            "ticks": ""
           },
           "baxis": {
            "gridcolor": "white",
            "linecolor": "white",
            "ticks": ""
           },
           "bgcolor": "#E5ECF6",
           "caxis": {
            "gridcolor": "white",
            "linecolor": "white",
            "ticks": ""
           }
          },
          "title": {
           "x": 0.05
          },
          "xaxis": {
           "automargin": true,
           "gridcolor": "white",
           "linecolor": "white",
           "ticks": "",
           "title": {
            "standoff": 15
           },
           "zerolinecolor": "white",
           "zerolinewidth": 2
          },
          "yaxis": {
           "automargin": true,
           "gridcolor": "white",
           "linecolor": "white",
           "ticks": "",
           "title": {
            "standoff": 15
           },
           "zerolinecolor": "white",
           "zerolinewidth": 2
          }
         }
        },
        "title": {
         "text": "SST Probability Distribution"
        },
        "xaxis": {
         "anchor": "y",
         "domain": [
          0,
          1
         ],
         "title": {
          "text": "Date"
         }
        },
        "yaxis": {
         "anchor": "x",
         "domain": [
          0,
          1
         ],
         "title": {
          "text": "Probability (%)"
         }
        }
       }
      },
      "text/html": [
       "<div>                            <div id=\"e88538bb-af3d-4f50-95b9-eee7d37c70f9\" class=\"plotly-graph-div\" style=\"height:525px; width:100%;\"></div>            <script type=\"text/javascript\">                require([\"plotly\"], function(Plotly) {                    window.PLOTLYENV=window.PLOTLYENV || {};                                    if (document.getElementById(\"e88538bb-af3d-4f50-95b9-eee7d37c70f9\")) {                    Plotly.newPlot(                        \"e88538bb-af3d-4f50-95b9-eee7d37c70f9\",                        [{\"alignmentgroup\":\"True\",\"hovertemplate\":\"Date=%{x}<br>Probability (%)=%{y}<br>Levels=%{marker.color}<extra></extra>\",\"legendgroup\":\"\",\"marker\":{\"color\":[1.0,2.0,3.0,1.0,2.0,3.0,1.0,2.0,3.0,1.0,2.0,3.0,1.0,2.0,3.0,1.0,2.0,3.0],\"coloraxis\":\"coloraxis\",\"pattern\":{\"shape\":\"\"}},\"name\":\"\",\"offsetgroup\":\"\",\"orientation\":\"v\",\"showlegend\":false,\"textposition\":\"auto\",\"x\":[\"2024-03-01T00:00:00\",\"2024-03-01T00:00:00\",\"2024-03-01T00:00:00\",\"2024-04-01T00:00:00\",\"2024-04-01T00:00:00\",\"2024-04-01T00:00:00\",\"2024-05-01T00:00:00\",\"2024-05-01T00:00:00\",\"2024-05-01T00:00:00\",\"2024-06-01T00:00:00\",\"2024-06-01T00:00:00\",\"2024-06-01T00:00:00\",\"2024-07-01T00:00:00\",\"2024-07-01T00:00:00\",\"2024-07-01T00:00:00\",\"2024-08-01T00:00:00\",\"2024-08-01T00:00:00\",\"2024-08-01T00:00:00\"],\"xaxis\":\"x\",\"y\":[82.75838470458984,17.053295135498047,0.1883266270160675,94.11734008789062,5.648033142089844,0.2346232831478119,92.29918670654297,6.669256687164307,1.0315645933151245,93.54460144042969,5.53782320022583,0.9175787568092346,92.85063171386719,6.115025520324707,1.0343501567840576,84.64093017578125,13.192924499511719,2.166144847869873],\"yaxis\":\"y\",\"type\":\"bar\"}],                        {\"template\":{\"data\":{\"histogram2dcontour\":[{\"type\":\"histogram2dcontour\",\"colorbar\":{\"outlinewidth\":0,\"ticks\":\"\"},\"colorscale\":[[0.0,\"#0d0887\"],[0.1111111111111111,\"#46039f\"],[0.2222222222222222,\"#7201a8\"],[0.3333333333333333,\"#9c179e\"],[0.4444444444444444,\"#bd3786\"],[0.5555555555555556,\"#d8576b\"],[0.6666666666666666,\"#ed7953\"],[0.7777777777777778,\"#fb9f3a\"],[0.8888888888888888,\"#fdca26\"],[1.0,\"#f0f921\"]]}],\"choropleth\":[{\"type\":\"choropleth\",\"colorbar\":{\"outlinewidth\":0,\"ticks\":\"\"}}],\"histogram2d\":[{\"type\":\"histogram2d\",\"colorbar\":{\"outlinewidth\":0,\"ticks\":\"\"},\"colorscale\":[[0.0,\"#0d0887\"],[0.1111111111111111,\"#46039f\"],[0.2222222222222222,\"#7201a8\"],[0.3333333333333333,\"#9c179e\"],[0.4444444444444444,\"#bd3786\"],[0.5555555555555556,\"#d8576b\"],[0.6666666666666666,\"#ed7953\"],[0.7777777777777778,\"#fb9f3a\"],[0.8888888888888888,\"#fdca26\"],[1.0,\"#f0f921\"]]}],\"heatmap\":[{\"type\":\"heatmap\",\"colorbar\":{\"outlinewidth\":0,\"ticks\":\"\"},\"colorscale\":[[0.0,\"#0d0887\"],[0.1111111111111111,\"#46039f\"],[0.2222222222222222,\"#7201a8\"],[0.3333333333333333,\"#9c179e\"],[0.4444444444444444,\"#bd3786\"],[0.5555555555555556,\"#d8576b\"],[0.6666666666666666,\"#ed7953\"],[0.7777777777777778,\"#fb9f3a\"],[0.8888888888888888,\"#fdca26\"],[1.0,\"#f0f921\"]]}],\"heatmapgl\":[{\"type\":\"heatmapgl\",\"colorbar\":{\"outlinewidth\":0,\"ticks\":\"\"},\"colorscale\":[[0.0,\"#0d0887\"],[0.1111111111111111,\"#46039f\"],[0.2222222222222222,\"#7201a8\"],[0.3333333333333333,\"#9c179e\"],[0.4444444444444444,\"#bd3786\"],[0.5555555555555556,\"#d8576b\"],[0.6666666666666666,\"#ed7953\"],[0.7777777777777778,\"#fb9f3a\"],[0.8888888888888888,\"#fdca26\"],[1.0,\"#f0f921\"]]}],\"contourcarpet\":[{\"type\":\"contourcarpet\",\"colorbar\":{\"outlinewidth\":0,\"ticks\":\"\"}}],\"contour\":[{\"type\":\"contour\",\"colorbar\":{\"outlinewidth\":0,\"ticks\":\"\"},\"colorscale\":[[0.0,\"#0d0887\"],[0.1111111111111111,\"#46039f\"],[0.2222222222222222,\"#7201a8\"],[0.3333333333333333,\"#9c179e\"],[0.4444444444444444,\"#bd3786\"],[0.5555555555555556,\"#d8576b\"],[0.6666666666666666,\"#ed7953\"],[0.7777777777777778,\"#fb9f3a\"],[0.8888888888888888,\"#fdca26\"],[1.0,\"#f0f921\"]]}],\"surface\":[{\"type\":\"surface\",\"colorbar\":{\"outlinewidth\":0,\"ticks\":\"\"},\"colorscale\":[[0.0,\"#0d0887\"],[0.1111111111111111,\"#46039f\"],[0.2222222222222222,\"#7201a8\"],[0.3333333333333333,\"#9c179e\"],[0.4444444444444444,\"#bd3786\"],[0.5555555555555556,\"#d8576b\"],[0.6666666666666666,\"#ed7953\"],[0.7777777777777778,\"#fb9f3a\"],[0.8888888888888888,\"#fdca26\"],[1.0,\"#f0f921\"]]}],\"mesh3d\":[{\"type\":\"mesh3d\",\"colorbar\":{\"outlinewidth\":0,\"ticks\":\"\"}}],\"scatter\":[{\"fillpattern\":{\"fillmode\":\"overlay\",\"size\":10,\"solidity\":0.2},\"type\":\"scatter\"}],\"parcoords\":[{\"type\":\"parcoords\",\"line\":{\"colorbar\":{\"outlinewidth\":0,\"ticks\":\"\"}}}],\"scatterpolargl\":[{\"type\":\"scatterpolargl\",\"marker\":{\"colorbar\":{\"outlinewidth\":0,\"ticks\":\"\"}}}],\"bar\":[{\"error_x\":{\"color\":\"#2a3f5f\"},\"error_y\":{\"color\":\"#2a3f5f\"},\"marker\":{\"line\":{\"color\":\"#E5ECF6\",\"width\":0.5},\"pattern\":{\"fillmode\":\"overlay\",\"size\":10,\"solidity\":0.2}},\"type\":\"bar\"}],\"scattergeo\":[{\"type\":\"scattergeo\",\"marker\":{\"colorbar\":{\"outlinewidth\":0,\"ticks\":\"\"}}}],\"scatterpolar\":[{\"type\":\"scatterpolar\",\"marker\":{\"colorbar\":{\"outlinewidth\":0,\"ticks\":\"\"}}}],\"histogram\":[{\"marker\":{\"pattern\":{\"fillmode\":\"overlay\",\"size\":10,\"solidity\":0.2}},\"type\":\"histogram\"}],\"scattergl\":[{\"type\":\"scattergl\",\"marker\":{\"colorbar\":{\"outlinewidth\":0,\"ticks\":\"\"}}}],\"scatter3d\":[{\"type\":\"scatter3d\",\"line\":{\"colorbar\":{\"outlinewidth\":0,\"ticks\":\"\"}},\"marker\":{\"colorbar\":{\"outlinewidth\":0,\"ticks\":\"\"}}}],\"scattermapbox\":[{\"type\":\"scattermapbox\",\"marker\":{\"colorbar\":{\"outlinewidth\":0,\"ticks\":\"\"}}}],\"scatterternary\":[{\"type\":\"scatterternary\",\"marker\":{\"colorbar\":{\"outlinewidth\":0,\"ticks\":\"\"}}}],\"scattercarpet\":[{\"type\":\"scattercarpet\",\"marker\":{\"colorbar\":{\"outlinewidth\":0,\"ticks\":\"\"}}}],\"carpet\":[{\"aaxis\":{\"endlinecolor\":\"#2a3f5f\",\"gridcolor\":\"white\",\"linecolor\":\"white\",\"minorgridcolor\":\"white\",\"startlinecolor\":\"#2a3f5f\"},\"baxis\":{\"endlinecolor\":\"#2a3f5f\",\"gridcolor\":\"white\",\"linecolor\":\"white\",\"minorgridcolor\":\"white\",\"startlinecolor\":\"#2a3f5f\"},\"type\":\"carpet\"}],\"table\":[{\"cells\":{\"fill\":{\"color\":\"#EBF0F8\"},\"line\":{\"color\":\"white\"}},\"header\":{\"fill\":{\"color\":\"#C8D4E3\"},\"line\":{\"color\":\"white\"}},\"type\":\"table\"}],\"barpolar\":[{\"marker\":{\"line\":{\"color\":\"#E5ECF6\",\"width\":0.5},\"pattern\":{\"fillmode\":\"overlay\",\"size\":10,\"solidity\":0.2}},\"type\":\"barpolar\"}],\"pie\":[{\"automargin\":true,\"type\":\"pie\"}]},\"layout\":{\"autotypenumbers\":\"strict\",\"colorway\":[\"#636efa\",\"#EF553B\",\"#00cc96\",\"#ab63fa\",\"#FFA15A\",\"#19d3f3\",\"#FF6692\",\"#B6E880\",\"#FF97FF\",\"#FECB52\"],\"font\":{\"color\":\"#2a3f5f\"},\"hovermode\":\"closest\",\"hoverlabel\":{\"align\":\"left\"},\"paper_bgcolor\":\"white\",\"plot_bgcolor\":\"#E5ECF6\",\"polar\":{\"bgcolor\":\"#E5ECF6\",\"angularaxis\":{\"gridcolor\":\"white\",\"linecolor\":\"white\",\"ticks\":\"\"},\"radialaxis\":{\"gridcolor\":\"white\",\"linecolor\":\"white\",\"ticks\":\"\"}},\"ternary\":{\"bgcolor\":\"#E5ECF6\",\"aaxis\":{\"gridcolor\":\"white\",\"linecolor\":\"white\",\"ticks\":\"\"},\"baxis\":{\"gridcolor\":\"white\",\"linecolor\":\"white\",\"ticks\":\"\"},\"caxis\":{\"gridcolor\":\"white\",\"linecolor\":\"white\",\"ticks\":\"\"}},\"coloraxis\":{\"colorbar\":{\"outlinewidth\":0,\"ticks\":\"\"}},\"colorscale\":{\"sequential\":[[0.0,\"#0d0887\"],[0.1111111111111111,\"#46039f\"],[0.2222222222222222,\"#7201a8\"],[0.3333333333333333,\"#9c179e\"],[0.4444444444444444,\"#bd3786\"],[0.5555555555555556,\"#d8576b\"],[0.6666666666666666,\"#ed7953\"],[0.7777777777777778,\"#fb9f3a\"],[0.8888888888888888,\"#fdca26\"],[1.0,\"#f0f921\"]],\"sequentialminus\":[[0.0,\"#0d0887\"],[0.1111111111111111,\"#46039f\"],[0.2222222222222222,\"#7201a8\"],[0.3333333333333333,\"#9c179e\"],[0.4444444444444444,\"#bd3786\"],[0.5555555555555556,\"#d8576b\"],[0.6666666666666666,\"#ed7953\"],[0.7777777777777778,\"#fb9f3a\"],[0.8888888888888888,\"#fdca26\"],[1.0,\"#f0f921\"]],\"diverging\":[[0,\"#8e0152\"],[0.1,\"#c51b7d\"],[0.2,\"#de77ae\"],[0.3,\"#f1b6da\"],[0.4,\"#fde0ef\"],[0.5,\"#f7f7f7\"],[0.6,\"#e6f5d0\"],[0.7,\"#b8e186\"],[0.8,\"#7fbc41\"],[0.9,\"#4d9221\"],[1,\"#276419\"]]},\"xaxis\":{\"gridcolor\":\"white\",\"linecolor\":\"white\",\"ticks\":\"\",\"title\":{\"standoff\":15},\"zerolinecolor\":\"white\",\"automargin\":true,\"zerolinewidth\":2},\"yaxis\":{\"gridcolor\":\"white\",\"linecolor\":\"white\",\"ticks\":\"\",\"title\":{\"standoff\":15},\"zerolinecolor\":\"white\",\"automargin\":true,\"zerolinewidth\":2},\"scene\":{\"xaxis\":{\"backgroundcolor\":\"#E5ECF6\",\"gridcolor\":\"white\",\"linecolor\":\"white\",\"showbackground\":true,\"ticks\":\"\",\"zerolinecolor\":\"white\",\"gridwidth\":2},\"yaxis\":{\"backgroundcolor\":\"#E5ECF6\",\"gridcolor\":\"white\",\"linecolor\":\"white\",\"showbackground\":true,\"ticks\":\"\",\"zerolinecolor\":\"white\",\"gridwidth\":2},\"zaxis\":{\"backgroundcolor\":\"#E5ECF6\",\"gridcolor\":\"white\",\"linecolor\":\"white\",\"showbackground\":true,\"ticks\":\"\",\"zerolinecolor\":\"white\",\"gridwidth\":2}},\"shapedefaults\":{\"line\":{\"color\":\"#2a3f5f\"}},\"annotationdefaults\":{\"arrowcolor\":\"#2a3f5f\",\"arrowhead\":0,\"arrowwidth\":1},\"geo\":{\"bgcolor\":\"white\",\"landcolor\":\"#E5ECF6\",\"subunitcolor\":\"white\",\"showland\":true,\"showlakes\":true,\"lakecolor\":\"white\"},\"title\":{\"x\":0.05},\"mapbox\":{\"style\":\"light\"}}},\"xaxis\":{\"anchor\":\"y\",\"domain\":[0.0,1.0],\"title\":{\"text\":\"Date\"}},\"yaxis\":{\"anchor\":\"x\",\"domain\":[0.0,1.0],\"title\":{\"text\":\"Probability (%)\"}},\"coloraxis\":{\"colorbar\":{\"title\":{\"text\":\"Levels\"}},\"colorscale\":[[0.0,\"#0d0887\"],[0.1111111111111111,\"#46039f\"],[0.2222222222222222,\"#7201a8\"],[0.3333333333333333,\"#9c179e\"],[0.4444444444444444,\"#bd3786\"],[0.5555555555555556,\"#d8576b\"],[0.6666666666666666,\"#ed7953\"],[0.7777777777777778,\"#fb9f3a\"],[0.8888888888888888,\"#fdca26\"],[1.0,\"#f0f921\"]]},\"legend\":{\"tracegroupgap\":0},\"title\":{\"text\":\"SST Probability Distribution\"},\"barmode\":\"stack\"},                        {\"responsive\": true}                    ).then(function(){\n",
       "                            \n",
       "var gd = document.getElementById('e88538bb-af3d-4f50-95b9-eee7d37c70f9');\n",
       "var x = new MutationObserver(function (mutations, observer) {{\n",
       "        var display = window.getComputedStyle(gd).display;\n",
       "        if (!display || display === 'none') {{\n",
       "            console.log([gd, 'removed!']);\n",
       "            Plotly.purge(gd);\n",
       "            observer.disconnect();\n",
       "        }}\n",
       "}});\n",
       "\n",
       "// Listen for the removal of the full notebook cells\n",
       "var notebookContainer = gd.closest('#notebook-container');\n",
       "if (notebookContainer) {{\n",
       "    x.observe(notebookContainer, {childList: true});\n",
       "}}\n",
       "\n",
       "// Listen for the clearing of the current output cell\n",
       "var outputEl = gd.closest('.output');\n",
       "if (outputEl) {{\n",
       "    x.observe(outputEl, {childList: true});\n",
       "}}\n",
       "\n",
       "                        })                };                });            </script>        </div>"
      ]
     },
     "metadata": {},
     "output_type": "display_data"
    }
   ],
   "source": [
    "import plotly.express as px\n",
    "df = xtest[xtest['point'] == Point(130.5,1.5)]\n",
    "df = df[df['level'] != 4.0]\n",
    "line_fig = px.line(df, \n",
    "                   x='time', \n",
    "                   y='sst', \n",
    "                   color='level', \n",
    "                   title='SST Forecast Levels',\n",
    "                   labels={'sst': 'Probability (%)', 'time': 'Date', 'level': 'Levels'},\n",
    "                   markers=True)\n",
    "\n",
    "# Show the line plot\n",
    "line_fig.show()\n",
    "\n",
    "# Create Stacked Bar Chart using Plotly Express\n",
    "bar_fig = px.bar(df, \n",
    "                 x='time', \n",
    "                 y='sst', \n",
    "                 color='level', \n",
    "                 title='SST Probability Distribution',\n",
    "                 labels={'sst': 'Probability (%)', 'time': 'Date', 'level': 'Levels'},\n",
    "                 barmode='stack')\n",
    "\n",
    "# Show the stacked bar chart\n",
    "bar_fig.show()\n"
   ]
  },
  {
   "cell_type": "code",
   "execution_count": 67,
   "id": "b3df4c5d",
   "metadata": {
    "scrolled": true
   },
   "outputs": [
    {
     "data": {
      "application/vnd.plotly.v1+json": {
       "config": {
        "plotlyServerURL": "https://plot.ly"
       },
       "data": [
        {
         "hoverinfo": "y+name",
         "name": "Level 1",
         "opacity": 0.6,
         "type": "bar",
         "x": [
          "2024-03-01T00:00:00",
          "2024-04-01T00:00:00",
          "2024-05-01T00:00:00",
          "2024-06-01T00:00:00",
          "2024-07-01T00:00:00",
          "2024-08-01T00:00:00"
         ],
         "y": [
          82.75838470458984,
          94.11734008789062,
          92.29918670654297,
          93.54460144042969,
          92.85063171386719,
          84.64093017578125
         ]
        },
        {
         "hoverinfo": "y+name",
         "name": "Level 2",
         "opacity": 0.6,
         "type": "bar",
         "x": [
          "2024-03-01T00:00:00",
          "2024-04-01T00:00:00",
          "2024-05-01T00:00:00",
          "2024-06-01T00:00:00",
          "2024-07-01T00:00:00",
          "2024-08-01T00:00:00"
         ],
         "y": [
          17.053295135498047,
          5.648033142089844,
          6.669256687164307,
          5.53782320022583,
          6.115025520324707,
          13.192924499511719
         ]
        },
        {
         "hoverinfo": "y+name",
         "name": "Level 3",
         "opacity": 0.6,
         "type": "bar",
         "x": [
          "2024-03-01T00:00:00",
          "2024-04-01T00:00:00",
          "2024-05-01T00:00:00",
          "2024-06-01T00:00:00",
          "2024-07-01T00:00:00",
          "2024-08-01T00:00:00"
         ],
         "y": [
          0.1883266270160675,
          0.2346232831478119,
          1.0315645933151245,
          0.9175787568092346,
          1.0343501567840576,
          2.166144847869873
         ]
        },
        {
         "line": {
          "width": 2
         },
         "marker": {
          "size": 8
         },
         "mode": "lines+markers",
         "name": "Level 1 (Line)",
         "type": "scatter",
         "x": [
          "2024-03-01T00:00:00",
          "2024-04-01T00:00:00",
          "2024-05-01T00:00:00",
          "2024-06-01T00:00:00",
          "2024-07-01T00:00:00",
          "2024-08-01T00:00:00"
         ],
         "y": [
          82.75838470458984,
          94.11734008789062,
          92.29918670654297,
          93.54460144042969,
          92.85063171386719,
          84.64093017578125
         ]
        },
        {
         "line": {
          "width": 2
         },
         "marker": {
          "size": 8
         },
         "mode": "lines+markers",
         "name": "Level 2 (Line)",
         "type": "scatter",
         "x": [
          "2024-03-01T00:00:00",
          "2024-04-01T00:00:00",
          "2024-05-01T00:00:00",
          "2024-06-01T00:00:00",
          "2024-07-01T00:00:00",
          "2024-08-01T00:00:00"
         ],
         "y": [
          17.053295135498047,
          5.648033142089844,
          6.669256687164307,
          5.53782320022583,
          6.115025520324707,
          13.192924499511719
         ]
        },
        {
         "line": {
          "width": 2
         },
         "marker": {
          "size": 8
         },
         "mode": "lines+markers",
         "name": "Level 3 (Line)",
         "type": "scatter",
         "x": [
          "2024-03-01T00:00:00",
          "2024-04-01T00:00:00",
          "2024-05-01T00:00:00",
          "2024-06-01T00:00:00",
          "2024-07-01T00:00:00",
          "2024-08-01T00:00:00"
         ],
         "y": [
          0.1883266270160675,
          0.2346232831478119,
          1.0315645933151245,
          0.9175787568092346,
          1.0343501567840576,
          2.166144847869873
         ]
        }
       ],
       "layout": {
        "barmode": "stack",
        "legend": {
         "title": {
          "text": "Levels"
         }
        },
        "template": {
         "data": {
          "bar": [
           {
            "error_x": {
             "color": "#2a3f5f"
            },
            "error_y": {
             "color": "#2a3f5f"
            },
            "marker": {
             "line": {
              "color": "white",
              "width": 0.5
             },
             "pattern": {
              "fillmode": "overlay",
              "size": 10,
              "solidity": 0.2
             }
            },
            "type": "bar"
           }
          ],
          "barpolar": [
           {
            "marker": {
             "line": {
              "color": "white",
              "width": 0.5
             },
             "pattern": {
              "fillmode": "overlay",
              "size": 10,
              "solidity": 0.2
             }
            },
            "type": "barpolar"
           }
          ],
          "carpet": [
           {
            "aaxis": {
             "endlinecolor": "#2a3f5f",
             "gridcolor": "#C8D4E3",
             "linecolor": "#C8D4E3",
             "minorgridcolor": "#C8D4E3",
             "startlinecolor": "#2a3f5f"
            },
            "baxis": {
             "endlinecolor": "#2a3f5f",
             "gridcolor": "#C8D4E3",
             "linecolor": "#C8D4E3",
             "minorgridcolor": "#C8D4E3",
             "startlinecolor": "#2a3f5f"
            },
            "type": "carpet"
           }
          ],
          "choropleth": [
           {
            "colorbar": {
             "outlinewidth": 0,
             "ticks": ""
            },
            "type": "choropleth"
           }
          ],
          "contour": [
           {
            "colorbar": {
             "outlinewidth": 0,
             "ticks": ""
            },
            "colorscale": [
             [
              0,
              "#0d0887"
             ],
             [
              0.1111111111111111,
              "#46039f"
             ],
             [
              0.2222222222222222,
              "#7201a8"
             ],
             [
              0.3333333333333333,
              "#9c179e"
             ],
             [
              0.4444444444444444,
              "#bd3786"
             ],
             [
              0.5555555555555556,
              "#d8576b"
             ],
             [
              0.6666666666666666,
              "#ed7953"
             ],
             [
              0.7777777777777778,
              "#fb9f3a"
             ],
             [
              0.8888888888888888,
              "#fdca26"
             ],
             [
              1,
              "#f0f921"
             ]
            ],
            "type": "contour"
           }
          ],
          "contourcarpet": [
           {
            "colorbar": {
             "outlinewidth": 0,
             "ticks": ""
            },
            "type": "contourcarpet"
           }
          ],
          "heatmap": [
           {
            "colorbar": {
             "outlinewidth": 0,
             "ticks": ""
            },
            "colorscale": [
             [
              0,
              "#0d0887"
             ],
             [
              0.1111111111111111,
              "#46039f"
             ],
             [
              0.2222222222222222,
              "#7201a8"
             ],
             [
              0.3333333333333333,
              "#9c179e"
             ],
             [
              0.4444444444444444,
              "#bd3786"
             ],
             [
              0.5555555555555556,
              "#d8576b"
             ],
             [
              0.6666666666666666,
              "#ed7953"
             ],
             [
              0.7777777777777778,
              "#fb9f3a"
             ],
             [
              0.8888888888888888,
              "#fdca26"
             ],
             [
              1,
              "#f0f921"
             ]
            ],
            "type": "heatmap"
           }
          ],
          "heatmapgl": [
           {
            "colorbar": {
             "outlinewidth": 0,
             "ticks": ""
            },
            "colorscale": [
             [
              0,
              "#0d0887"
             ],
             [
              0.1111111111111111,
              "#46039f"
             ],
             [
              0.2222222222222222,
              "#7201a8"
             ],
             [
              0.3333333333333333,
              "#9c179e"
             ],
             [
              0.4444444444444444,
              "#bd3786"
             ],
             [
              0.5555555555555556,
              "#d8576b"
             ],
             [
              0.6666666666666666,
              "#ed7953"
             ],
             [
              0.7777777777777778,
              "#fb9f3a"
             ],
             [
              0.8888888888888888,
              "#fdca26"
             ],
             [
              1,
              "#f0f921"
             ]
            ],
            "type": "heatmapgl"
           }
          ],
          "histogram": [
           {
            "marker": {
             "pattern": {
              "fillmode": "overlay",
              "size": 10,
              "solidity": 0.2
             }
            },
            "type": "histogram"
           }
          ],
          "histogram2d": [
           {
            "colorbar": {
             "outlinewidth": 0,
             "ticks": ""
            },
            "colorscale": [
             [
              0,
              "#0d0887"
             ],
             [
              0.1111111111111111,
              "#46039f"
             ],
             [
              0.2222222222222222,
              "#7201a8"
             ],
             [
              0.3333333333333333,
              "#9c179e"
             ],
             [
              0.4444444444444444,
              "#bd3786"
             ],
             [
              0.5555555555555556,
              "#d8576b"
             ],
             [
              0.6666666666666666,
              "#ed7953"
             ],
             [
              0.7777777777777778,
              "#fb9f3a"
             ],
             [
              0.8888888888888888,
              "#fdca26"
             ],
             [
              1,
              "#f0f921"
             ]
            ],
            "type": "histogram2d"
           }
          ],
          "histogram2dcontour": [
           {
            "colorbar": {
             "outlinewidth": 0,
             "ticks": ""
            },
            "colorscale": [
             [
              0,
              "#0d0887"
             ],
             [
              0.1111111111111111,
              "#46039f"
             ],
             [
              0.2222222222222222,
              "#7201a8"
             ],
             [
              0.3333333333333333,
              "#9c179e"
             ],
             [
              0.4444444444444444,
              "#bd3786"
             ],
             [
              0.5555555555555556,
              "#d8576b"
             ],
             [
              0.6666666666666666,
              "#ed7953"
             ],
             [
              0.7777777777777778,
              "#fb9f3a"
             ],
             [
              0.8888888888888888,
              "#fdca26"
             ],
             [
              1,
              "#f0f921"
             ]
            ],
            "type": "histogram2dcontour"
           }
          ],
          "mesh3d": [
           {
            "colorbar": {
             "outlinewidth": 0,
             "ticks": ""
            },
            "type": "mesh3d"
           }
          ],
          "parcoords": [
           {
            "line": {
             "colorbar": {
              "outlinewidth": 0,
              "ticks": ""
             }
            },
            "type": "parcoords"
           }
          ],
          "pie": [
           {
            "automargin": true,
            "type": "pie"
           }
          ],
          "scatter": [
           {
            "fillpattern": {
             "fillmode": "overlay",
             "size": 10,
             "solidity": 0.2
            },
            "type": "scatter"
           }
          ],
          "scatter3d": [
           {
            "line": {
             "colorbar": {
              "outlinewidth": 0,
              "ticks": ""
             }
            },
            "marker": {
             "colorbar": {
              "outlinewidth": 0,
              "ticks": ""
             }
            },
            "type": "scatter3d"
           }
          ],
          "scattercarpet": [
           {
            "marker": {
             "colorbar": {
              "outlinewidth": 0,
              "ticks": ""
             }
            },
            "type": "scattercarpet"
           }
          ],
          "scattergeo": [
           {
            "marker": {
             "colorbar": {
              "outlinewidth": 0,
              "ticks": ""
             }
            },
            "type": "scattergeo"
           }
          ],
          "scattergl": [
           {
            "marker": {
             "colorbar": {
              "outlinewidth": 0,
              "ticks": ""
             }
            },
            "type": "scattergl"
           }
          ],
          "scattermapbox": [
           {
            "marker": {
             "colorbar": {
              "outlinewidth": 0,
              "ticks": ""
             }
            },
            "type": "scattermapbox"
           }
          ],
          "scatterpolar": [
           {
            "marker": {
             "colorbar": {
              "outlinewidth": 0,
              "ticks": ""
             }
            },
            "type": "scatterpolar"
           }
          ],
          "scatterpolargl": [
           {
            "marker": {
             "colorbar": {
              "outlinewidth": 0,
              "ticks": ""
             }
            },
            "type": "scatterpolargl"
           }
          ],
          "scatterternary": [
           {
            "marker": {
             "colorbar": {
              "outlinewidth": 0,
              "ticks": ""
             }
            },
            "type": "scatterternary"
           }
          ],
          "surface": [
           {
            "colorbar": {
             "outlinewidth": 0,
             "ticks": ""
            },
            "colorscale": [
             [
              0,
              "#0d0887"
             ],
             [
              0.1111111111111111,
              "#46039f"
             ],
             [
              0.2222222222222222,
              "#7201a8"
             ],
             [
              0.3333333333333333,
              "#9c179e"
             ],
             [
              0.4444444444444444,
              "#bd3786"
             ],
             [
              0.5555555555555556,
              "#d8576b"
             ],
             [
              0.6666666666666666,
              "#ed7953"
             ],
             [
              0.7777777777777778,
              "#fb9f3a"
             ],
             [
              0.8888888888888888,
              "#fdca26"
             ],
             [
              1,
              "#f0f921"
             ]
            ],
            "type": "surface"
           }
          ],
          "table": [
           {
            "cells": {
             "fill": {
              "color": "#EBF0F8"
             },
             "line": {
              "color": "white"
             }
            },
            "header": {
             "fill": {
              "color": "#C8D4E3"
             },
             "line": {
              "color": "white"
             }
            },
            "type": "table"
           }
          ]
         },
         "layout": {
          "annotationdefaults": {
           "arrowcolor": "#2a3f5f",
           "arrowhead": 0,
           "arrowwidth": 1
          },
          "autotypenumbers": "strict",
          "coloraxis": {
           "colorbar": {
            "outlinewidth": 0,
            "ticks": ""
           }
          },
          "colorscale": {
           "diverging": [
            [
             0,
             "#8e0152"
            ],
            [
             0.1,
             "#c51b7d"
            ],
            [
             0.2,
             "#de77ae"
            ],
            [
             0.3,
             "#f1b6da"
            ],
            [
             0.4,
             "#fde0ef"
            ],
            [
             0.5,
             "#f7f7f7"
            ],
            [
             0.6,
             "#e6f5d0"
            ],
            [
             0.7,
             "#b8e186"
            ],
            [
             0.8,
             "#7fbc41"
            ],
            [
             0.9,
             "#4d9221"
            ],
            [
             1,
             "#276419"
            ]
           ],
           "sequential": [
            [
             0,
             "#0d0887"
            ],
            [
             0.1111111111111111,
             "#46039f"
            ],
            [
             0.2222222222222222,
             "#7201a8"
            ],
            [
             0.3333333333333333,
             "#9c179e"
            ],
            [
             0.4444444444444444,
             "#bd3786"
            ],
            [
             0.5555555555555556,
             "#d8576b"
            ],
            [
             0.6666666666666666,
             "#ed7953"
            ],
            [
             0.7777777777777778,
             "#fb9f3a"
            ],
            [
             0.8888888888888888,
             "#fdca26"
            ],
            [
             1,
             "#f0f921"
            ]
           ],
           "sequentialminus": [
            [
             0,
             "#0d0887"
            ],
            [
             0.1111111111111111,
             "#46039f"
            ],
            [
             0.2222222222222222,
             "#7201a8"
            ],
            [
             0.3333333333333333,
             "#9c179e"
            ],
            [
             0.4444444444444444,
             "#bd3786"
            ],
            [
             0.5555555555555556,
             "#d8576b"
            ],
            [
             0.6666666666666666,
             "#ed7953"
            ],
            [
             0.7777777777777778,
             "#fb9f3a"
            ],
            [
             0.8888888888888888,
             "#fdca26"
            ],
            [
             1,
             "#f0f921"
            ]
           ]
          },
          "colorway": [
           "#636efa",
           "#EF553B",
           "#00cc96",
           "#ab63fa",
           "#FFA15A",
           "#19d3f3",
           "#FF6692",
           "#B6E880",
           "#FF97FF",
           "#FECB52"
          ],
          "font": {
           "color": "#2a3f5f"
          },
          "geo": {
           "bgcolor": "white",
           "lakecolor": "white",
           "landcolor": "white",
           "showlakes": true,
           "showland": true,
           "subunitcolor": "#C8D4E3"
          },
          "hoverlabel": {
           "align": "left"
          },
          "hovermode": "closest",
          "mapbox": {
           "style": "light"
          },
          "paper_bgcolor": "white",
          "plot_bgcolor": "white",
          "polar": {
           "angularaxis": {
            "gridcolor": "#EBF0F8",
            "linecolor": "#EBF0F8",
            "ticks": ""
           },
           "bgcolor": "white",
           "radialaxis": {
            "gridcolor": "#EBF0F8",
            "linecolor": "#EBF0F8",
            "ticks": ""
           }
          },
          "scene": {
           "xaxis": {
            "backgroundcolor": "white",
            "gridcolor": "#DFE8F3",
            "gridwidth": 2,
            "linecolor": "#EBF0F8",
            "showbackground": true,
            "ticks": "",
            "zerolinecolor": "#EBF0F8"
           },
           "yaxis": {
            "backgroundcolor": "white",
            "gridcolor": "#DFE8F3",
            "gridwidth": 2,
            "linecolor": "#EBF0F8",
            "showbackground": true,
            "ticks": "",
            "zerolinecolor": "#EBF0F8"
           },
           "zaxis": {
            "backgroundcolor": "white",
            "gridcolor": "#DFE8F3",
            "gridwidth": 2,
            "linecolor": "#EBF0F8",
            "showbackground": true,
            "ticks": "",
            "zerolinecolor": "#EBF0F8"
           }
          },
          "shapedefaults": {
           "line": {
            "color": "#2a3f5f"
           }
          },
          "ternary": {
           "aaxis": {
            "gridcolor": "#DFE8F3",
            "linecolor": "#A2B1C6",
            "ticks": ""
           },
           "baxis": {
            "gridcolor": "#DFE8F3",
            "linecolor": "#A2B1C6",
            "ticks": ""
           },
           "bgcolor": "white",
           "caxis": {
            "gridcolor": "#DFE8F3",
            "linecolor": "#A2B1C6",
            "ticks": ""
           }
          },
          "title": {
           "x": 0.05
          },
          "xaxis": {
           "automargin": true,
           "gridcolor": "#EBF0F8",
           "linecolor": "#EBF0F8",
           "ticks": "",
           "title": {
            "standoff": 15
           },
           "zerolinecolor": "#EBF0F8",
           "zerolinewidth": 2
          },
          "yaxis": {
           "automargin": true,
           "gridcolor": "#EBF0F8",
           "linecolor": "#EBF0F8",
           "ticks": "",
           "title": {
            "standoff": 15
           },
           "zerolinecolor": "#EBF0F8",
           "zerolinewidth": 2
          }
         }
        },
        "title": {
         "text": "Overlay of SST Probability Levels"
        },
        "xaxis": {
         "title": {
          "text": "Date"
         }
        },
        "yaxis": {
         "title": {
          "text": "Probability (%)"
         }
        }
       }
      },
      "text/html": [
       "<div>                            <div id=\"bcb835ce-d2eb-49b3-9857-b1c2296bf4a1\" class=\"plotly-graph-div\" style=\"height:525px; width:100%;\"></div>            <script type=\"text/javascript\">                require([\"plotly\"], function(Plotly) {                    window.PLOTLYENV=window.PLOTLYENV || {};                                    if (document.getElementById(\"bcb835ce-d2eb-49b3-9857-b1c2296bf4a1\")) {                    Plotly.newPlot(                        \"bcb835ce-d2eb-49b3-9857-b1c2296bf4a1\",                        [{\"hoverinfo\":\"y+name\",\"name\":\"Level 1\",\"opacity\":0.6,\"x\":[\"2024-03-01T00:00:00\",\"2024-04-01T00:00:00\",\"2024-05-01T00:00:00\",\"2024-06-01T00:00:00\",\"2024-07-01T00:00:00\",\"2024-08-01T00:00:00\"],\"y\":[82.75838470458984,94.11734008789062,92.29918670654297,93.54460144042969,92.85063171386719,84.64093017578125],\"type\":\"bar\"},{\"hoverinfo\":\"y+name\",\"name\":\"Level 2\",\"opacity\":0.6,\"x\":[\"2024-03-01T00:00:00\",\"2024-04-01T00:00:00\",\"2024-05-01T00:00:00\",\"2024-06-01T00:00:00\",\"2024-07-01T00:00:00\",\"2024-08-01T00:00:00\"],\"y\":[17.053295135498047,5.648033142089844,6.669256687164307,5.53782320022583,6.115025520324707,13.192924499511719],\"type\":\"bar\"},{\"hoverinfo\":\"y+name\",\"name\":\"Level 3\",\"opacity\":0.6,\"x\":[\"2024-03-01T00:00:00\",\"2024-04-01T00:00:00\",\"2024-05-01T00:00:00\",\"2024-06-01T00:00:00\",\"2024-07-01T00:00:00\",\"2024-08-01T00:00:00\"],\"y\":[0.1883266270160675,0.2346232831478119,1.0315645933151245,0.9175787568092346,1.0343501567840576,2.166144847869873],\"type\":\"bar\"},{\"line\":{\"width\":2},\"marker\":{\"size\":8},\"mode\":\"lines+markers\",\"name\":\"Level 1 (Line)\",\"x\":[\"2024-03-01T00:00:00\",\"2024-04-01T00:00:00\",\"2024-05-01T00:00:00\",\"2024-06-01T00:00:00\",\"2024-07-01T00:00:00\",\"2024-08-01T00:00:00\"],\"y\":[82.75838470458984,94.11734008789062,92.29918670654297,93.54460144042969,92.85063171386719,84.64093017578125],\"type\":\"scatter\"},{\"line\":{\"width\":2},\"marker\":{\"size\":8},\"mode\":\"lines+markers\",\"name\":\"Level 2 (Line)\",\"x\":[\"2024-03-01T00:00:00\",\"2024-04-01T00:00:00\",\"2024-05-01T00:00:00\",\"2024-06-01T00:00:00\",\"2024-07-01T00:00:00\",\"2024-08-01T00:00:00\"],\"y\":[17.053295135498047,5.648033142089844,6.669256687164307,5.53782320022583,6.115025520324707,13.192924499511719],\"type\":\"scatter\"},{\"line\":{\"width\":2},\"marker\":{\"size\":8},\"mode\":\"lines+markers\",\"name\":\"Level 3 (Line)\",\"x\":[\"2024-03-01T00:00:00\",\"2024-04-01T00:00:00\",\"2024-05-01T00:00:00\",\"2024-06-01T00:00:00\",\"2024-07-01T00:00:00\",\"2024-08-01T00:00:00\"],\"y\":[0.1883266270160675,0.2346232831478119,1.0315645933151245,0.9175787568092346,1.0343501567840576,2.166144847869873],\"type\":\"scatter\"}],                        {\"template\":{\"data\":{\"barpolar\":[{\"marker\":{\"line\":{\"color\":\"white\",\"width\":0.5},\"pattern\":{\"fillmode\":\"overlay\",\"size\":10,\"solidity\":0.2}},\"type\":\"barpolar\"}],\"bar\":[{\"error_x\":{\"color\":\"#2a3f5f\"},\"error_y\":{\"color\":\"#2a3f5f\"},\"marker\":{\"line\":{\"color\":\"white\",\"width\":0.5},\"pattern\":{\"fillmode\":\"overlay\",\"size\":10,\"solidity\":0.2}},\"type\":\"bar\"}],\"carpet\":[{\"aaxis\":{\"endlinecolor\":\"#2a3f5f\",\"gridcolor\":\"#C8D4E3\",\"linecolor\":\"#C8D4E3\",\"minorgridcolor\":\"#C8D4E3\",\"startlinecolor\":\"#2a3f5f\"},\"baxis\":{\"endlinecolor\":\"#2a3f5f\",\"gridcolor\":\"#C8D4E3\",\"linecolor\":\"#C8D4E3\",\"minorgridcolor\":\"#C8D4E3\",\"startlinecolor\":\"#2a3f5f\"},\"type\":\"carpet\"}],\"choropleth\":[{\"colorbar\":{\"outlinewidth\":0,\"ticks\":\"\"},\"type\":\"choropleth\"}],\"contourcarpet\":[{\"colorbar\":{\"outlinewidth\":0,\"ticks\":\"\"},\"type\":\"contourcarpet\"}],\"contour\":[{\"colorbar\":{\"outlinewidth\":0,\"ticks\":\"\"},\"colorscale\":[[0.0,\"#0d0887\"],[0.1111111111111111,\"#46039f\"],[0.2222222222222222,\"#7201a8\"],[0.3333333333333333,\"#9c179e\"],[0.4444444444444444,\"#bd3786\"],[0.5555555555555556,\"#d8576b\"],[0.6666666666666666,\"#ed7953\"],[0.7777777777777778,\"#fb9f3a\"],[0.8888888888888888,\"#fdca26\"],[1.0,\"#f0f921\"]],\"type\":\"contour\"}],\"heatmapgl\":[{\"colorbar\":{\"outlinewidth\":0,\"ticks\":\"\"},\"colorscale\":[[0.0,\"#0d0887\"],[0.1111111111111111,\"#46039f\"],[0.2222222222222222,\"#7201a8\"],[0.3333333333333333,\"#9c179e\"],[0.4444444444444444,\"#bd3786\"],[0.5555555555555556,\"#d8576b\"],[0.6666666666666666,\"#ed7953\"],[0.7777777777777778,\"#fb9f3a\"],[0.8888888888888888,\"#fdca26\"],[1.0,\"#f0f921\"]],\"type\":\"heatmapgl\"}],\"heatmap\":[{\"colorbar\":{\"outlinewidth\":0,\"ticks\":\"\"},\"colorscale\":[[0.0,\"#0d0887\"],[0.1111111111111111,\"#46039f\"],[0.2222222222222222,\"#7201a8\"],[0.3333333333333333,\"#9c179e\"],[0.4444444444444444,\"#bd3786\"],[0.5555555555555556,\"#d8576b\"],[0.6666666666666666,\"#ed7953\"],[0.7777777777777778,\"#fb9f3a\"],[0.8888888888888888,\"#fdca26\"],[1.0,\"#f0f921\"]],\"type\":\"heatmap\"}],\"histogram2dcontour\":[{\"colorbar\":{\"outlinewidth\":0,\"ticks\":\"\"},\"colorscale\":[[0.0,\"#0d0887\"],[0.1111111111111111,\"#46039f\"],[0.2222222222222222,\"#7201a8\"],[0.3333333333333333,\"#9c179e\"],[0.4444444444444444,\"#bd3786\"],[0.5555555555555556,\"#d8576b\"],[0.6666666666666666,\"#ed7953\"],[0.7777777777777778,\"#fb9f3a\"],[0.8888888888888888,\"#fdca26\"],[1.0,\"#f0f921\"]],\"type\":\"histogram2dcontour\"}],\"histogram2d\":[{\"colorbar\":{\"outlinewidth\":0,\"ticks\":\"\"},\"colorscale\":[[0.0,\"#0d0887\"],[0.1111111111111111,\"#46039f\"],[0.2222222222222222,\"#7201a8\"],[0.3333333333333333,\"#9c179e\"],[0.4444444444444444,\"#bd3786\"],[0.5555555555555556,\"#d8576b\"],[0.6666666666666666,\"#ed7953\"],[0.7777777777777778,\"#fb9f3a\"],[0.8888888888888888,\"#fdca26\"],[1.0,\"#f0f921\"]],\"type\":\"histogram2d\"}],\"histogram\":[{\"marker\":{\"pattern\":{\"fillmode\":\"overlay\",\"size\":10,\"solidity\":0.2}},\"type\":\"histogram\"}],\"mesh3d\":[{\"colorbar\":{\"outlinewidth\":0,\"ticks\":\"\"},\"type\":\"mesh3d\"}],\"parcoords\":[{\"line\":{\"colorbar\":{\"outlinewidth\":0,\"ticks\":\"\"}},\"type\":\"parcoords\"}],\"pie\":[{\"automargin\":true,\"type\":\"pie\"}],\"scatter3d\":[{\"line\":{\"colorbar\":{\"outlinewidth\":0,\"ticks\":\"\"}},\"marker\":{\"colorbar\":{\"outlinewidth\":0,\"ticks\":\"\"}},\"type\":\"scatter3d\"}],\"scattercarpet\":[{\"marker\":{\"colorbar\":{\"outlinewidth\":0,\"ticks\":\"\"}},\"type\":\"scattercarpet\"}],\"scattergeo\":[{\"marker\":{\"colorbar\":{\"outlinewidth\":0,\"ticks\":\"\"}},\"type\":\"scattergeo\"}],\"scattergl\":[{\"marker\":{\"colorbar\":{\"outlinewidth\":0,\"ticks\":\"\"}},\"type\":\"scattergl\"}],\"scattermapbox\":[{\"marker\":{\"colorbar\":{\"outlinewidth\":0,\"ticks\":\"\"}},\"type\":\"scattermapbox\"}],\"scatterpolargl\":[{\"marker\":{\"colorbar\":{\"outlinewidth\":0,\"ticks\":\"\"}},\"type\":\"scatterpolargl\"}],\"scatterpolar\":[{\"marker\":{\"colorbar\":{\"outlinewidth\":0,\"ticks\":\"\"}},\"type\":\"scatterpolar\"}],\"scatter\":[{\"fillpattern\":{\"fillmode\":\"overlay\",\"size\":10,\"solidity\":0.2},\"type\":\"scatter\"}],\"scatterternary\":[{\"marker\":{\"colorbar\":{\"outlinewidth\":0,\"ticks\":\"\"}},\"type\":\"scatterternary\"}],\"surface\":[{\"colorbar\":{\"outlinewidth\":0,\"ticks\":\"\"},\"colorscale\":[[0.0,\"#0d0887\"],[0.1111111111111111,\"#46039f\"],[0.2222222222222222,\"#7201a8\"],[0.3333333333333333,\"#9c179e\"],[0.4444444444444444,\"#bd3786\"],[0.5555555555555556,\"#d8576b\"],[0.6666666666666666,\"#ed7953\"],[0.7777777777777778,\"#fb9f3a\"],[0.8888888888888888,\"#fdca26\"],[1.0,\"#f0f921\"]],\"type\":\"surface\"}],\"table\":[{\"cells\":{\"fill\":{\"color\":\"#EBF0F8\"},\"line\":{\"color\":\"white\"}},\"header\":{\"fill\":{\"color\":\"#C8D4E3\"},\"line\":{\"color\":\"white\"}},\"type\":\"table\"}]},\"layout\":{\"annotationdefaults\":{\"arrowcolor\":\"#2a3f5f\",\"arrowhead\":0,\"arrowwidth\":1},\"autotypenumbers\":\"strict\",\"coloraxis\":{\"colorbar\":{\"outlinewidth\":0,\"ticks\":\"\"}},\"colorscale\":{\"diverging\":[[0,\"#8e0152\"],[0.1,\"#c51b7d\"],[0.2,\"#de77ae\"],[0.3,\"#f1b6da\"],[0.4,\"#fde0ef\"],[0.5,\"#f7f7f7\"],[0.6,\"#e6f5d0\"],[0.7,\"#b8e186\"],[0.8,\"#7fbc41\"],[0.9,\"#4d9221\"],[1,\"#276419\"]],\"sequential\":[[0.0,\"#0d0887\"],[0.1111111111111111,\"#46039f\"],[0.2222222222222222,\"#7201a8\"],[0.3333333333333333,\"#9c179e\"],[0.4444444444444444,\"#bd3786\"],[0.5555555555555556,\"#d8576b\"],[0.6666666666666666,\"#ed7953\"],[0.7777777777777778,\"#fb9f3a\"],[0.8888888888888888,\"#fdca26\"],[1.0,\"#f0f921\"]],\"sequentialminus\":[[0.0,\"#0d0887\"],[0.1111111111111111,\"#46039f\"],[0.2222222222222222,\"#7201a8\"],[0.3333333333333333,\"#9c179e\"],[0.4444444444444444,\"#bd3786\"],[0.5555555555555556,\"#d8576b\"],[0.6666666666666666,\"#ed7953\"],[0.7777777777777778,\"#fb9f3a\"],[0.8888888888888888,\"#fdca26\"],[1.0,\"#f0f921\"]]},\"colorway\":[\"#636efa\",\"#EF553B\",\"#00cc96\",\"#ab63fa\",\"#FFA15A\",\"#19d3f3\",\"#FF6692\",\"#B6E880\",\"#FF97FF\",\"#FECB52\"],\"font\":{\"color\":\"#2a3f5f\"},\"geo\":{\"bgcolor\":\"white\",\"lakecolor\":\"white\",\"landcolor\":\"white\",\"showlakes\":true,\"showland\":true,\"subunitcolor\":\"#C8D4E3\"},\"hoverlabel\":{\"align\":\"left\"},\"hovermode\":\"closest\",\"mapbox\":{\"style\":\"light\"},\"paper_bgcolor\":\"white\",\"plot_bgcolor\":\"white\",\"polar\":{\"angularaxis\":{\"gridcolor\":\"#EBF0F8\",\"linecolor\":\"#EBF0F8\",\"ticks\":\"\"},\"bgcolor\":\"white\",\"radialaxis\":{\"gridcolor\":\"#EBF0F8\",\"linecolor\":\"#EBF0F8\",\"ticks\":\"\"}},\"scene\":{\"xaxis\":{\"backgroundcolor\":\"white\",\"gridcolor\":\"#DFE8F3\",\"gridwidth\":2,\"linecolor\":\"#EBF0F8\",\"showbackground\":true,\"ticks\":\"\",\"zerolinecolor\":\"#EBF0F8\"},\"yaxis\":{\"backgroundcolor\":\"white\",\"gridcolor\":\"#DFE8F3\",\"gridwidth\":2,\"linecolor\":\"#EBF0F8\",\"showbackground\":true,\"ticks\":\"\",\"zerolinecolor\":\"#EBF0F8\"},\"zaxis\":{\"backgroundcolor\":\"white\",\"gridcolor\":\"#DFE8F3\",\"gridwidth\":2,\"linecolor\":\"#EBF0F8\",\"showbackground\":true,\"ticks\":\"\",\"zerolinecolor\":\"#EBF0F8\"}},\"shapedefaults\":{\"line\":{\"color\":\"#2a3f5f\"}},\"ternary\":{\"aaxis\":{\"gridcolor\":\"#DFE8F3\",\"linecolor\":\"#A2B1C6\",\"ticks\":\"\"},\"baxis\":{\"gridcolor\":\"#DFE8F3\",\"linecolor\":\"#A2B1C6\",\"ticks\":\"\"},\"bgcolor\":\"white\",\"caxis\":{\"gridcolor\":\"#DFE8F3\",\"linecolor\":\"#A2B1C6\",\"ticks\":\"\"}},\"title\":{\"x\":0.05},\"xaxis\":{\"automargin\":true,\"gridcolor\":\"#EBF0F8\",\"linecolor\":\"#EBF0F8\",\"ticks\":\"\",\"title\":{\"standoff\":15},\"zerolinecolor\":\"#EBF0F8\",\"zerolinewidth\":2},\"yaxis\":{\"automargin\":true,\"gridcolor\":\"#EBF0F8\",\"linecolor\":\"#EBF0F8\",\"ticks\":\"\",\"title\":{\"standoff\":15},\"zerolinecolor\":\"#EBF0F8\",\"zerolinewidth\":2}}},\"title\":{\"text\":\"Overlay of SST Probability Levels\"},\"xaxis\":{\"title\":{\"text\":\"Date\"}},\"yaxis\":{\"title\":{\"text\":\"Probability (%)\"}},\"barmode\":\"stack\",\"legend\":{\"title\":{\"text\":\"Levels\"}}},                        {\"responsive\": true}                    ).then(function(){\n",
       "                            \n",
       "var gd = document.getElementById('bcb835ce-d2eb-49b3-9857-b1c2296bf4a1');\n",
       "var x = new MutationObserver(function (mutations, observer) {{\n",
       "        var display = window.getComputedStyle(gd).display;\n",
       "        if (!display || display === 'none') {{\n",
       "            console.log([gd, 'removed!']);\n",
       "            Plotly.purge(gd);\n",
       "            observer.disconnect();\n",
       "        }}\n",
       "}});\n",
       "\n",
       "// Listen for the removal of the full notebook cells\n",
       "var notebookContainer = gd.closest('#notebook-container');\n",
       "if (notebookContainer) {{\n",
       "    x.observe(notebookContainer, {childList: true});\n",
       "}}\n",
       "\n",
       "// Listen for the clearing of the current output cell\n",
       "var outputEl = gd.closest('.output');\n",
       "if (outputEl) {{\n",
       "    x.observe(outputEl, {childList: true});\n",
       "}}\n",
       "\n",
       "                        })                };                });            </script>        </div>"
      ]
     },
     "metadata": {},
     "output_type": "display_data"
    }
   ],
   "source": [
    "import pandas as pd\n",
    "import plotly.graph_objects as go\n",
    "import plotly.express as px\n",
    "\n",
    "df = xtest[xtest['point'] == Point(130.5,1.5)]\n",
    "df = df[df['level'] != 4.0]\n",
    "\n",
    "# Convert 'time' to datetime\n",
    "df['time'] = pd.to_datetime(df['time'])\n",
    "\n",
    "# Filter out level 4.0 if it exists\n",
    "df_filtered = df[df['level'] != 4.0]\n",
    "\n",
    "# Create a figure for the overlay plot\n",
    "overlay_fig = go.Figure()\n",
    "\n",
    "# Add stacked bars for each level using SST as probabilities\n",
    "for level in df_filtered['level'].unique():\n",
    "    level_data = df_filtered[df_filtered['level'] == level]\n",
    "    overlay_fig.add_trace(go.Bar(\n",
    "        x=level_data['time'], \n",
    "        y=level_data['sst'], \n",
    "        name=f'Level {int(level)}', \n",
    "        hoverinfo='y+name', \n",
    "        opacity=0.6\n",
    "    ))\n",
    "\n",
    "# Add lines for each level using SST as probabilities\n",
    "for level in df_filtered['level'].unique():\n",
    "    level_data = df_filtered[df_filtered['level'] == level]\n",
    "    overlay_fig.add_trace(go.Scatter(\n",
    "        x=level_data['time'], \n",
    "        y=level_data['sst'], \n",
    "        mode='lines+markers', \n",
    "        name=f'Level {int(level)} (Line)',\n",
    "        line=dict(width=2),\n",
    "        marker=dict(size=8)\n",
    "    ))\n",
    "\n",
    "# Update layout for overlay plot\n",
    "overlay_fig.update_layout(\n",
    "    title='Overlay of SST Probability Levels',\n",
    "    xaxis_title='Date',\n",
    "    yaxis_title='Probability (%)',\n",
    "    barmode='stack',\n",
    "    legend_title='Levels',\n",
    "    template='plotly_white'\n",
    ")\n",
    "\n",
    "# Show the overlay plot\n",
    "overlay_fig.show()\n"
   ]
  },
  {
   "cell_type": "code",
   "execution_count": 85,
   "id": "64934e82",
   "metadata": {},
   "outputs": [
    {
     "data": {
      "application/vnd.plotly.v1+json": {
       "config": {
        "plotlyServerURL": "https://plot.ly"
       },
       "data": [
        {
         "hoverinfo": "y+name",
         "legendgroup": "Level 1",
         "marker": {
          "color": "red"
         },
         "name": "Level 1",
         "opacity": 0.6,
         "type": "bar",
         "x": [
          "2024-03-01T00:00:00",
          "2024-04-01T00:00:00",
          "2024-05-01T00:00:00",
          "2024-06-01T00:00:00",
          "2024-07-01T00:00:00",
          "2024-08-01T00:00:00"
         ],
         "y": [
          82.75838470458984,
          94.11734008789062,
          92.29918670654297,
          93.54460144042969,
          92.85063171386719,
          84.64093017578125
         ]
        },
        {
         "hoverinfo": "y+name",
         "legendgroup": "Level 2",
         "marker": {
          "color": "grey"
         },
         "name": "Level 2",
         "opacity": 0.6,
         "type": "bar",
         "x": [
          "2024-03-01T00:00:00",
          "2024-04-01T00:00:00",
          "2024-05-01T00:00:00",
          "2024-06-01T00:00:00",
          "2024-07-01T00:00:00",
          "2024-08-01T00:00:00"
         ],
         "y": [
          17.053295135498047,
          5.648033142089844,
          6.669256687164307,
          5.53782320022583,
          6.115025520324707,
          13.192924499511719
         ]
        },
        {
         "hoverinfo": "y+name",
         "legendgroup": "Level 3",
         "marker": {
          "color": "blue"
         },
         "name": "Level 3",
         "opacity": 0.6,
         "type": "bar",
         "x": [
          "2024-03-01T00:00:00",
          "2024-04-01T00:00:00",
          "2024-05-01T00:00:00",
          "2024-06-01T00:00:00",
          "2024-07-01T00:00:00",
          "2024-08-01T00:00:00"
         ],
         "y": [
          0.1883266270160675,
          0.2346232831478119,
          1.0315645933151245,
          0.9175787568092346,
          1.0343501567840576,
          2.166144847869873
         ]
        },
        {
         "legendgroup": "Level 1",
         "line": {
          "color": "red",
          "width": 2
         },
         "marker": {
          "color": "red",
          "size": 8
         },
         "mode": "lines+markers",
         "name": "Level 1 (Line)",
         "type": "scatter",
         "x": [
          "2024-03-01T00:00:00",
          "2024-04-01T00:00:00",
          "2024-05-01T00:00:00",
          "2024-06-01T00:00:00",
          "2024-07-01T00:00:00",
          "2024-08-01T00:00:00"
         ],
         "y": [
          82.75838470458984,
          94.11734008789062,
          92.29918670654297,
          93.54460144042969,
          92.85063171386719,
          84.64093017578125
         ]
        },
        {
         "legendgroup": "Level 2",
         "line": {
          "color": "grey",
          "width": 2
         },
         "marker": {
          "color": "grey",
          "size": 8
         },
         "mode": "lines+markers",
         "name": "Level 2 (Line)",
         "type": "scatter",
         "x": [
          "2024-03-01T00:00:00",
          "2024-04-01T00:00:00",
          "2024-05-01T00:00:00",
          "2024-06-01T00:00:00",
          "2024-07-01T00:00:00",
          "2024-08-01T00:00:00"
         ],
         "y": [
          17.053295135498047,
          5.648033142089844,
          6.669256687164307,
          5.53782320022583,
          6.115025520324707,
          13.192924499511719
         ]
        },
        {
         "legendgroup": "Level 3",
         "line": {
          "color": "blue",
          "width": 2
         },
         "marker": {
          "color": "blue",
          "size": 8
         },
         "mode": "lines+markers",
         "name": "Level 3 (Line)",
         "type": "scatter",
         "x": [
          "2024-03-01T00:00:00",
          "2024-04-01T00:00:00",
          "2024-05-01T00:00:00",
          "2024-06-01T00:00:00",
          "2024-07-01T00:00:00",
          "2024-08-01T00:00:00"
         ],
         "y": [
          0.1883266270160675,
          0.2346232831478119,
          1.0315645933151245,
          0.9175787568092346,
          1.0343501567840576,
          2.166144847869873
         ]
        }
       ],
       "layout": {
        "barmode": "stack",
        "legend": {
         "title": {
          "text": "Levels"
         }
        },
        "template": {
         "data": {
          "bar": [
           {
            "error_x": {
             "color": "#2a3f5f"
            },
            "error_y": {
             "color": "#2a3f5f"
            },
            "marker": {
             "line": {
              "color": "white",
              "width": 0.5
             },
             "pattern": {
              "fillmode": "overlay",
              "size": 10,
              "solidity": 0.2
             }
            },
            "type": "bar"
           }
          ],
          "barpolar": [
           {
            "marker": {
             "line": {
              "color": "white",
              "width": 0.5
             },
             "pattern": {
              "fillmode": "overlay",
              "size": 10,
              "solidity": 0.2
             }
            },
            "type": "barpolar"
           }
          ],
          "carpet": [
           {
            "aaxis": {
             "endlinecolor": "#2a3f5f",
             "gridcolor": "#C8D4E3",
             "linecolor": "#C8D4E3",
             "minorgridcolor": "#C8D4E3",
             "startlinecolor": "#2a3f5f"
            },
            "baxis": {
             "endlinecolor": "#2a3f5f",
             "gridcolor": "#C8D4E3",
             "linecolor": "#C8D4E3",
             "minorgridcolor": "#C8D4E3",
             "startlinecolor": "#2a3f5f"
            },
            "type": "carpet"
           }
          ],
          "choropleth": [
           {
            "colorbar": {
             "outlinewidth": 0,
             "ticks": ""
            },
            "type": "choropleth"
           }
          ],
          "contour": [
           {
            "colorbar": {
             "outlinewidth": 0,
             "ticks": ""
            },
            "colorscale": [
             [
              0,
              "#0d0887"
             ],
             [
              0.1111111111111111,
              "#46039f"
             ],
             [
              0.2222222222222222,
              "#7201a8"
             ],
             [
              0.3333333333333333,
              "#9c179e"
             ],
             [
              0.4444444444444444,
              "#bd3786"
             ],
             [
              0.5555555555555556,
              "#d8576b"
             ],
             [
              0.6666666666666666,
              "#ed7953"
             ],
             [
              0.7777777777777778,
              "#fb9f3a"
             ],
             [
              0.8888888888888888,
              "#fdca26"
             ],
             [
              1,
              "#f0f921"
             ]
            ],
            "type": "contour"
           }
          ],
          "contourcarpet": [
           {
            "colorbar": {
             "outlinewidth": 0,
             "ticks": ""
            },
            "type": "contourcarpet"
           }
          ],
          "heatmap": [
           {
            "colorbar": {
             "outlinewidth": 0,
             "ticks": ""
            },
            "colorscale": [
             [
              0,
              "#0d0887"
             ],
             [
              0.1111111111111111,
              "#46039f"
             ],
             [
              0.2222222222222222,
              "#7201a8"
             ],
             [
              0.3333333333333333,
              "#9c179e"
             ],
             [
              0.4444444444444444,
              "#bd3786"
             ],
             [
              0.5555555555555556,
              "#d8576b"
             ],
             [
              0.6666666666666666,
              "#ed7953"
             ],
             [
              0.7777777777777778,
              "#fb9f3a"
             ],
             [
              0.8888888888888888,
              "#fdca26"
             ],
             [
              1,
              "#f0f921"
             ]
            ],
            "type": "heatmap"
           }
          ],
          "heatmapgl": [
           {
            "colorbar": {
             "outlinewidth": 0,
             "ticks": ""
            },
            "colorscale": [
             [
              0,
              "#0d0887"
             ],
             [
              0.1111111111111111,
              "#46039f"
             ],
             [
              0.2222222222222222,
              "#7201a8"
             ],
             [
              0.3333333333333333,
              "#9c179e"
             ],
             [
              0.4444444444444444,
              "#bd3786"
             ],
             [
              0.5555555555555556,
              "#d8576b"
             ],
             [
              0.6666666666666666,
              "#ed7953"
             ],
             [
              0.7777777777777778,
              "#fb9f3a"
             ],
             [
              0.8888888888888888,
              "#fdca26"
             ],
             [
              1,
              "#f0f921"
             ]
            ],
            "type": "heatmapgl"
           }
          ],
          "histogram": [
           {
            "marker": {
             "pattern": {
              "fillmode": "overlay",
              "size": 10,
              "solidity": 0.2
             }
            },
            "type": "histogram"
           }
          ],
          "histogram2d": [
           {
            "colorbar": {
             "outlinewidth": 0,
             "ticks": ""
            },
            "colorscale": [
             [
              0,
              "#0d0887"
             ],
             [
              0.1111111111111111,
              "#46039f"
             ],
             [
              0.2222222222222222,
              "#7201a8"
             ],
             [
              0.3333333333333333,
              "#9c179e"
             ],
             [
              0.4444444444444444,
              "#bd3786"
             ],
             [
              0.5555555555555556,
              "#d8576b"
             ],
             [
              0.6666666666666666,
              "#ed7953"
             ],
             [
              0.7777777777777778,
              "#fb9f3a"
             ],
             [
              0.8888888888888888,
              "#fdca26"
             ],
             [
              1,
              "#f0f921"
             ]
            ],
            "type": "histogram2d"
           }
          ],
          "histogram2dcontour": [
           {
            "colorbar": {
             "outlinewidth": 0,
             "ticks": ""
            },
            "colorscale": [
             [
              0,
              "#0d0887"
             ],
             [
              0.1111111111111111,
              "#46039f"
             ],
             [
              0.2222222222222222,
              "#7201a8"
             ],
             [
              0.3333333333333333,
              "#9c179e"
             ],
             [
              0.4444444444444444,
              "#bd3786"
             ],
             [
              0.5555555555555556,
              "#d8576b"
             ],
             [
              0.6666666666666666,
              "#ed7953"
             ],
             [
              0.7777777777777778,
              "#fb9f3a"
             ],
             [
              0.8888888888888888,
              "#fdca26"
             ],
             [
              1,
              "#f0f921"
             ]
            ],
            "type": "histogram2dcontour"
           }
          ],
          "mesh3d": [
           {
            "colorbar": {
             "outlinewidth": 0,
             "ticks": ""
            },
            "type": "mesh3d"
           }
          ],
          "parcoords": [
           {
            "line": {
             "colorbar": {
              "outlinewidth": 0,
              "ticks": ""
             }
            },
            "type": "parcoords"
           }
          ],
          "pie": [
           {
            "automargin": true,
            "type": "pie"
           }
          ],
          "scatter": [
           {
            "fillpattern": {
             "fillmode": "overlay",
             "size": 10,
             "solidity": 0.2
            },
            "type": "scatter"
           }
          ],
          "scatter3d": [
           {
            "line": {
             "colorbar": {
              "outlinewidth": 0,
              "ticks": ""
             }
            },
            "marker": {
             "colorbar": {
              "outlinewidth": 0,
              "ticks": ""
             }
            },
            "type": "scatter3d"
           }
          ],
          "scattercarpet": [
           {
            "marker": {
             "colorbar": {
              "outlinewidth": 0,
              "ticks": ""
             }
            },
            "type": "scattercarpet"
           }
          ],
          "scattergeo": [
           {
            "marker": {
             "colorbar": {
              "outlinewidth": 0,
              "ticks": ""
             }
            },
            "type": "scattergeo"
           }
          ],
          "scattergl": [
           {
            "marker": {
             "colorbar": {
              "outlinewidth": 0,
              "ticks": ""
             }
            },
            "type": "scattergl"
           }
          ],
          "scattermapbox": [
           {
            "marker": {
             "colorbar": {
              "outlinewidth": 0,
              "ticks": ""
             }
            },
            "type": "scattermapbox"
           }
          ],
          "scatterpolar": [
           {
            "marker": {
             "colorbar": {
              "outlinewidth": 0,
              "ticks": ""
             }
            },
            "type": "scatterpolar"
           }
          ],
          "scatterpolargl": [
           {
            "marker": {
             "colorbar": {
              "outlinewidth": 0,
              "ticks": ""
             }
            },
            "type": "scatterpolargl"
           }
          ],
          "scatterternary": [
           {
            "marker": {
             "colorbar": {
              "outlinewidth": 0,
              "ticks": ""
             }
            },
            "type": "scatterternary"
           }
          ],
          "surface": [
           {
            "colorbar": {
             "outlinewidth": 0,
             "ticks": ""
            },
            "colorscale": [
             [
              0,
              "#0d0887"
             ],
             [
              0.1111111111111111,
              "#46039f"
             ],
             [
              0.2222222222222222,
              "#7201a8"
             ],
             [
              0.3333333333333333,
              "#9c179e"
             ],
             [
              0.4444444444444444,
              "#bd3786"
             ],
             [
              0.5555555555555556,
              "#d8576b"
             ],
             [
              0.6666666666666666,
              "#ed7953"
             ],
             [
              0.7777777777777778,
              "#fb9f3a"
             ],
             [
              0.8888888888888888,
              "#fdca26"
             ],
             [
              1,
              "#f0f921"
             ]
            ],
            "type": "surface"
           }
          ],
          "table": [
           {
            "cells": {
             "fill": {
              "color": "#EBF0F8"
             },
             "line": {
              "color": "white"
             }
            },
            "header": {
             "fill": {
              "color": "#C8D4E3"
             },
             "line": {
              "color": "white"
             }
            },
            "type": "table"
           }
          ]
         },
         "layout": {
          "annotationdefaults": {
           "arrowcolor": "#2a3f5f",
           "arrowhead": 0,
           "arrowwidth": 1
          },
          "autotypenumbers": "strict",
          "coloraxis": {
           "colorbar": {
            "outlinewidth": 0,
            "ticks": ""
           }
          },
          "colorscale": {
           "diverging": [
            [
             0,
             "#8e0152"
            ],
            [
             0.1,
             "#c51b7d"
            ],
            [
             0.2,
             "#de77ae"
            ],
            [
             0.3,
             "#f1b6da"
            ],
            [
             0.4,
             "#fde0ef"
            ],
            [
             0.5,
             "#f7f7f7"
            ],
            [
             0.6,
             "#e6f5d0"
            ],
            [
             0.7,
             "#b8e186"
            ],
            [
             0.8,
             "#7fbc41"
            ],
            [
             0.9,
             "#4d9221"
            ],
            [
             1,
             "#276419"
            ]
           ],
           "sequential": [
            [
             0,
             "#0d0887"
            ],
            [
             0.1111111111111111,
             "#46039f"
            ],
            [
             0.2222222222222222,
             "#7201a8"
            ],
            [
             0.3333333333333333,
             "#9c179e"
            ],
            [
             0.4444444444444444,
             "#bd3786"
            ],
            [
             0.5555555555555556,
             "#d8576b"
            ],
            [
             0.6666666666666666,
             "#ed7953"
            ],
            [
             0.7777777777777778,
             "#fb9f3a"
            ],
            [
             0.8888888888888888,
             "#fdca26"
            ],
            [
             1,
             "#f0f921"
            ]
           ],
           "sequentialminus": [
            [
             0,
             "#0d0887"
            ],
            [
             0.1111111111111111,
             "#46039f"
            ],
            [
             0.2222222222222222,
             "#7201a8"
            ],
            [
             0.3333333333333333,
             "#9c179e"
            ],
            [
             0.4444444444444444,
             "#bd3786"
            ],
            [
             0.5555555555555556,
             "#d8576b"
            ],
            [
             0.6666666666666666,
             "#ed7953"
            ],
            [
             0.7777777777777778,
             "#fb9f3a"
            ],
            [
             0.8888888888888888,
             "#fdca26"
            ],
            [
             1,
             "#f0f921"
            ]
           ]
          },
          "colorway": [
           "#636efa",
           "#EF553B",
           "#00cc96",
           "#ab63fa",
           "#FFA15A",
           "#19d3f3",
           "#FF6692",
           "#B6E880",
           "#FF97FF",
           "#FECB52"
          ],
          "font": {
           "color": "#2a3f5f"
          },
          "geo": {
           "bgcolor": "white",
           "lakecolor": "white",
           "landcolor": "white",
           "showlakes": true,
           "showland": true,
           "subunitcolor": "#C8D4E3"
          },
          "hoverlabel": {
           "align": "left"
          },
          "hovermode": "closest",
          "mapbox": {
           "style": "light"
          },
          "paper_bgcolor": "white",
          "plot_bgcolor": "white",
          "polar": {
           "angularaxis": {
            "gridcolor": "#EBF0F8",
            "linecolor": "#EBF0F8",
            "ticks": ""
           },
           "bgcolor": "white",
           "radialaxis": {
            "gridcolor": "#EBF0F8",
            "linecolor": "#EBF0F8",
            "ticks": ""
           }
          },
          "scene": {
           "xaxis": {
            "backgroundcolor": "white",
            "gridcolor": "#DFE8F3",
            "gridwidth": 2,
            "linecolor": "#EBF0F8",
            "showbackground": true,
            "ticks": "",
            "zerolinecolor": "#EBF0F8"
           },
           "yaxis": {
            "backgroundcolor": "white",
            "gridcolor": "#DFE8F3",
            "gridwidth": 2,
            "linecolor": "#EBF0F8",
            "showbackground": true,
            "ticks": "",
            "zerolinecolor": "#EBF0F8"
           },
           "zaxis": {
            "backgroundcolor": "white",
            "gridcolor": "#DFE8F3",
            "gridwidth": 2,
            "linecolor": "#EBF0F8",
            "showbackground": true,
            "ticks": "",
            "zerolinecolor": "#EBF0F8"
           }
          },
          "shapedefaults": {
           "line": {
            "color": "#2a3f5f"
           }
          },
          "ternary": {
           "aaxis": {
            "gridcolor": "#DFE8F3",
            "linecolor": "#A2B1C6",
            "ticks": ""
           },
           "baxis": {
            "gridcolor": "#DFE8F3",
            "linecolor": "#A2B1C6",
            "ticks": ""
           },
           "bgcolor": "white",
           "caxis": {
            "gridcolor": "#DFE8F3",
            "linecolor": "#A2B1C6",
            "ticks": ""
           }
          },
          "title": {
           "x": 0.05
          },
          "xaxis": {
           "automargin": true,
           "gridcolor": "#EBF0F8",
           "linecolor": "#EBF0F8",
           "ticks": "",
           "title": {
            "standoff": 15
           },
           "zerolinecolor": "#EBF0F8",
           "zerolinewidth": 2
          },
          "yaxis": {
           "automargin": true,
           "gridcolor": "#EBF0F8",
           "linecolor": "#EBF0F8",
           "ticks": "",
           "title": {
            "standoff": 15
           },
           "zerolinecolor": "#EBF0F8",
           "zerolinewidth": 2
          }
         }
        },
        "title": {
         "text": "Overlay of SST Probability Levels"
        },
        "xaxis": {
         "title": {
          "text": "Date"
         }
        },
        "yaxis": {
         "title": {
          "text": "Probability (%)"
         }
        }
       }
      },
      "text/html": [
       "<div>                            <div id=\"a694572c-bd27-43d6-8a55-f1f4ed03d243\" class=\"plotly-graph-div\" style=\"height:525px; width:100%;\"></div>            <script type=\"text/javascript\">                require([\"plotly\"], function(Plotly) {                    window.PLOTLYENV=window.PLOTLYENV || {};                                    if (document.getElementById(\"a694572c-bd27-43d6-8a55-f1f4ed03d243\")) {                    Plotly.newPlot(                        \"a694572c-bd27-43d6-8a55-f1f4ed03d243\",                        [{\"hoverinfo\":\"y+name\",\"legendgroup\":\"Level 1\",\"marker\":{\"color\":\"red\"},\"name\":\"Level 1\",\"opacity\":0.6,\"x\":[\"2024-03-01T00:00:00\",\"2024-04-01T00:00:00\",\"2024-05-01T00:00:00\",\"2024-06-01T00:00:00\",\"2024-07-01T00:00:00\",\"2024-08-01T00:00:00\"],\"y\":[82.75838470458984,94.11734008789062,92.29918670654297,93.54460144042969,92.85063171386719,84.64093017578125],\"type\":\"bar\"},{\"hoverinfo\":\"y+name\",\"legendgroup\":\"Level 2\",\"marker\":{\"color\":\"grey\"},\"name\":\"Level 2\",\"opacity\":0.6,\"x\":[\"2024-03-01T00:00:00\",\"2024-04-01T00:00:00\",\"2024-05-01T00:00:00\",\"2024-06-01T00:00:00\",\"2024-07-01T00:00:00\",\"2024-08-01T00:00:00\"],\"y\":[17.053295135498047,5.648033142089844,6.669256687164307,5.53782320022583,6.115025520324707,13.192924499511719],\"type\":\"bar\"},{\"hoverinfo\":\"y+name\",\"legendgroup\":\"Level 3\",\"marker\":{\"color\":\"blue\"},\"name\":\"Level 3\",\"opacity\":0.6,\"x\":[\"2024-03-01T00:00:00\",\"2024-04-01T00:00:00\",\"2024-05-01T00:00:00\",\"2024-06-01T00:00:00\",\"2024-07-01T00:00:00\",\"2024-08-01T00:00:00\"],\"y\":[0.1883266270160675,0.2346232831478119,1.0315645933151245,0.9175787568092346,1.0343501567840576,2.166144847869873],\"type\":\"bar\"},{\"legendgroup\":\"Level 1\",\"line\":{\"color\":\"red\",\"width\":2},\"marker\":{\"color\":\"red\",\"size\":8},\"mode\":\"lines+markers\",\"name\":\"Level 1 (Line)\",\"x\":[\"2024-03-01T00:00:00\",\"2024-04-01T00:00:00\",\"2024-05-01T00:00:00\",\"2024-06-01T00:00:00\",\"2024-07-01T00:00:00\",\"2024-08-01T00:00:00\"],\"y\":[82.75838470458984,94.11734008789062,92.29918670654297,93.54460144042969,92.85063171386719,84.64093017578125],\"type\":\"scatter\"},{\"legendgroup\":\"Level 2\",\"line\":{\"color\":\"grey\",\"width\":2},\"marker\":{\"color\":\"grey\",\"size\":8},\"mode\":\"lines+markers\",\"name\":\"Level 2 (Line)\",\"x\":[\"2024-03-01T00:00:00\",\"2024-04-01T00:00:00\",\"2024-05-01T00:00:00\",\"2024-06-01T00:00:00\",\"2024-07-01T00:00:00\",\"2024-08-01T00:00:00\"],\"y\":[17.053295135498047,5.648033142089844,6.669256687164307,5.53782320022583,6.115025520324707,13.192924499511719],\"type\":\"scatter\"},{\"legendgroup\":\"Level 3\",\"line\":{\"color\":\"blue\",\"width\":2},\"marker\":{\"color\":\"blue\",\"size\":8},\"mode\":\"lines+markers\",\"name\":\"Level 3 (Line)\",\"x\":[\"2024-03-01T00:00:00\",\"2024-04-01T00:00:00\",\"2024-05-01T00:00:00\",\"2024-06-01T00:00:00\",\"2024-07-01T00:00:00\",\"2024-08-01T00:00:00\"],\"y\":[0.1883266270160675,0.2346232831478119,1.0315645933151245,0.9175787568092346,1.0343501567840576,2.166144847869873],\"type\":\"scatter\"}],                        {\"template\":{\"data\":{\"barpolar\":[{\"marker\":{\"line\":{\"color\":\"white\",\"width\":0.5},\"pattern\":{\"fillmode\":\"overlay\",\"size\":10,\"solidity\":0.2}},\"type\":\"barpolar\"}],\"bar\":[{\"error_x\":{\"color\":\"#2a3f5f\"},\"error_y\":{\"color\":\"#2a3f5f\"},\"marker\":{\"line\":{\"color\":\"white\",\"width\":0.5},\"pattern\":{\"fillmode\":\"overlay\",\"size\":10,\"solidity\":0.2}},\"type\":\"bar\"}],\"carpet\":[{\"aaxis\":{\"endlinecolor\":\"#2a3f5f\",\"gridcolor\":\"#C8D4E3\",\"linecolor\":\"#C8D4E3\",\"minorgridcolor\":\"#C8D4E3\",\"startlinecolor\":\"#2a3f5f\"},\"baxis\":{\"endlinecolor\":\"#2a3f5f\",\"gridcolor\":\"#C8D4E3\",\"linecolor\":\"#C8D4E3\",\"minorgridcolor\":\"#C8D4E3\",\"startlinecolor\":\"#2a3f5f\"},\"type\":\"carpet\"}],\"choropleth\":[{\"colorbar\":{\"outlinewidth\":0,\"ticks\":\"\"},\"type\":\"choropleth\"}],\"contourcarpet\":[{\"colorbar\":{\"outlinewidth\":0,\"ticks\":\"\"},\"type\":\"contourcarpet\"}],\"contour\":[{\"colorbar\":{\"outlinewidth\":0,\"ticks\":\"\"},\"colorscale\":[[0.0,\"#0d0887\"],[0.1111111111111111,\"#46039f\"],[0.2222222222222222,\"#7201a8\"],[0.3333333333333333,\"#9c179e\"],[0.4444444444444444,\"#bd3786\"],[0.5555555555555556,\"#d8576b\"],[0.6666666666666666,\"#ed7953\"],[0.7777777777777778,\"#fb9f3a\"],[0.8888888888888888,\"#fdca26\"],[1.0,\"#f0f921\"]],\"type\":\"contour\"}],\"heatmapgl\":[{\"colorbar\":{\"outlinewidth\":0,\"ticks\":\"\"},\"colorscale\":[[0.0,\"#0d0887\"],[0.1111111111111111,\"#46039f\"],[0.2222222222222222,\"#7201a8\"],[0.3333333333333333,\"#9c179e\"],[0.4444444444444444,\"#bd3786\"],[0.5555555555555556,\"#d8576b\"],[0.6666666666666666,\"#ed7953\"],[0.7777777777777778,\"#fb9f3a\"],[0.8888888888888888,\"#fdca26\"],[1.0,\"#f0f921\"]],\"type\":\"heatmapgl\"}],\"heatmap\":[{\"colorbar\":{\"outlinewidth\":0,\"ticks\":\"\"},\"colorscale\":[[0.0,\"#0d0887\"],[0.1111111111111111,\"#46039f\"],[0.2222222222222222,\"#7201a8\"],[0.3333333333333333,\"#9c179e\"],[0.4444444444444444,\"#bd3786\"],[0.5555555555555556,\"#d8576b\"],[0.6666666666666666,\"#ed7953\"],[0.7777777777777778,\"#fb9f3a\"],[0.8888888888888888,\"#fdca26\"],[1.0,\"#f0f921\"]],\"type\":\"heatmap\"}],\"histogram2dcontour\":[{\"colorbar\":{\"outlinewidth\":0,\"ticks\":\"\"},\"colorscale\":[[0.0,\"#0d0887\"],[0.1111111111111111,\"#46039f\"],[0.2222222222222222,\"#7201a8\"],[0.3333333333333333,\"#9c179e\"],[0.4444444444444444,\"#bd3786\"],[0.5555555555555556,\"#d8576b\"],[0.6666666666666666,\"#ed7953\"],[0.7777777777777778,\"#fb9f3a\"],[0.8888888888888888,\"#fdca26\"],[1.0,\"#f0f921\"]],\"type\":\"histogram2dcontour\"}],\"histogram2d\":[{\"colorbar\":{\"outlinewidth\":0,\"ticks\":\"\"},\"colorscale\":[[0.0,\"#0d0887\"],[0.1111111111111111,\"#46039f\"],[0.2222222222222222,\"#7201a8\"],[0.3333333333333333,\"#9c179e\"],[0.4444444444444444,\"#bd3786\"],[0.5555555555555556,\"#d8576b\"],[0.6666666666666666,\"#ed7953\"],[0.7777777777777778,\"#fb9f3a\"],[0.8888888888888888,\"#fdca26\"],[1.0,\"#f0f921\"]],\"type\":\"histogram2d\"}],\"histogram\":[{\"marker\":{\"pattern\":{\"fillmode\":\"overlay\",\"size\":10,\"solidity\":0.2}},\"type\":\"histogram\"}],\"mesh3d\":[{\"colorbar\":{\"outlinewidth\":0,\"ticks\":\"\"},\"type\":\"mesh3d\"}],\"parcoords\":[{\"line\":{\"colorbar\":{\"outlinewidth\":0,\"ticks\":\"\"}},\"type\":\"parcoords\"}],\"pie\":[{\"automargin\":true,\"type\":\"pie\"}],\"scatter3d\":[{\"line\":{\"colorbar\":{\"outlinewidth\":0,\"ticks\":\"\"}},\"marker\":{\"colorbar\":{\"outlinewidth\":0,\"ticks\":\"\"}},\"type\":\"scatter3d\"}],\"scattercarpet\":[{\"marker\":{\"colorbar\":{\"outlinewidth\":0,\"ticks\":\"\"}},\"type\":\"scattercarpet\"}],\"scattergeo\":[{\"marker\":{\"colorbar\":{\"outlinewidth\":0,\"ticks\":\"\"}},\"type\":\"scattergeo\"}],\"scattergl\":[{\"marker\":{\"colorbar\":{\"outlinewidth\":0,\"ticks\":\"\"}},\"type\":\"scattergl\"}],\"scattermapbox\":[{\"marker\":{\"colorbar\":{\"outlinewidth\":0,\"ticks\":\"\"}},\"type\":\"scattermapbox\"}],\"scatterpolargl\":[{\"marker\":{\"colorbar\":{\"outlinewidth\":0,\"ticks\":\"\"}},\"type\":\"scatterpolargl\"}],\"scatterpolar\":[{\"marker\":{\"colorbar\":{\"outlinewidth\":0,\"ticks\":\"\"}},\"type\":\"scatterpolar\"}],\"scatter\":[{\"fillpattern\":{\"fillmode\":\"overlay\",\"size\":10,\"solidity\":0.2},\"type\":\"scatter\"}],\"scatterternary\":[{\"marker\":{\"colorbar\":{\"outlinewidth\":0,\"ticks\":\"\"}},\"type\":\"scatterternary\"}],\"surface\":[{\"colorbar\":{\"outlinewidth\":0,\"ticks\":\"\"},\"colorscale\":[[0.0,\"#0d0887\"],[0.1111111111111111,\"#46039f\"],[0.2222222222222222,\"#7201a8\"],[0.3333333333333333,\"#9c179e\"],[0.4444444444444444,\"#bd3786\"],[0.5555555555555556,\"#d8576b\"],[0.6666666666666666,\"#ed7953\"],[0.7777777777777778,\"#fb9f3a\"],[0.8888888888888888,\"#fdca26\"],[1.0,\"#f0f921\"]],\"type\":\"surface\"}],\"table\":[{\"cells\":{\"fill\":{\"color\":\"#EBF0F8\"},\"line\":{\"color\":\"white\"}},\"header\":{\"fill\":{\"color\":\"#C8D4E3\"},\"line\":{\"color\":\"white\"}},\"type\":\"table\"}]},\"layout\":{\"annotationdefaults\":{\"arrowcolor\":\"#2a3f5f\",\"arrowhead\":0,\"arrowwidth\":1},\"autotypenumbers\":\"strict\",\"coloraxis\":{\"colorbar\":{\"outlinewidth\":0,\"ticks\":\"\"}},\"colorscale\":{\"diverging\":[[0,\"#8e0152\"],[0.1,\"#c51b7d\"],[0.2,\"#de77ae\"],[0.3,\"#f1b6da\"],[0.4,\"#fde0ef\"],[0.5,\"#f7f7f7\"],[0.6,\"#e6f5d0\"],[0.7,\"#b8e186\"],[0.8,\"#7fbc41\"],[0.9,\"#4d9221\"],[1,\"#276419\"]],\"sequential\":[[0.0,\"#0d0887\"],[0.1111111111111111,\"#46039f\"],[0.2222222222222222,\"#7201a8\"],[0.3333333333333333,\"#9c179e\"],[0.4444444444444444,\"#bd3786\"],[0.5555555555555556,\"#d8576b\"],[0.6666666666666666,\"#ed7953\"],[0.7777777777777778,\"#fb9f3a\"],[0.8888888888888888,\"#fdca26\"],[1.0,\"#f0f921\"]],\"sequentialminus\":[[0.0,\"#0d0887\"],[0.1111111111111111,\"#46039f\"],[0.2222222222222222,\"#7201a8\"],[0.3333333333333333,\"#9c179e\"],[0.4444444444444444,\"#bd3786\"],[0.5555555555555556,\"#d8576b\"],[0.6666666666666666,\"#ed7953\"],[0.7777777777777778,\"#fb9f3a\"],[0.8888888888888888,\"#fdca26\"],[1.0,\"#f0f921\"]]},\"colorway\":[\"#636efa\",\"#EF553B\",\"#00cc96\",\"#ab63fa\",\"#FFA15A\",\"#19d3f3\",\"#FF6692\",\"#B6E880\",\"#FF97FF\",\"#FECB52\"],\"font\":{\"color\":\"#2a3f5f\"},\"geo\":{\"bgcolor\":\"white\",\"lakecolor\":\"white\",\"landcolor\":\"white\",\"showlakes\":true,\"showland\":true,\"subunitcolor\":\"#C8D4E3\"},\"hoverlabel\":{\"align\":\"left\"},\"hovermode\":\"closest\",\"mapbox\":{\"style\":\"light\"},\"paper_bgcolor\":\"white\",\"plot_bgcolor\":\"white\",\"polar\":{\"angularaxis\":{\"gridcolor\":\"#EBF0F8\",\"linecolor\":\"#EBF0F8\",\"ticks\":\"\"},\"bgcolor\":\"white\",\"radialaxis\":{\"gridcolor\":\"#EBF0F8\",\"linecolor\":\"#EBF0F8\",\"ticks\":\"\"}},\"scene\":{\"xaxis\":{\"backgroundcolor\":\"white\",\"gridcolor\":\"#DFE8F3\",\"gridwidth\":2,\"linecolor\":\"#EBF0F8\",\"showbackground\":true,\"ticks\":\"\",\"zerolinecolor\":\"#EBF0F8\"},\"yaxis\":{\"backgroundcolor\":\"white\",\"gridcolor\":\"#DFE8F3\",\"gridwidth\":2,\"linecolor\":\"#EBF0F8\",\"showbackground\":true,\"ticks\":\"\",\"zerolinecolor\":\"#EBF0F8\"},\"zaxis\":{\"backgroundcolor\":\"white\",\"gridcolor\":\"#DFE8F3\",\"gridwidth\":2,\"linecolor\":\"#EBF0F8\",\"showbackground\":true,\"ticks\":\"\",\"zerolinecolor\":\"#EBF0F8\"}},\"shapedefaults\":{\"line\":{\"color\":\"#2a3f5f\"}},\"ternary\":{\"aaxis\":{\"gridcolor\":\"#DFE8F3\",\"linecolor\":\"#A2B1C6\",\"ticks\":\"\"},\"baxis\":{\"gridcolor\":\"#DFE8F3\",\"linecolor\":\"#A2B1C6\",\"ticks\":\"\"},\"bgcolor\":\"white\",\"caxis\":{\"gridcolor\":\"#DFE8F3\",\"linecolor\":\"#A2B1C6\",\"ticks\":\"\"}},\"title\":{\"x\":0.05},\"xaxis\":{\"automargin\":true,\"gridcolor\":\"#EBF0F8\",\"linecolor\":\"#EBF0F8\",\"ticks\":\"\",\"title\":{\"standoff\":15},\"zerolinecolor\":\"#EBF0F8\",\"zerolinewidth\":2},\"yaxis\":{\"automargin\":true,\"gridcolor\":\"#EBF0F8\",\"linecolor\":\"#EBF0F8\",\"ticks\":\"\",\"title\":{\"standoff\":15},\"zerolinecolor\":\"#EBF0F8\",\"zerolinewidth\":2}}},\"title\":{\"text\":\"Overlay of SST Probability Levels\"},\"xaxis\":{\"title\":{\"text\":\"Date\"}},\"yaxis\":{\"title\":{\"text\":\"Probability (%)\"}},\"barmode\":\"stack\",\"legend\":{\"title\":{\"text\":\"Levels\"}}},                        {\"responsive\": true}                    ).then(function(){\n",
       "                            \n",
       "var gd = document.getElementById('a694572c-bd27-43d6-8a55-f1f4ed03d243');\n",
       "var x = new MutationObserver(function (mutations, observer) {{\n",
       "        var display = window.getComputedStyle(gd).display;\n",
       "        if (!display || display === 'none') {{\n",
       "            console.log([gd, 'removed!']);\n",
       "            Plotly.purge(gd);\n",
       "            observer.disconnect();\n",
       "        }}\n",
       "}});\n",
       "\n",
       "// Listen for the removal of the full notebook cells\n",
       "var notebookContainer = gd.closest('#notebook-container');\n",
       "if (notebookContainer) {{\n",
       "    x.observe(notebookContainer, {childList: true});\n",
       "}}\n",
       "\n",
       "// Listen for the clearing of the current output cell\n",
       "var outputEl = gd.closest('.output');\n",
       "if (outputEl) {{\n",
       "    x.observe(outputEl, {childList: true});\n",
       "}}\n",
       "\n",
       "                        })                };                });            </script>        </div>"
      ]
     },
     "metadata": {},
     "output_type": "display_data"
    }
   ],
   "source": [
    "import pandas as pd\n",
    "import plotly.graph_objects as go\n",
    "\n",
    "# Assuming xtest is your data, filtering for specific 'point' and removing level 4.0\n",
    "df = xtest[xtest['point'] == Point(130.5, 1.5)]\n",
    "df = df[df['level'] != 4.0]\n",
    "\n",
    "# Convert 'time' to datetime\n",
    "df['time'] = pd.to_datetime(df['time'])\n",
    "\n",
    "# Filter out level 4.0\n",
    "df_filtered = df[df['level'] != 4.0]\n",
    "\n",
    "# Define a color map for each level\n",
    "color_map = {\n",
    "    1.0: 'red',\n",
    "    2.0: 'grey',\n",
    "    3.0: 'blue'\n",
    "}\n",
    "\n",
    "# Create a figure for the overlay plot\n",
    "overlay_fig = go.Figure()\n",
    "\n",
    "# Add stacked bars for each level using SST as probabilities\n",
    "for level in df_filtered['level'].unique():\n",
    "    level_data = df_filtered[df_filtered['level'] == level]\n",
    "    overlay_fig.add_trace(go.Bar(\n",
    "        x=level_data['time'], \n",
    "        y=level_data['sst'], \n",
    "        name=f'Level {int(level)}', \n",
    "        hoverinfo='y+name', \n",
    "        opacity=0.6,\n",
    "        marker_color=color_map[level],  # Set color for bar\n",
    "        legendgroup=f'Level {int(level)}'\n",
    "    ))\n",
    "\n",
    "# Add lines for each level using SST as probabilities\n",
    "for level in df_filtered['level'].unique():\n",
    "    level_data = df_filtered[df_filtered['level'] == level]\n",
    "    overlay_fig.add_trace(go.Scatter(\n",
    "        x=level_data['time'], \n",
    "        y=level_data['sst'], \n",
    "        mode='lines+markers', \n",
    "        name=f'Level {int(level)} (Line)',\n",
    "        line=dict(width=2, color=color_map[level]),  # Set color for line\n",
    "        marker=dict(size=8, color=color_map[level]),  # Set color for markers\n",
    "        legendgroup=f'Level {int(level)}'\n",
    "    ))\n",
    "\n",
    "# Update layout for overlay plot\n",
    "overlay_fig.update_layout(\n",
    "    title='Overlay of SST Probability Levels',\n",
    "    xaxis_title='Date',\n",
    "    yaxis_title='Probability (%)',\n",
    "    barmode='stack',\n",
    "    legend_title='Levels',\n",
    "    template='plotly_white'\n",
    ")\n",
    "\n",
    "# Show the overlay plot\n",
    "overlay_fig.show()\n"
   ]
  },
  {
   "cell_type": "code",
   "execution_count": 83,
   "id": "be9eb88a",
   "metadata": {},
   "outputs": [
    {
     "data": {
      "image/png": "[encoded data removed]",
      "text/plain": [
       "<Figure size 1000x200 with 1 Axes>"
      ]
     },
     "metadata": {},
     "output_type": "display_data"
    }
   ],
   "source": [
    "import matplotlib.pyplot as plt\n",
    "\n",
    "# Define the data\n",
    "categories = ['Below', 'Near', 'Above']\n",
    "color_values = {\n",
    "    'Below': ['#4A2C00', '#884B00', '#B97C56', '#DCB299', '#FDF5F2', '#FFFFFF'],  # 80 to 0\n",
    "    'Near': ['#FFFFFF', '#E1E1E1', '#C8C8C8', '#9E9E9E', '#7D7D7D', '#4A4A4A'],   # 0 to 80\n",
    "    'Above': ['#FFFFFF', '#BBF3FC', '#8DE5FA', '#54D2F5', '#0EC5F1', '#0080B6']   # 0 to 80\n",
    "}\n",
    "values = {\n",
    "    'Below': [80, 70, 60, 50, 40, 0],\n",
    "    'Near': [0, 40, 50, 60, 70, 80],\n",
    "    'Above': [0, 40, 50, 60, 70, 80]\n",
    "}\n",
    "\n",
    "# Initialize the plot\n",
    "fig, ax = plt.subplots(figsize=(10, 2))\n",
    "\n",
    "block_width = 0.8  # width of each color block\n",
    "block_height = 0.6  # height of each color block\n",
    "\n",
    "# Loop through each category and plot the colors without spaces\n",
    "x_index = 0  # Starting x position\n",
    "for category in categories:\n",
    "    # Add category label above the blocks\n",
    "    plt.text(x_index + 2.5, 0.8, category, ha='center', va='bottom', fontsize=12, fontweight='bold')\n",
    "    \n",
    "    # Plot each color block and the corresponding number\n",
    "    for j, color in enumerate(color_values[category]):\n",
    "        rect = plt.Rectangle((x_index, 0), block_width, block_height, color=color, ec='black')\n",
    "        ax.add_patch(rect)\n",
    "        # Add number to the right of the block\n",
    "        plt.text(x_index + block_width + 0.2, -0.2, str(values[category][j]), ha='right', va='top', fontsize=10)\n",
    "        x_index += block_width  # Move to the next position directly\n",
    "\n",
    "# Remove axes and display\n",
    "ax.set_axis_off()\n",
    "plt.xlim(0, x_index)  # Adjust x limits\n",
    "plt.ylim(-0.5, 1.5)   # Adjust y limits for labels and blocks\n",
    "\n",
    "plt.show()\n"
   ]
  },
  {
   "cell_type": "code",
   "execution_count": null,
   "id": "e358823f",
   "metadata": {},
   "outputs": [],
   "source": []
  },
  {
   "cell_type": "code",
   "execution_count": null,
   "id": "e1affdc5",
   "metadata": {},
   "outputs": [],
   "source": []
  },
  {
   "cell_type": "code",
   "execution_count": null,
   "id": "861de00d",
   "metadata": {},
   "outputs": [],
   "source": []
  },
  {
   "cell_type": "code",
   "execution_count": null,
   "id": "a4172f2a",
   "metadata": {},
   "outputs": [],
   "source": []
  }
 ],
 "metadata": {
  "kernelspec": {
   "display_name": "Python 3 (ipykernel)",
   "language": "python",
   "name": "python3"
  },
  "language_info": {
   "codemirror_mode": {
    "name": "ipython",
    "version": 3
   },
   "file_extension": ".py",
   "mimetype": "text/x-python",
   "name": "python",
   "nbconvert_exporter": "python",
   "pygments_lexer": "ipython3",
   "version": "3.9.18"
  }
 },
 "nbformat": 4,
 "nbformat_minor": 5
}
