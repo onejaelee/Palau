{
 "cells": [
  {
   "cell_type": "code",
   "execution_count": 1,
   "id": "0eb3197f",
   "metadata": {},
   "outputs": [
    {
     "name": "stdout",
     "output_type": "stream",
     "text": [
      "Intel MKL WARNING: Support of Intel(R) Streaming SIMD Extensions 4.2 (Intel(R) SSE4.2) enabled only processors has been deprecated. Intel oneAPI Math Kernel Library 2025.0 will require Intel(R) Advanced Vector Extensions (Intel(R) AVX) instructions.\n",
      "Intel MKL WARNING: Support of Intel(R) Streaming SIMD Extensions 4.2 (Intel(R) SSE4.2) enabled only processors has been deprecated. Intel oneAPI Math Kernel Library 2025.0 will require Intel(R) Advanced Vector Extensions (Intel(R) AVX) instructions.\n"
     ]
    }
   ],
   "source": [
    "import requests\n",
    "import re\n",
    "import urllib \n",
    "import os\n",
    "import xarray as xr\n",
    "\n",
    "from shapely.geometry import Point\n",
    "import geopandas as gpd\n",
    "import numpy as np\n",
    "\n",
    "from scipy.interpolate import griddata"
   ]
  },
  {
   "cell_type": "code",
   "execution_count": 2,
   "id": "f9568af9",
   "metadata": {},
   "outputs": [],
   "source": [
    "def palau_eez(df):\n",
    "    df_eez = gpd.read_file('./palauEEZ.geojson')\n",
    "    eez = df_eez['geometry'].values[0]\n",
    "    in_palau = []\n",
    "    longlat = df[['longitude','latitude']].values.tolist()\n",
    "    for x in longlat:\n",
    "        point = Point(x[0],x[1])\n",
    "        if eez.contains(point) or point.within(eez):\n",
    "            in_palau.append((x[0],x[1]))\n",
    "    return df[df[['longitude', 'latitude']].apply(tuple, axis=1).isin(in_palau)]"
   ]
  },
  {
   "cell_type": "code",
   "execution_count": 3,
   "id": "20d31bf9",
   "metadata": {},
   "outputs": [],
   "source": [
    "def filter_palau(df):\n",
    "    filtered = df[(df[\"latitude\"]>= 1.25)&\n",
    "                                (df[\"latitude\"]<=13.00)&(df[\"longitude\"]<=139.00)&\n",
    "                                (df[\"longitude\"]>=128)]\n",
    "    return filtered"
   ]
  },
  {
   "cell_type": "code",
   "execution_count": 4,
   "id": "5c8fa2c8",
   "metadata": {},
   "outputs": [],
   "source": [
    "minlat = -35.0\n",
    "maxlat = 35.0\n",
    "minlon = 125.0\n",
    "maxlon = 360.0-115.0\n",
    "# date_static = '1986-01-15'\n",
    "date_static = '1986-01-01'\n",
    "date_static_t = 'Jan 1986'"
   ]
  },
  {
   "cell_type": "code",
   "execution_count": 7,
   "id": "cdd51403",
   "metadata": {},
   "outputs": [
    {
     "name": "stdout",
     "output_type": "stream",
     "text": [
      "Fatal Python error: config_get_locale_encoding: failed to get the locale encoding: nl_langinfo(CODESET) failed\n",
      "Python runtime state: preinitialized\n",
      "\n",
      "\n",
      "Note: you may need to restart the kernel to use updated packages.\n"
     ]
    }
   ],
   "source": [
    "conda install -c conda-forge geos"
   ]
  },
  {
   "cell_type": "code",
   "execution_count": 5,
   "id": "c3ee9fce",
   "metadata": {},
   "outputs": [
    {
     "ename": "ImportError",
     "evalue": "cannot import name lgeos",
     "output_type": "error",
     "traceback": [
      "\u001b[0;31m---------------------------------------------------------------------------\u001b[0m",
      "\u001b[0;31mImportError\u001b[0m                               Traceback (most recent call last)",
      "Cell \u001b[0;32mIn[5], line 1\u001b[0m\n\u001b[0;32m----> 1\u001b[0m \u001b[38;5;28;01mfrom\u001b[39;00m \u001b[38;5;21;01mcartopy\u001b[39;00m\u001b[38;5;21;01m.\u001b[39;00m\u001b[38;5;21;01mfeature\u001b[39;00m \u001b[38;5;28;01mimport\u001b[39;00m ShapelyFeature\n\u001b[1;32m      2\u001b[0m \u001b[38;5;28;01mimport\u001b[39;00m \u001b[38;5;21;01mcartopy\u001b[39;00m\u001b[38;5;21;01m.\u001b[39;00m\u001b[38;5;21;01mio\u001b[39;00m\u001b[38;5;21;01m.\u001b[39;00m\u001b[38;5;21;01mshapereader\u001b[39;00m \u001b[38;5;28;01mas\u001b[39;00m \u001b[38;5;21;01mshpreader\u001b[39;00m\n",
      "File \u001b[0;32m/opt/anaconda3/envs/cmip6/lib/python3.9/site-packages/cartopy/__init__.py:96\u001b[0m\n\u001b[1;32m     91\u001b[0m     \u001b[38;5;28;01mpass\u001b[39;00m\n\u001b[1;32m     94\u001b[0m \u001b[38;5;66;03m# Commonly used sub-modules. Imported here to provide end-user\u001b[39;00m\n\u001b[1;32m     95\u001b[0m \u001b[38;5;66;03m# convenience.\u001b[39;00m\n\u001b[0;32m---> 96\u001b[0m \u001b[38;5;28;01mimport\u001b[39;00m \u001b[38;5;21;01mcartopy\u001b[39;00m\u001b[38;5;21;01m.\u001b[39;00m\u001b[38;5;21;01mcrs\u001b[39;00m\n\u001b[1;32m     97\u001b[0m \u001b[38;5;28;01mimport\u001b[39;00m \u001b[38;5;21;01mcartopy\u001b[39;00m\u001b[38;5;21;01m.\u001b[39;00m\u001b[38;5;21;01mfeature\u001b[39;00m\n",
      "File \u001b[0;32m/opt/anaconda3/envs/cmip6/lib/python3.9/site-packages/cartopy/crs.py:39\u001b[0m\n\u001b[1;32m     36\u001b[0m \u001b[38;5;28;01mfrom\u001b[39;00m \u001b[38;5;21;01mcartopy\u001b[39;00m\u001b[38;5;21;01m.\u001b[39;00m\u001b[38;5;21;01m_crs\u001b[39;00m \u001b[38;5;28;01mimport\u001b[39;00m (CRS, Geodetic, Globe, PROJ4_VERSION,\n\u001b[1;32m     37\u001b[0m                           WGS84_SEMIMAJOR_AXIS, WGS84_SEMIMINOR_AXIS)\n\u001b[1;32m     38\u001b[0m \u001b[38;5;28;01mfrom\u001b[39;00m \u001b[38;5;21;01mcartopy\u001b[39;00m\u001b[38;5;21;01m.\u001b[39;00m\u001b[38;5;21;01m_crs\u001b[39;00m \u001b[38;5;28;01mimport\u001b[39;00m Geocentric  \u001b[38;5;66;03m# noqa: F401 (flake8 = unused import)\u001b[39;00m\n\u001b[0;32m---> 39\u001b[0m \u001b[38;5;28;01mimport\u001b[39;00m \u001b[38;5;21;01mcartopy\u001b[39;00m\u001b[38;5;21;01m.\u001b[39;00m\u001b[38;5;21;01mtrace\u001b[39;00m\n\u001b[1;32m     42\u001b[0m __document_these__ \u001b[38;5;241m=\u001b[39m [\u001b[38;5;124m'\u001b[39m\u001b[38;5;124mCRS\u001b[39m\u001b[38;5;124m'\u001b[39m, \u001b[38;5;124m'\u001b[39m\u001b[38;5;124mGeocentric\u001b[39m\u001b[38;5;124m'\u001b[39m, \u001b[38;5;124m'\u001b[39m\u001b[38;5;124mGeodetic\u001b[39m\u001b[38;5;124m'\u001b[39m, \u001b[38;5;124m'\u001b[39m\u001b[38;5;124mGlobe\u001b[39m\u001b[38;5;124m'\u001b[39m]\n\u001b[1;32m     45\u001b[0m \u001b[38;5;28;01mclass\u001b[39;00m \u001b[38;5;21;01mRotatedGeodetic\u001b[39;00m(CRS):\n",
      "File \u001b[0;32mlib/cartopy/trace.pyx:72\u001b[0m, in \u001b[0;36minit cartopy.trace\u001b[0;34m()\u001b[0m\n",
      "\u001b[0;31mImportError\u001b[0m: cannot import name lgeos"
     ]
    }
   ],
   "source": [
    "from cartopy.feature import ShapelyFeature\n",
    "import cartopy.io.shapereader as shpreader"
   ]
  },
  {
   "cell_type": "code",
   "execution_count": null,
   "id": "d38e1b55",
   "metadata": {},
   "outputs": [],
   "source": [
    "# add mapping routines\n",
    "import cartopy.crs as ccrs\n",
    "import cartopy.feature as cf\n",
    "import matplotlib.ticker as mticker\n",
    "from cartopy.mpl.gridliner import LONGITUDE_FORMATTER, LATITUDE_FORMATTER\n",
    "import matplotlib.pyplot as plt\n",
    "from matplotlib import cm\n",
    "from matplotlib import colors\n",
    "import pandas as pd\n",
    "import datetime\n",
    "import os"
   ]
  },
  {
   "cell_type": "code",
   "execution_count": null,
   "id": "9226c6ba",
   "metadata": {},
   "outputs": [],
   "source": [
    "shapefile180 = '../../../Misc - Tools/shapefiles/Pacific_Island_EEZ_shifted.shp'\n",
    "shapefile360 = '../../../Misc - Tools/shapefiles/Pacific_Island_EEZ.shp'\n",
    "\n",
    "shpf180 = gpd.read_file(shapefile180)\n",
    "shpf180 = shpf180.loc[:,['COUNTRYNAM','geometry']]\n",
    "shpf360 = gpd.read_file(shapefile360)\n",
    "shpf360['COUNTRYNAM'] = shpf180['COUNTRYNAM']\n",
    "shpf360 = shpf360.loc[:,['COUNTRYNAM','geometry']]"
   ]
  },
  {
   "cell_type": "code",
   "execution_count": null,
   "id": "7097a8c4",
   "metadata": {},
   "outputs": [],
   "source": [
    "def convert_to_datetime(dt):\n",
    "    dt_datetime = datetime.datetime(dt.year, dt.month, dt.day, dt.hour, dt.minute, dt.second)\n",
    "    return dt_datetime"
   ]
  },
  {
   "cell_type": "code",
   "execution_count": null,
   "id": "3afc31e2",
   "metadata": {},
   "outputs": [],
   "source": [
    "ssp119_list = []\n",
    "folder = \"/Users/one/Documents/Palau/2_ocean/2.2_ocean-temperature/2.2.1_mean-sea-surface-temperature/wgetCMIP6/ssp119/\"\n",
    "\n",
    "\n",
    "\n",
    "\n",
    "for x in os.listdir(folder):\n",
    "    if \"tas_day_EC-Earth3_ssp119_r109i1p1f1_gr_\" in x:\n",
    "        ssp119_list.append(xr.open_dataset(folder + x, decode_times=True))"
   ]
  },
  {
   "cell_type": "code",
   "execution_count": null,
   "id": "7ccc992a",
   "metadata": {},
   "outputs": [],
   "source": [
    "def filter_pccm(df):\n",
    "    filtered = df[(df[\"latitude\"]>= -35)&\n",
    "                                (df[\"latitude\"]<=35)&(df[\"longitude\"]<=360-115)&\n",
    "                                (df[\"longitude\"]>=125)]\n",
    "    return filtered"
   ]
  },
  {
   "cell_type": "code",
   "execution_count": null,
   "id": "6ae5b015",
   "metadata": {},
   "outputs": [],
   "source": [
    "ssp119_dfs = []\n",
    "for x in ssp119_list:\n",
    "    df = x.tos.to_dataframe()\n",
    "    df = filter_pccm(df)\n",
    "    ssp119_dfs.append(df.dropna(subset=['tos']))"
   ]
  },
  {
   "cell_type": "code",
   "execution_count": null,
   "id": "363b01a1",
   "metadata": {},
   "outputs": [],
   "source": [
    "master_ssp119 = pd.concat(ssp119_dfs)\n",
    "master_ssp119.to_pickle('master_ssp119_pacific.pkl')\n",
    "master_ssp119.reset_index(inplace = True)"
   ]
  },
  {
   "cell_type": "code",
   "execution_count": null,
   "id": "d0272435",
   "metadata": {},
   "outputs": [],
   "source": [
    "master_ssp119"
   ]
  },
  {
   "cell_type": "code",
   "execution_count": null,
   "id": "b687f8a6",
   "metadata": {},
   "outputs": [],
   "source": [
    "master_ssp119['datetime'] = master_ssp119['time'].apply(convert_to_datetime)"
   ]
  },
  {
   "cell_type": "code",
   "execution_count": null,
   "id": "c3107401",
   "metadata": {},
   "outputs": [],
   "source": [
    "import pandas as pd\n",
    "import numpy as np\n",
    "\n",
    "\n",
    "# Group by latitude and longitude\n",
    "grouped_master = master_ssp119.groupby(['latitude', 'longitude'])\n",
    "\n",
    "# Function to calculate trend per coordinate\n",
    "def calculate_trend(group):\n",
    "    # Convert datetime to numeric values (timestamps)\n",
    "    time_numeric = (group['datetime'] - pd.Timestamp(\"1970-01-01\")) // pd.Timedelta('1s')\n",
    "    \n",
    "    # Extract sst values from the group\n",
    "    sst = group['tos'].values\n",
    "    \n",
    "    # Perform polynomial fit\n",
    "    poly_coeffs = np.polyfit(time_numeric, sst, deg=1)  # Use degree=1 for linear trend\n",
    "    \n",
    "    # Extract the coefficient representing the trend (slope)\n",
    "    trend_coeff = poly_coeffs[0]\n",
    "    \n",
    "    # Convert trend from units per second to units per decade\n",
    "    trend_deg_per_decade = trend_coeff * 10 * 365.25 * 24 * 60 * 60  # As there are 10 years in a decade\n",
    "    \n",
    "    return trend_deg_per_decade\n",
    "\n",
    "# Apply the function to each group and store the results in a DataFrame\n",
    "master_ssp119_trend_results = grouped_master.apply(calculate_trend)\n",
    "master_ssp119_trend_df = master_ssp119_trend_results.reset_index(name='trend')"
   ]
  },
  {
   "cell_type": "code",
   "execution_count": null,
   "id": "b333bb2d",
   "metadata": {},
   "outputs": [],
   "source": [
    "master_ssp119_trend_df['long_test'] = master_ssp119_trend_df['longitude'] - 180"
   ]
  },
  {
   "cell_type": "code",
   "execution_count": null,
   "id": "75d627ef",
   "metadata": {},
   "outputs": [],
   "source": [
    "master_ssp119_trend_df"
   ]
  },
  {
   "cell_type": "code",
   "execution_count": null,
   "id": "2bd5e8c4",
   "metadata": {},
   "outputs": [],
   "source": [
    "# Make the figure\n",
    "fig = plt.figure( figsize = (14, 12) )\n",
    "vmin, vmax = -0.1, 0.3\n",
    "divnorm = colors.TwoSlopeNorm(vmin=vmin, vcenter=0., vmax=vmax)\n",
    "\n",
    "# set projection, center on the Pacific\n",
    "ax = plt.axes(projection = ccrs.PlateCarree(central_longitude=180.0))\n",
    "\n",
    "\n",
    "x_orig = np.asarray(master_ssp126_trend_df.long_test.tolist())\n",
    "y_orig = np.asarray(master_ssp126_trend_df.latitude.tolist())\n",
    "z_orig = np.asarray(master_ssp126_trend_df.trend.tolist())\n",
    "\n",
    "\n",
    "x_arr          = np.linspace(np.min(x_orig), np.max(x_orig), 500)\n",
    "y_arr          = np.linspace(np.min(y_orig), np.max(y_orig), 500)\n",
    "x_mesh, y_mesh = np.meshgrid(x_arr, y_arr)\n",
    "z_mesh = griddata((x_orig, y_orig), z_orig, (x_mesh, y_mesh), method='linear')\n",
    "\n",
    "\n",
    "ctf = plt.contourf(x_mesh, y_mesh,z_mesh, 50,\n",
    "             vmin=vmin,vmax=vmax, cmap=cm.jet)\n",
    "\n",
    "\n",
    "    \n",
    "ax.add_feature(cf.COASTLINE)\n",
    "\n",
    "# add lat/lon labels (left and bottom)\n",
    "gl = ax.gridlines(crs=ccrs.PlateCarree(), draw_labels=True, linewidth=0, color='gray',\n",
    "                alpha=0.75, linestyle='--')\n",
    "gl.xlabels_top = False\n",
    "gl.ylabels_right = False\n",
    "\n",
    "# set label size and color\n",
    "gl.xlabel_style = {'size':15, 'color': 'black'}\n",
    "gl.ylabel_style = {'size':15, 'color': 'black'}\n",
    "\n",
    "# specify where to label\n",
    "gl.xlocator = mticker.FixedLocator([140, 160, 180, -160, -140, -120])\n",
    "gl.ylocator = mticker.FixedLocator([-30, -20, -10, 0, 10, 20, 30])\n",
    "\n",
    "# specify how to label\n",
    "gl.xformatter = LONGITUDE_FORMATTER\n",
    "gl.yformatter = LATITUDE_FORMATTER\n",
    "\n",
    "# add EEZ's as black lines\n",
    "for i, row in shpf180.iterrows():\n",
    "    geom = row.geometry\n",
    "    sp = ShapelyFeature([geom],ccrs.PlateCarree(central_longitude=180.0),\n",
    "                        edgecolor='black',facecolor='none',lw=0.7)\n",
    "    ax.add_feature(sp)\n",
    "    \n",
    "plt.colorbar(cm.ScalarMappable(norm = ctf.norm, cmap = ctf.cmap),orientation='horizontal',\n",
    "             label='$^{\\circ}C$ per decade')\n",
    "\n",
    "plt.title('CMIP6 ssp119 tas Trend ')\n",
    "plt.savefig('projection-sst-ssp119-west-pacific-map.png', format='png',dpi=300,facecolor='white')"
   ]
  }
 ],
 "metadata": {
  "kernelspec": {
   "display_name": "Python 3 (ipykernel)",
   "language": "python",
   "name": "python3"
  },
  "language_info": {
   "codemirror_mode": {
    "name": "ipython",
    "version": 3
   },
   "file_extension": ".py",
   "mimetype": "text/x-python",
   "name": "python",
   "nbconvert_exporter": "python",
   "pygments_lexer": "ipython3",
   "version": "3.9.13"
  }
 },
 "nbformat": 4,
 "nbformat_minor": 5
}
